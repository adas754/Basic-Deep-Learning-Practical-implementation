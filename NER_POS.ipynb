{
  "cells": [
    {
      "cell_type": "code",
      "execution_count": 24,
      "id": "b9bd7254",
      "metadata": {
        "scrolled": true,
        "colab": {
          "base_uri": "https://localhost:8080/"
        },
        "id": "b9bd7254",
        "outputId": "ff012b80-dbc0-4153-9f80-9a5b910034d0"
      },
      "outputs": [
        {
          "output_type": "stream",
          "name": "stdout",
          "text": [
            "Requirement already satisfied: spacy in /usr/local/lib/python3.10/dist-packages (3.6.1)\n",
            "Requirement already satisfied: nltk in /usr/local/lib/python3.10/dist-packages (3.8.1)\n",
            "Collecting svgling\n",
            "  Downloading svgling-0.4.0-py3-none-any.whl (23 kB)\n",
            "Collecting spacy-transformers\n",
            "  Downloading spacy_transformers-1.3.3-cp310-cp310-manylinux_2_17_x86_64.manylinux2014_x86_64.whl (197 kB)\n",
            "\u001b[2K     \u001b[90m━━━━━━━━━━━━━━━━━━━━━━━━━━━━━━━━━━━━━━━━\u001b[0m \u001b[32m197.8/197.8 kB\u001b[0m \u001b[31m5.1 MB/s\u001b[0m eta \u001b[36m0:00:00\u001b[0m\n",
            "\u001b[?25hRequirement already satisfied: spacy-legacy<3.1.0,>=3.0.11 in /usr/local/lib/python3.10/dist-packages (from spacy) (3.0.12)\n",
            "Requirement already satisfied: spacy-loggers<2.0.0,>=1.0.0 in /usr/local/lib/python3.10/dist-packages (from spacy) (1.0.5)\n",
            "Requirement already satisfied: murmurhash<1.1.0,>=0.28.0 in /usr/local/lib/python3.10/dist-packages (from spacy) (1.0.10)\n",
            "Requirement already satisfied: cymem<2.1.0,>=2.0.2 in /usr/local/lib/python3.10/dist-packages (from spacy) (2.0.8)\n",
            "Requirement already satisfied: preshed<3.1.0,>=3.0.2 in /usr/local/lib/python3.10/dist-packages (from spacy) (3.0.9)\n",
            "Requirement already satisfied: thinc<8.2.0,>=8.1.8 in /usr/local/lib/python3.10/dist-packages (from spacy) (8.1.12)\n",
            "Requirement already satisfied: wasabi<1.2.0,>=0.9.1 in /usr/local/lib/python3.10/dist-packages (from spacy) (1.1.2)\n",
            "Requirement already satisfied: srsly<3.0.0,>=2.4.3 in /usr/local/lib/python3.10/dist-packages (from spacy) (2.4.8)\n",
            "Requirement already satisfied: catalogue<2.1.0,>=2.0.6 in /usr/local/lib/python3.10/dist-packages (from spacy) (2.0.10)\n",
            "Requirement already satisfied: typer<0.10.0,>=0.3.0 in /usr/local/lib/python3.10/dist-packages (from spacy) (0.9.0)\n",
            "Requirement already satisfied: pathy>=0.10.0 in /usr/local/lib/python3.10/dist-packages (from spacy) (0.10.3)\n",
            "Requirement already satisfied: smart-open<7.0.0,>=5.2.1 in /usr/local/lib/python3.10/dist-packages (from spacy) (6.4.0)\n",
            "Requirement already satisfied: tqdm<5.0.0,>=4.38.0 in /usr/local/lib/python3.10/dist-packages (from spacy) (4.66.1)\n",
            "Requirement already satisfied: numpy>=1.15.0 in /usr/local/lib/python3.10/dist-packages (from spacy) (1.23.5)\n",
            "Requirement already satisfied: requests<3.0.0,>=2.13.0 in /usr/local/lib/python3.10/dist-packages (from spacy) (2.31.0)\n",
            "Requirement already satisfied: pydantic!=1.8,!=1.8.1,<3.0.0,>=1.7.4 in /usr/local/lib/python3.10/dist-packages (from spacy) (1.10.13)\n",
            "Requirement already satisfied: jinja2 in /usr/local/lib/python3.10/dist-packages (from spacy) (3.1.2)\n",
            "Requirement already satisfied: setuptools in /usr/local/lib/python3.10/dist-packages (from spacy) (67.7.2)\n",
            "Requirement already satisfied: packaging>=20.0 in /usr/local/lib/python3.10/dist-packages (from spacy) (23.2)\n",
            "Requirement already satisfied: langcodes<4.0.0,>=3.2.0 in /usr/local/lib/python3.10/dist-packages (from spacy) (3.3.0)\n",
            "Requirement already satisfied: click in /usr/local/lib/python3.10/dist-packages (from nltk) (8.1.7)\n",
            "Requirement already satisfied: joblib in /usr/local/lib/python3.10/dist-packages (from nltk) (1.3.2)\n",
            "Requirement already satisfied: regex>=2021.8.3 in /usr/local/lib/python3.10/dist-packages (from nltk) (2023.6.3)\n",
            "Collecting svgwrite (from svgling)\n",
            "  Downloading svgwrite-1.4.3-py3-none-any.whl (67 kB)\n",
            "\u001b[2K     \u001b[90m━━━━━━━━━━━━━━━━━━━━━━━━━━━━━━━━━━━━━━━━\u001b[0m \u001b[32m67.1/67.1 kB\u001b[0m \u001b[31m4.9 MB/s\u001b[0m eta \u001b[36m0:00:00\u001b[0m\n",
            "\u001b[?25hRequirement already satisfied: transformers<4.36.0,>=3.4.0 in /usr/local/lib/python3.10/dist-packages (from spacy-transformers) (4.35.2)\n",
            "Requirement already satisfied: torch>=1.8.0 in /usr/local/lib/python3.10/dist-packages (from spacy-transformers) (2.1.0+cu121)\n",
            "Collecting spacy-alignments<1.0.0,>=0.7.2 (from spacy-transformers)\n",
            "  Downloading spacy_alignments-0.9.1-cp310-cp310-manylinux_2_17_x86_64.manylinux2014_x86_64.whl (313 kB)\n",
            "\u001b[2K     \u001b[90m━━━━━━━━━━━━━━━━━━━━━━━━━━━━━━━━━━━━━━━━\u001b[0m \u001b[32m314.0/314.0 kB\u001b[0m \u001b[31m11.5 MB/s\u001b[0m eta \u001b[36m0:00:00\u001b[0m\n",
            "\u001b[?25hRequirement already satisfied: typing-extensions>=4.2.0 in /usr/local/lib/python3.10/dist-packages (from pydantic!=1.8,!=1.8.1,<3.0.0,>=1.7.4->spacy) (4.5.0)\n",
            "Requirement already satisfied: charset-normalizer<4,>=2 in /usr/local/lib/python3.10/dist-packages (from requests<3.0.0,>=2.13.0->spacy) (3.3.2)\n",
            "Requirement already satisfied: idna<4,>=2.5 in /usr/local/lib/python3.10/dist-packages (from requests<3.0.0,>=2.13.0->spacy) (3.6)\n",
            "Requirement already satisfied: urllib3<3,>=1.21.1 in /usr/local/lib/python3.10/dist-packages (from requests<3.0.0,>=2.13.0->spacy) (2.0.7)\n",
            "Requirement already satisfied: certifi>=2017.4.17 in /usr/local/lib/python3.10/dist-packages (from requests<3.0.0,>=2.13.0->spacy) (2023.11.17)\n",
            "Requirement already satisfied: blis<0.8.0,>=0.7.8 in /usr/local/lib/python3.10/dist-packages (from thinc<8.2.0,>=8.1.8->spacy) (0.7.11)\n",
            "Requirement already satisfied: confection<1.0.0,>=0.0.1 in /usr/local/lib/python3.10/dist-packages (from thinc<8.2.0,>=8.1.8->spacy) (0.1.4)\n",
            "Requirement already satisfied: filelock in /usr/local/lib/python3.10/dist-packages (from torch>=1.8.0->spacy-transformers) (3.13.1)\n",
            "Requirement already satisfied: sympy in /usr/local/lib/python3.10/dist-packages (from torch>=1.8.0->spacy-transformers) (1.12)\n",
            "Requirement already satisfied: networkx in /usr/local/lib/python3.10/dist-packages (from torch>=1.8.0->spacy-transformers) (3.2.1)\n",
            "Requirement already satisfied: fsspec in /usr/local/lib/python3.10/dist-packages (from torch>=1.8.0->spacy-transformers) (2023.6.0)\n",
            "Requirement already satisfied: triton==2.1.0 in /usr/local/lib/python3.10/dist-packages (from torch>=1.8.0->spacy-transformers) (2.1.0)\n",
            "Requirement already satisfied: huggingface-hub<1.0,>=0.16.4 in /usr/local/lib/python3.10/dist-packages (from transformers<4.36.0,>=3.4.0->spacy-transformers) (0.19.4)\n",
            "Requirement already satisfied: pyyaml>=5.1 in /usr/local/lib/python3.10/dist-packages (from transformers<4.36.0,>=3.4.0->spacy-transformers) (6.0.1)\n",
            "Requirement already satisfied: tokenizers<0.19,>=0.14 in /usr/local/lib/python3.10/dist-packages (from transformers<4.36.0,>=3.4.0->spacy-transformers) (0.15.0)\n",
            "Requirement already satisfied: safetensors>=0.3.1 in /usr/local/lib/python3.10/dist-packages (from transformers<4.36.0,>=3.4.0->spacy-transformers) (0.4.1)\n",
            "Requirement already satisfied: MarkupSafe>=2.0 in /usr/local/lib/python3.10/dist-packages (from jinja2->spacy) (2.1.3)\n",
            "Requirement already satisfied: mpmath>=0.19 in /usr/local/lib/python3.10/dist-packages (from sympy->torch>=1.8.0->spacy-transformers) (1.3.0)\n",
            "Installing collected packages: svgwrite, spacy-alignments, svgling, spacy-transformers\n",
            "Successfully installed spacy-alignments-0.9.1 spacy-transformers-1.3.3 svgling-0.4.0 svgwrite-1.4.3\n"
          ]
        }
      ],
      "source": [
        "!pip install spacy nltk svgling spacy-transformers"
      ]
    },
    {
      "cell_type": "code",
      "execution_count": 25,
      "id": "51afdcbc",
      "metadata": {
        "colab": {
          "base_uri": "https://localhost:8080/"
        },
        "id": "51afdcbc",
        "outputId": "46bf50fe-2413-40a5-d381-be09146747df"
      },
      "outputs": [
        {
          "output_type": "stream",
          "name": "stdout",
          "text": [
            "2023-12-18 19:55:07.444164: E external/local_xla/xla/stream_executor/cuda/cuda_dnn.cc:9261] Unable to register cuDNN factory: Attempting to register factory for plugin cuDNN when one has already been registered\n",
            "2023-12-18 19:55:07.444229: E external/local_xla/xla/stream_executor/cuda/cuda_fft.cc:607] Unable to register cuFFT factory: Attempting to register factory for plugin cuFFT when one has already been registered\n",
            "2023-12-18 19:55:07.445990: E external/local_xla/xla/stream_executor/cuda/cuda_blas.cc:1515] Unable to register cuBLAS factory: Attempting to register factory for plugin cuBLAS when one has already been registered\n",
            "2023-12-18 19:55:09.070808: W tensorflow/compiler/tf2tensorrt/utils/py_utils.cc:38] TF-TRT Warning: Could not find TensorRT\n",
            "Collecting en-core-web-sm==3.6.0\n",
            "  Downloading https://github.com/explosion/spacy-models/releases/download/en_core_web_sm-3.6.0/en_core_web_sm-3.6.0-py3-none-any.whl (12.8 MB)\n",
            "\u001b[2K     \u001b[90m━━━━━━━━━━━━━━━━━━━━━━━━━━━━━━━━━━━━━━━━\u001b[0m \u001b[32m12.8/12.8 MB\u001b[0m \u001b[31m32.7 MB/s\u001b[0m eta \u001b[36m0:00:00\u001b[0m\n",
            "\u001b[?25hRequirement already satisfied: spacy<3.7.0,>=3.6.0 in /usr/local/lib/python3.10/dist-packages (from en-core-web-sm==3.6.0) (3.6.1)\n",
            "Requirement already satisfied: spacy-legacy<3.1.0,>=3.0.11 in /usr/local/lib/python3.10/dist-packages (from spacy<3.7.0,>=3.6.0->en-core-web-sm==3.6.0) (3.0.12)\n",
            "Requirement already satisfied: spacy-loggers<2.0.0,>=1.0.0 in /usr/local/lib/python3.10/dist-packages (from spacy<3.7.0,>=3.6.0->en-core-web-sm==3.6.0) (1.0.5)\n",
            "Requirement already satisfied: murmurhash<1.1.0,>=0.28.0 in /usr/local/lib/python3.10/dist-packages (from spacy<3.7.0,>=3.6.0->en-core-web-sm==3.6.0) (1.0.10)\n",
            "Requirement already satisfied: cymem<2.1.0,>=2.0.2 in /usr/local/lib/python3.10/dist-packages (from spacy<3.7.0,>=3.6.0->en-core-web-sm==3.6.0) (2.0.8)\n",
            "Requirement already satisfied: preshed<3.1.0,>=3.0.2 in /usr/local/lib/python3.10/dist-packages (from spacy<3.7.0,>=3.6.0->en-core-web-sm==3.6.0) (3.0.9)\n",
            "Requirement already satisfied: thinc<8.2.0,>=8.1.8 in /usr/local/lib/python3.10/dist-packages (from spacy<3.7.0,>=3.6.0->en-core-web-sm==3.6.0) (8.1.12)\n",
            "Requirement already satisfied: wasabi<1.2.0,>=0.9.1 in /usr/local/lib/python3.10/dist-packages (from spacy<3.7.0,>=3.6.0->en-core-web-sm==3.6.0) (1.1.2)\n",
            "Requirement already satisfied: srsly<3.0.0,>=2.4.3 in /usr/local/lib/python3.10/dist-packages (from spacy<3.7.0,>=3.6.0->en-core-web-sm==3.6.0) (2.4.8)\n",
            "Requirement already satisfied: catalogue<2.1.0,>=2.0.6 in /usr/local/lib/python3.10/dist-packages (from spacy<3.7.0,>=3.6.0->en-core-web-sm==3.6.0) (2.0.10)\n",
            "Requirement already satisfied: typer<0.10.0,>=0.3.0 in /usr/local/lib/python3.10/dist-packages (from spacy<3.7.0,>=3.6.0->en-core-web-sm==3.6.0) (0.9.0)\n",
            "Requirement already satisfied: pathy>=0.10.0 in /usr/local/lib/python3.10/dist-packages (from spacy<3.7.0,>=3.6.0->en-core-web-sm==3.6.0) (0.10.3)\n",
            "Requirement already satisfied: smart-open<7.0.0,>=5.2.1 in /usr/local/lib/python3.10/dist-packages (from spacy<3.7.0,>=3.6.0->en-core-web-sm==3.6.0) (6.4.0)\n",
            "Requirement already satisfied: tqdm<5.0.0,>=4.38.0 in /usr/local/lib/python3.10/dist-packages (from spacy<3.7.0,>=3.6.0->en-core-web-sm==3.6.0) (4.66.1)\n",
            "Requirement already satisfied: numpy>=1.15.0 in /usr/local/lib/python3.10/dist-packages (from spacy<3.7.0,>=3.6.0->en-core-web-sm==3.6.0) (1.23.5)\n",
            "Requirement already satisfied: requests<3.0.0,>=2.13.0 in /usr/local/lib/python3.10/dist-packages (from spacy<3.7.0,>=3.6.0->en-core-web-sm==3.6.0) (2.31.0)\n",
            "Requirement already satisfied: pydantic!=1.8,!=1.8.1,<3.0.0,>=1.7.4 in /usr/local/lib/python3.10/dist-packages (from spacy<3.7.0,>=3.6.0->en-core-web-sm==3.6.0) (1.10.13)\n",
            "Requirement already satisfied: jinja2 in /usr/local/lib/python3.10/dist-packages (from spacy<3.7.0,>=3.6.0->en-core-web-sm==3.6.0) (3.1.2)\n",
            "Requirement already satisfied: setuptools in /usr/local/lib/python3.10/dist-packages (from spacy<3.7.0,>=3.6.0->en-core-web-sm==3.6.0) (67.7.2)\n",
            "Requirement already satisfied: packaging>=20.0 in /usr/local/lib/python3.10/dist-packages (from spacy<3.7.0,>=3.6.0->en-core-web-sm==3.6.0) (23.2)\n",
            "Requirement already satisfied: langcodes<4.0.0,>=3.2.0 in /usr/local/lib/python3.10/dist-packages (from spacy<3.7.0,>=3.6.0->en-core-web-sm==3.6.0) (3.3.0)\n",
            "Requirement already satisfied: typing-extensions>=4.2.0 in /usr/local/lib/python3.10/dist-packages (from pydantic!=1.8,!=1.8.1,<3.0.0,>=1.7.4->spacy<3.7.0,>=3.6.0->en-core-web-sm==3.6.0) (4.5.0)\n",
            "Requirement already satisfied: charset-normalizer<4,>=2 in /usr/local/lib/python3.10/dist-packages (from requests<3.0.0,>=2.13.0->spacy<3.7.0,>=3.6.0->en-core-web-sm==3.6.0) (3.3.2)\n",
            "Requirement already satisfied: idna<4,>=2.5 in /usr/local/lib/python3.10/dist-packages (from requests<3.0.0,>=2.13.0->spacy<3.7.0,>=3.6.0->en-core-web-sm==3.6.0) (3.6)\n",
            "Requirement already satisfied: urllib3<3,>=1.21.1 in /usr/local/lib/python3.10/dist-packages (from requests<3.0.0,>=2.13.0->spacy<3.7.0,>=3.6.0->en-core-web-sm==3.6.0) (2.0.7)\n",
            "Requirement already satisfied: certifi>=2017.4.17 in /usr/local/lib/python3.10/dist-packages (from requests<3.0.0,>=2.13.0->spacy<3.7.0,>=3.6.0->en-core-web-sm==3.6.0) (2023.11.17)\n",
            "Requirement already satisfied: blis<0.8.0,>=0.7.8 in /usr/local/lib/python3.10/dist-packages (from thinc<8.2.0,>=8.1.8->spacy<3.7.0,>=3.6.0->en-core-web-sm==3.6.0) (0.7.11)\n",
            "Requirement already satisfied: confection<1.0.0,>=0.0.1 in /usr/local/lib/python3.10/dist-packages (from thinc<8.2.0,>=8.1.8->spacy<3.7.0,>=3.6.0->en-core-web-sm==3.6.0) (0.1.4)\n",
            "Requirement already satisfied: click<9.0.0,>=7.1.1 in /usr/local/lib/python3.10/dist-packages (from typer<0.10.0,>=0.3.0->spacy<3.7.0,>=3.6.0->en-core-web-sm==3.6.0) (8.1.7)\n",
            "Requirement already satisfied: MarkupSafe>=2.0 in /usr/local/lib/python3.10/dist-packages (from jinja2->spacy<3.7.0,>=3.6.0->en-core-web-sm==3.6.0) (2.1.3)\n",
            "\u001b[38;5;2m✔ Download and installation successful\u001b[0m\n",
            "You can now load the package via spacy.load('en_core_web_sm')\n"
          ]
        }
      ],
      "source": [
        "!python -m spacy download en_core_web_sm"
      ]
    },
    {
      "cell_type": "code",
      "execution_count": 26,
      "id": "33012f3b",
      "metadata": {
        "colab": {
          "base_uri": "https://localhost:8080/"
        },
        "id": "33012f3b",
        "outputId": "5eeac598-4d69-4c77-9834-a57e35a4727c"
      },
      "outputs": [
        {
          "output_type": "stream",
          "name": "stdout",
          "text": [
            "2023-12-18 19:55:34.463451: E external/local_xla/xla/stream_executor/cuda/cuda_dnn.cc:9261] Unable to register cuDNN factory: Attempting to register factory for plugin cuDNN when one has already been registered\n",
            "2023-12-18 19:55:34.463525: E external/local_xla/xla/stream_executor/cuda/cuda_fft.cc:607] Unable to register cuFFT factory: Attempting to register factory for plugin cuFFT when one has already been registered\n",
            "2023-12-18 19:55:34.464811: E external/local_xla/xla/stream_executor/cuda/cuda_blas.cc:1515] Unable to register cuBLAS factory: Attempting to register factory for plugin cuBLAS when one has already been registered\n",
            "2023-12-18 19:55:35.788684: W tensorflow/compiler/tf2tensorrt/utils/py_utils.cc:38] TF-TRT Warning: Could not find TensorRT\n",
            "Collecting en-core-web-trf==3.6.1\n",
            "  Downloading https://github.com/explosion/spacy-models/releases/download/en_core_web_trf-3.6.1/en_core_web_trf-3.6.1-py3-none-any.whl (460.3 MB)\n",
            "\u001b[2K     \u001b[90m━━━━━━━━━━━━━━━━━━━━━━━━━━━━━━━━━━━━━━━━\u001b[0m \u001b[32m460.3/460.3 MB\u001b[0m \u001b[31m2.0 MB/s\u001b[0m eta \u001b[36m0:00:00\u001b[0m\n",
            "\u001b[?25hRequirement already satisfied: spacy<3.7.0,>=3.6.0 in /usr/local/lib/python3.10/dist-packages (from en-core-web-trf==3.6.1) (3.6.1)\n",
            "Collecting spacy-transformers<1.3.0,>=1.2.2 (from en-core-web-trf==3.6.1)\n",
            "  Downloading spacy_transformers-1.2.5-cp310-cp310-manylinux_2_17_x86_64.manylinux2014_x86_64.whl (190 kB)\n",
            "\u001b[2K     \u001b[90m━━━━━━━━━━━━━━━━━━━━━━━━━━━━━━━━━━━━━━━━\u001b[0m \u001b[32m190.8/190.8 kB\u001b[0m \u001b[31m1.2 MB/s\u001b[0m eta \u001b[36m0:00:00\u001b[0m\n",
            "\u001b[?25hRequirement already satisfied: spacy-legacy<3.1.0,>=3.0.11 in /usr/local/lib/python3.10/dist-packages (from spacy<3.7.0,>=3.6.0->en-core-web-trf==3.6.1) (3.0.12)\n",
            "Requirement already satisfied: spacy-loggers<2.0.0,>=1.0.0 in /usr/local/lib/python3.10/dist-packages (from spacy<3.7.0,>=3.6.0->en-core-web-trf==3.6.1) (1.0.5)\n",
            "Requirement already satisfied: murmurhash<1.1.0,>=0.28.0 in /usr/local/lib/python3.10/dist-packages (from spacy<3.7.0,>=3.6.0->en-core-web-trf==3.6.1) (1.0.10)\n",
            "Requirement already satisfied: cymem<2.1.0,>=2.0.2 in /usr/local/lib/python3.10/dist-packages (from spacy<3.7.0,>=3.6.0->en-core-web-trf==3.6.1) (2.0.8)\n",
            "Requirement already satisfied: preshed<3.1.0,>=3.0.2 in /usr/local/lib/python3.10/dist-packages (from spacy<3.7.0,>=3.6.0->en-core-web-trf==3.6.1) (3.0.9)\n",
            "Requirement already satisfied: thinc<8.2.0,>=8.1.8 in /usr/local/lib/python3.10/dist-packages (from spacy<3.7.0,>=3.6.0->en-core-web-trf==3.6.1) (8.1.12)\n",
            "Requirement already satisfied: wasabi<1.2.0,>=0.9.1 in /usr/local/lib/python3.10/dist-packages (from spacy<3.7.0,>=3.6.0->en-core-web-trf==3.6.1) (1.1.2)\n",
            "Requirement already satisfied: srsly<3.0.0,>=2.4.3 in /usr/local/lib/python3.10/dist-packages (from spacy<3.7.0,>=3.6.0->en-core-web-trf==3.6.1) (2.4.8)\n",
            "Requirement already satisfied: catalogue<2.1.0,>=2.0.6 in /usr/local/lib/python3.10/dist-packages (from spacy<3.7.0,>=3.6.0->en-core-web-trf==3.6.1) (2.0.10)\n",
            "Requirement already satisfied: typer<0.10.0,>=0.3.0 in /usr/local/lib/python3.10/dist-packages (from spacy<3.7.0,>=3.6.0->en-core-web-trf==3.6.1) (0.9.0)\n",
            "Requirement already satisfied: pathy>=0.10.0 in /usr/local/lib/python3.10/dist-packages (from spacy<3.7.0,>=3.6.0->en-core-web-trf==3.6.1) (0.10.3)\n",
            "Requirement already satisfied: smart-open<7.0.0,>=5.2.1 in /usr/local/lib/python3.10/dist-packages (from spacy<3.7.0,>=3.6.0->en-core-web-trf==3.6.1) (6.4.0)\n",
            "Requirement already satisfied: tqdm<5.0.0,>=4.38.0 in /usr/local/lib/python3.10/dist-packages (from spacy<3.7.0,>=3.6.0->en-core-web-trf==3.6.1) (4.66.1)\n",
            "Requirement already satisfied: numpy>=1.15.0 in /usr/local/lib/python3.10/dist-packages (from spacy<3.7.0,>=3.6.0->en-core-web-trf==3.6.1) (1.23.5)\n",
            "Requirement already satisfied: requests<3.0.0,>=2.13.0 in /usr/local/lib/python3.10/dist-packages (from spacy<3.7.0,>=3.6.0->en-core-web-trf==3.6.1) (2.31.0)\n",
            "Requirement already satisfied: pydantic!=1.8,!=1.8.1,<3.0.0,>=1.7.4 in /usr/local/lib/python3.10/dist-packages (from spacy<3.7.0,>=3.6.0->en-core-web-trf==3.6.1) (1.10.13)\n",
            "Requirement already satisfied: jinja2 in /usr/local/lib/python3.10/dist-packages (from spacy<3.7.0,>=3.6.0->en-core-web-trf==3.6.1) (3.1.2)\n",
            "Requirement already satisfied: setuptools in /usr/local/lib/python3.10/dist-packages (from spacy<3.7.0,>=3.6.0->en-core-web-trf==3.6.1) (67.7.2)\n",
            "Requirement already satisfied: packaging>=20.0 in /usr/local/lib/python3.10/dist-packages (from spacy<3.7.0,>=3.6.0->en-core-web-trf==3.6.1) (23.2)\n",
            "Requirement already satisfied: langcodes<4.0.0,>=3.2.0 in /usr/local/lib/python3.10/dist-packages (from spacy<3.7.0,>=3.6.0->en-core-web-trf==3.6.1) (3.3.0)\n",
            "Collecting transformers<4.31.0,>=3.4.0 (from spacy-transformers<1.3.0,>=1.2.2->en-core-web-trf==3.6.1)\n",
            "  Downloading transformers-4.30.2-py3-none-any.whl (7.2 MB)\n",
            "\u001b[2K     \u001b[90m━━━━━━━━━━━━━━━━━━━━━━━━━━━━━━━━━━━━━━━━\u001b[0m \u001b[32m7.2/7.2 MB\u001b[0m \u001b[31m14.4 MB/s\u001b[0m eta \u001b[36m0:00:00\u001b[0m\n",
            "\u001b[?25hRequirement already satisfied: torch>=1.8.0 in /usr/local/lib/python3.10/dist-packages (from spacy-transformers<1.3.0,>=1.2.2->en-core-web-trf==3.6.1) (2.1.0+cu121)\n",
            "Requirement already satisfied: spacy-alignments<1.0.0,>=0.7.2 in /usr/local/lib/python3.10/dist-packages (from spacy-transformers<1.3.0,>=1.2.2->en-core-web-trf==3.6.1) (0.9.1)\n",
            "Requirement already satisfied: typing-extensions>=4.2.0 in /usr/local/lib/python3.10/dist-packages (from pydantic!=1.8,!=1.8.1,<3.0.0,>=1.7.4->spacy<3.7.0,>=3.6.0->en-core-web-trf==3.6.1) (4.5.0)\n",
            "Requirement already satisfied: charset-normalizer<4,>=2 in /usr/local/lib/python3.10/dist-packages (from requests<3.0.0,>=2.13.0->spacy<3.7.0,>=3.6.0->en-core-web-trf==3.6.1) (3.3.2)\n",
            "Requirement already satisfied: idna<4,>=2.5 in /usr/local/lib/python3.10/dist-packages (from requests<3.0.0,>=2.13.0->spacy<3.7.0,>=3.6.0->en-core-web-trf==3.6.1) (3.6)\n",
            "Requirement already satisfied: urllib3<3,>=1.21.1 in /usr/local/lib/python3.10/dist-packages (from requests<3.0.0,>=2.13.0->spacy<3.7.0,>=3.6.0->en-core-web-trf==3.6.1) (2.0.7)\n",
            "Requirement already satisfied: certifi>=2017.4.17 in /usr/local/lib/python3.10/dist-packages (from requests<3.0.0,>=2.13.0->spacy<3.7.0,>=3.6.0->en-core-web-trf==3.6.1) (2023.11.17)\n",
            "Requirement already satisfied: blis<0.8.0,>=0.7.8 in /usr/local/lib/python3.10/dist-packages (from thinc<8.2.0,>=8.1.8->spacy<3.7.0,>=3.6.0->en-core-web-trf==3.6.1) (0.7.11)\n",
            "Requirement already satisfied: confection<1.0.0,>=0.0.1 in /usr/local/lib/python3.10/dist-packages (from thinc<8.2.0,>=8.1.8->spacy<3.7.0,>=3.6.0->en-core-web-trf==3.6.1) (0.1.4)\n",
            "Requirement already satisfied: filelock in /usr/local/lib/python3.10/dist-packages (from torch>=1.8.0->spacy-transformers<1.3.0,>=1.2.2->en-core-web-trf==3.6.1) (3.13.1)\n",
            "Requirement already satisfied: sympy in /usr/local/lib/python3.10/dist-packages (from torch>=1.8.0->spacy-transformers<1.3.0,>=1.2.2->en-core-web-trf==3.6.1) (1.12)\n",
            "Requirement already satisfied: networkx in /usr/local/lib/python3.10/dist-packages (from torch>=1.8.0->spacy-transformers<1.3.0,>=1.2.2->en-core-web-trf==3.6.1) (3.2.1)\n",
            "Requirement already satisfied: fsspec in /usr/local/lib/python3.10/dist-packages (from torch>=1.8.0->spacy-transformers<1.3.0,>=1.2.2->en-core-web-trf==3.6.1) (2023.6.0)\n",
            "Requirement already satisfied: triton==2.1.0 in /usr/local/lib/python3.10/dist-packages (from torch>=1.8.0->spacy-transformers<1.3.0,>=1.2.2->en-core-web-trf==3.6.1) (2.1.0)\n",
            "Requirement already satisfied: huggingface-hub<1.0,>=0.14.1 in /usr/local/lib/python3.10/dist-packages (from transformers<4.31.0,>=3.4.0->spacy-transformers<1.3.0,>=1.2.2->en-core-web-trf==3.6.1) (0.19.4)\n",
            "Requirement already satisfied: pyyaml>=5.1 in /usr/local/lib/python3.10/dist-packages (from transformers<4.31.0,>=3.4.0->spacy-transformers<1.3.0,>=1.2.2->en-core-web-trf==3.6.1) (6.0.1)\n",
            "Requirement already satisfied: regex!=2019.12.17 in /usr/local/lib/python3.10/dist-packages (from transformers<4.31.0,>=3.4.0->spacy-transformers<1.3.0,>=1.2.2->en-core-web-trf==3.6.1) (2023.6.3)\n",
            "Collecting tokenizers!=0.11.3,<0.14,>=0.11.1 (from transformers<4.31.0,>=3.4.0->spacy-transformers<1.3.0,>=1.2.2->en-core-web-trf==3.6.1)\n",
            "  Downloading tokenizers-0.13.3-cp310-cp310-manylinux_2_17_x86_64.manylinux2014_x86_64.whl (7.8 MB)\n",
            "\u001b[2K     \u001b[90m━━━━━━━━━━━━━━━━━━━━━━━━━━━━━━━━━━━━━━━━\u001b[0m \u001b[32m7.8/7.8 MB\u001b[0m \u001b[31m31.5 MB/s\u001b[0m eta \u001b[36m0:00:00\u001b[0m\n",
            "\u001b[?25hRequirement already satisfied: safetensors>=0.3.1 in /usr/local/lib/python3.10/dist-packages (from transformers<4.31.0,>=3.4.0->spacy-transformers<1.3.0,>=1.2.2->en-core-web-trf==3.6.1) (0.4.1)\n",
            "Requirement already satisfied: click<9.0.0,>=7.1.1 in /usr/local/lib/python3.10/dist-packages (from typer<0.10.0,>=0.3.0->spacy<3.7.0,>=3.6.0->en-core-web-trf==3.6.1) (8.1.7)\n",
            "Requirement already satisfied: MarkupSafe>=2.0 in /usr/local/lib/python3.10/dist-packages (from jinja2->spacy<3.7.0,>=3.6.0->en-core-web-trf==3.6.1) (2.1.3)\n",
            "Requirement already satisfied: mpmath>=0.19 in /usr/local/lib/python3.10/dist-packages (from sympy->torch>=1.8.0->spacy-transformers<1.3.0,>=1.2.2->en-core-web-trf==3.6.1) (1.3.0)\n",
            "Installing collected packages: tokenizers, transformers, spacy-transformers, en-core-web-trf\n",
            "  Attempting uninstall: tokenizers\n",
            "    Found existing installation: tokenizers 0.15.0\n",
            "    Uninstalling tokenizers-0.15.0:\n",
            "      Successfully uninstalled tokenizers-0.15.0\n",
            "  Attempting uninstall: transformers\n",
            "    Found existing installation: transformers 4.35.2\n",
            "    Uninstalling transformers-4.35.2:\n",
            "      Successfully uninstalled transformers-4.35.2\n",
            "  Attempting uninstall: spacy-transformers\n",
            "    Found existing installation: spacy-transformers 1.3.3\n",
            "    Uninstalling spacy-transformers-1.3.3:\n",
            "      Successfully uninstalled spacy-transformers-1.3.3\n",
            "Successfully installed en-core-web-trf-3.6.1 spacy-transformers-1.2.5 tokenizers-0.13.3 transformers-4.30.2\n",
            "\u001b[38;5;2m✔ Download and installation successful\u001b[0m\n",
            "You can now load the package via spacy.load('en_core_web_trf')\n"
          ]
        }
      ],
      "source": [
        "!python -m spacy download en_core_web_trf"
      ]
    },
    {
      "cell_type": "code",
      "execution_count": null,
      "id": "ca617919",
      "metadata": {
        "id": "ca617919"
      },
      "outputs": [],
      "source": [
        "## Spcay Models\n",
        "#\"language_type_genre_size\"\n",
        "# size => sm, md, lg, trf\n",
        "# sm => Small\n",
        "# md => Medium\n",
        "# lg => Large\n",
        "# trf => Transformer"
      ]
    },
    {
      "cell_type": "code",
      "execution_count": 27,
      "id": "81375679",
      "metadata": {
        "id": "81375679"
      },
      "outputs": [],
      "source": [
        "import spacy\n",
        "from spacy import displacy\n",
        "from spacy import tokenizer\n",
        "import spacy_transformers # Import if using Transformer based\n",
        "# pre trained model, Even though not using this"
      ]
    },
    {
      "cell_type": "code",
      "execution_count": 28,
      "id": "27d49343",
      "metadata": {
        "id": "27d49343"
      },
      "outputs": [],
      "source": [
        "nlp = spacy.load('en_core_web_sm')"
      ]
    },
    {
      "cell_type": "code",
      "execution_count": 29,
      "id": "29bd8a09",
      "metadata": {
        "id": "29bd8a09"
      },
      "outputs": [],
      "source": [
        "trf_nlp = spacy.load('en_core_web_trf')"
      ]
    },
    {
      "cell_type": "code",
      "execution_count": 30,
      "id": "963154f0",
      "metadata": {
        "id": "963154f0"
      },
      "outputs": [],
      "source": [
        "text = 'Elon Musk bought Twitter for $45 billion'"
      ]
    },
    {
      "cell_type": "code",
      "execution_count": 31,
      "id": "afaea6a6",
      "metadata": {
        "colab": {
          "base_uri": "https://localhost:8080/"
        },
        "id": "afaea6a6",
        "outputId": "5e0e1848-b6c5-4ca9-9f7c-0ce2e24f0c81"
      },
      "outputs": [
        {
          "output_type": "execute_result",
          "data": {
            "text/plain": [
              "['tok2vec', 'tagger', 'parser', 'attribute_ruler', 'lemmatizer', 'ner']"
            ]
          },
          "metadata": {},
          "execution_count": 31
        }
      ],
      "source": [
        "nlp.pipe_names"
      ]
    },
    {
      "cell_type": "code",
      "execution_count": 32,
      "id": "647ac4fc",
      "metadata": {
        "id": "647ac4fc"
      },
      "outputs": [],
      "source": [
        "document = nlp(text)"
      ]
    },
    {
      "cell_type": "code",
      "execution_count": 33,
      "id": "cbde59a2",
      "metadata": {
        "colab": {
          "base_uri": "https://localhost:8080/"
        },
        "id": "cbde59a2",
        "outputId": "9925fe8d-baad-40fb-dd23-7e454e24459f"
      },
      "outputs": [
        {
          "output_type": "execute_result",
          "data": {
            "text/plain": [
              "Elon Musk bought Twitter for $45 billion"
            ]
          },
          "metadata": {},
          "execution_count": 33
        }
      ],
      "source": [
        "document.doc # Sentences"
      ]
    },
    {
      "cell_type": "code",
      "execution_count": 34,
      "id": "6a9dd9ed",
      "metadata": {
        "colab": {
          "base_uri": "https://localhost:8080/"
        },
        "id": "6a9dd9ed",
        "outputId": "c7c97de3-2467-4719-ec7b-bae2641bbeb5"
      },
      "outputs": [
        {
          "output_type": "execute_result",
          "data": {
            "text/plain": [
              "(Elon Musk, Twitter, $45 billion)"
            ]
          },
          "metadata": {},
          "execution_count": 34
        }
      ],
      "source": [
        "document.ents # Entity"
      ]
    },
    {
      "cell_type": "code",
      "execution_count": 35,
      "id": "66ab56cb",
      "metadata": {
        "colab": {
          "base_uri": "https://localhost:8080/"
        },
        "id": "66ab56cb",
        "outputId": "40b2698e-4adf-4105-97a7-d47aa54fb3c0"
      },
      "outputs": [
        {
          "output_type": "stream",
          "name": "stdout",
          "text": [
            "Elon Musk | PERSON | People, including fictional\n",
            "Twitter | PRODUCT | Objects, vehicles, foods, etc. (not services)\n",
            "$45 billion | MONEY | Monetary values, including unit\n"
          ]
        }
      ],
      "source": [
        "for ent in document.ents:\n",
        "    print(ent.text, \"|\", ent.label_, \"|\", spacy.explain(ent.label_))"
      ]
    },
    {
      "cell_type": "code",
      "execution_count": 36,
      "id": "eb6558c8",
      "metadata": {
        "id": "eb6558c8"
      },
      "outputs": [],
      "source": [
        "doc_trf = trf_nlp(text)"
      ]
    },
    {
      "cell_type": "code",
      "execution_count": 37,
      "id": "1267749d",
      "metadata": {
        "colab": {
          "base_uri": "https://localhost:8080/"
        },
        "id": "1267749d",
        "outputId": "5e54af3c-014c-497f-fe37-07a1261a672b"
      },
      "outputs": [
        {
          "output_type": "stream",
          "name": "stdout",
          "text": [
            "Elon Musk | PERSON | People, including fictional\n",
            "Twitter | ORG | Companies, agencies, institutions, etc.\n",
            "$45 billion | MONEY | Monetary values, including unit\n"
          ]
        }
      ],
      "source": [
        "for ent in doc_trf.ents:\n",
        "    print(ent.text, \"|\", ent.label_, \"|\", spacy.explain(ent.label_))"
      ]
    },
    {
      "cell_type": "code",
      "execution_count": 38,
      "id": "f0802654",
      "metadata": {
        "colab": {
          "base_uri": "https://localhost:8080/",
          "height": 52
        },
        "id": "f0802654",
        "outputId": "29d4a4da-cbb6-4010-d887-a6c728597e93"
      },
      "outputs": [
        {
          "output_type": "display_data",
          "data": {
            "text/plain": [
              "<IPython.core.display.HTML object>"
            ],
            "text/html": [
              "<span class=\"tex2jax_ignore\"><div class=\"entities\" style=\"line-height: 2.5; direction: ltr\">\n",
              "<mark class=\"entity\" style=\"background: #aa9cfc; padding: 0.45em 0.6em; margin: 0 0.25em; line-height: 1; border-radius: 0.35em;\">\n",
              "    Elon Musk\n",
              "    <span style=\"font-size: 0.8em; font-weight: bold; line-height: 1; border-radius: 0.35em; vertical-align: middle; margin-left: 0.5rem\">PERSON</span>\n",
              "</mark>\n",
              " bought \n",
              "<mark class=\"entity\" style=\"background: #bfeeb7; padding: 0.45em 0.6em; margin: 0 0.25em; line-height: 1; border-radius: 0.35em;\">\n",
              "    Twitter\n",
              "    <span style=\"font-size: 0.8em; font-weight: bold; line-height: 1; border-radius: 0.35em; vertical-align: middle; margin-left: 0.5rem\">PRODUCT</span>\n",
              "</mark>\n",
              " for \n",
              "<mark class=\"entity\" style=\"background: #e4e7d2; padding: 0.45em 0.6em; margin: 0 0.25em; line-height: 1; border-radius: 0.35em;\">\n",
              "    $45 billion\n",
              "    <span style=\"font-size: 0.8em; font-weight: bold; line-height: 1; border-radius: 0.35em; vertical-align: middle; margin-left: 0.5rem\">MONEY</span>\n",
              "</mark>\n",
              "</div></span>"
            ]
          },
          "metadata": {}
        }
      ],
      "source": [
        "displacy.render(document, style='ent', jupyter=True)"
      ]
    },
    {
      "cell_type": "code",
      "execution_count": 39,
      "id": "7ca540ab",
      "metadata": {
        "colab": {
          "base_uri": "https://localhost:8080/",
          "height": 52
        },
        "id": "7ca540ab",
        "outputId": "cb9d2212-daad-47e4-b01b-b95569be539d"
      },
      "outputs": [
        {
          "output_type": "display_data",
          "data": {
            "text/plain": [
              "<IPython.core.display.HTML object>"
            ],
            "text/html": [
              "<span class=\"tex2jax_ignore\"><div class=\"entities\" style=\"line-height: 2.5; direction: ltr\">\n",
              "<mark class=\"entity\" style=\"background: #aa9cfc; padding: 0.45em 0.6em; margin: 0 0.25em; line-height: 1; border-radius: 0.35em;\">\n",
              "    Elon Musk\n",
              "    <span style=\"font-size: 0.8em; font-weight: bold; line-height: 1; border-radius: 0.35em; vertical-align: middle; margin-left: 0.5rem\">PERSON</span>\n",
              "</mark>\n",
              " bought \n",
              "<mark class=\"entity\" style=\"background: #7aecec; padding: 0.45em 0.6em; margin: 0 0.25em; line-height: 1; border-radius: 0.35em;\">\n",
              "    Twitter\n",
              "    <span style=\"font-size: 0.8em; font-weight: bold; line-height: 1; border-radius: 0.35em; vertical-align: middle; margin-left: 0.5rem\">ORG</span>\n",
              "</mark>\n",
              " for \n",
              "<mark class=\"entity\" style=\"background: #e4e7d2; padding: 0.45em 0.6em; margin: 0 0.25em; line-height: 1; border-radius: 0.35em;\">\n",
              "    $45 billion\n",
              "    <span style=\"font-size: 0.8em; font-weight: bold; line-height: 1; border-radius: 0.35em; vertical-align: middle; margin-left: 0.5rem\">MONEY</span>\n",
              "</mark>\n",
              "</div></span>"
            ]
          },
          "metadata": {}
        }
      ],
      "source": [
        "displacy.render(doc_trf, style='ent', jupyter=True)"
      ]
    },
    {
      "cell_type": "code",
      "execution_count": 40,
      "id": "146b5a5f",
      "metadata": {
        "colab": {
          "base_uri": "https://localhost:8080/"
        },
        "id": "146b5a5f",
        "outputId": "a2dc25e4-e633-4832-a3dc-b9e5b6a22e9d"
      },
      "outputs": [
        {
          "output_type": "execute_result",
          "data": {
            "text/plain": [
              "Elon Musk"
            ]
          },
          "metadata": {},
          "execution_count": 40
        }
      ],
      "source": [
        "document[0:2] # Word Indexing Not Character Indexing"
      ]
    },
    {
      "cell_type": "code",
      "execution_count": 41,
      "id": "a3e22b5b",
      "metadata": {
        "id": "a3e22b5b"
      },
      "outputs": [],
      "source": [
        "## Spacy Set Entities\n",
        "from spacy.tokens import Span\n",
        "\n",
        "s1 = doc_trf[2:3]\n",
        "s1.label_ = \"EVENT\"\n",
        "doc_trf.set_ents([s1], default='unmodified')"
      ]
    },
    {
      "cell_type": "code",
      "execution_count": 42,
      "id": "1065cb88",
      "metadata": {
        "colab": {
          "base_uri": "https://localhost:8080/",
          "height": 52
        },
        "id": "1065cb88",
        "outputId": "c5304a91-8f7d-4fee-b083-02ea7a890d40"
      },
      "outputs": [
        {
          "output_type": "display_data",
          "data": {
            "text/plain": [
              "<IPython.core.display.HTML object>"
            ],
            "text/html": [
              "<span class=\"tex2jax_ignore\"><div class=\"entities\" style=\"line-height: 2.5; direction: ltr\">\n",
              "<mark class=\"entity\" style=\"background: #aa9cfc; padding: 0.45em 0.6em; margin: 0 0.25em; line-height: 1; border-radius: 0.35em;\">\n",
              "    Elon Musk\n",
              "    <span style=\"font-size: 0.8em; font-weight: bold; line-height: 1; border-radius: 0.35em; vertical-align: middle; margin-left: 0.5rem\">PERSON</span>\n",
              "</mark>\n",
              " \n",
              "<mark class=\"entity\" style=\"background: #ffeb80; padding: 0.45em 0.6em; margin: 0 0.25em; line-height: 1; border-radius: 0.35em;\">\n",
              "    bought\n",
              "    <span style=\"font-size: 0.8em; font-weight: bold; line-height: 1; border-radius: 0.35em; vertical-align: middle; margin-left: 0.5rem\">EVENT</span>\n",
              "</mark>\n",
              " \n",
              "<mark class=\"entity\" style=\"background: #7aecec; padding: 0.45em 0.6em; margin: 0 0.25em; line-height: 1; border-radius: 0.35em;\">\n",
              "    Twitter\n",
              "    <span style=\"font-size: 0.8em; font-weight: bold; line-height: 1; border-radius: 0.35em; vertical-align: middle; margin-left: 0.5rem\">ORG</span>\n",
              "</mark>\n",
              " for \n",
              "<mark class=\"entity\" style=\"background: #e4e7d2; padding: 0.45em 0.6em; margin: 0 0.25em; line-height: 1; border-radius: 0.35em;\">\n",
              "    $45 billion\n",
              "    <span style=\"font-size: 0.8em; font-weight: bold; line-height: 1; border-radius: 0.35em; vertical-align: middle; margin-left: 0.5rem\">MONEY</span>\n",
              "</mark>\n",
              "</div></span>"
            ]
          },
          "metadata": {}
        }
      ],
      "source": [
        "displacy.render(doc_trf, style='ent', jupyter=True)"
      ]
    },
    {
      "cell_type": "markdown",
      "id": "0cffd43e",
      "metadata": {
        "id": "0cffd43e"
      },
      "source": [
        "![image.png](attachment:image.png)"
      ]
    },
    {
      "cell_type": "code",
      "execution_count": 43,
      "id": "0ba40e24",
      "metadata": {
        "id": "0ba40e24"
      },
      "outputs": [],
      "source": [
        "import nltk\n",
        "from nltk.tokenize import PunktSentenceTokenizer"
      ]
    },
    {
      "cell_type": "code",
      "source": [
        "import nltk\n",
        "nltk.download('averaged_perceptron_tagger')"
      ],
      "metadata": {
        "colab": {
          "base_uri": "https://localhost:8080/"
        },
        "id": "jTJsIZ2MZPsN",
        "outputId": "c22d3dbb-7fb9-4ed4-ea31-fee3922aa5ef"
      },
      "id": "jTJsIZ2MZPsN",
      "execution_count": 44,
      "outputs": [
        {
          "output_type": "stream",
          "name": "stderr",
          "text": [
            "[nltk_data] Downloading package averaged_perceptron_tagger to\n",
            "[nltk_data]     /root/nltk_data...\n",
            "[nltk_data]   Unzipping taggers/averaged_perceptron_tagger.zip.\n"
          ]
        },
        {
          "output_type": "execute_result",
          "data": {
            "text/plain": [
              "True"
            ]
          },
          "metadata": {},
          "execution_count": 44
        }
      ]
    },
    {
      "cell_type": "code",
      "execution_count": 45,
      "id": "4d4d4414",
      "metadata": {
        "id": "4d4d4414"
      },
      "outputs": [],
      "source": [
        "pos_tags = nltk.pos_tag(text.split())"
      ]
    },
    {
      "cell_type": "code",
      "execution_count": 46,
      "id": "1a7a4b66",
      "metadata": {
        "colab": {
          "base_uri": "https://localhost:8080/"
        },
        "id": "1a7a4b66",
        "outputId": "f9b9c46d-f706-4da0-fbbb-cf0d0b58b115"
      },
      "outputs": [
        {
          "output_type": "execute_result",
          "data": {
            "text/plain": [
              "[('Elon', 'NNP'),\n",
              " ('Musk', 'NNP'),\n",
              " ('bought', 'VBD'),\n",
              " ('Twitter', 'NNP'),\n",
              " ('for', 'IN'),\n",
              " ('$45', 'NNP'),\n",
              " ('billion', 'CD')]"
            ]
          },
          "metadata": {},
          "execution_count": 46
        }
      ],
      "source": [
        "pos_tags"
      ]
    },
    {
      "cell_type": "code",
      "source": [
        "import nltk\n",
        "nltk.download('maxent_ne_chunker')\n",
        "\n"
      ],
      "metadata": {
        "colab": {
          "base_uri": "https://localhost:8080/"
        },
        "id": "6xyaWGLOZbnr",
        "outputId": "ae271b12-4362-4e68-aff7-fb1f6c243acd"
      },
      "id": "6xyaWGLOZbnr",
      "execution_count": 47,
      "outputs": [
        {
          "output_type": "stream",
          "name": "stderr",
          "text": [
            "[nltk_data] Downloading package maxent_ne_chunker to\n",
            "[nltk_data]     /root/nltk_data...\n",
            "[nltk_data]   Unzipping chunkers/maxent_ne_chunker.zip.\n"
          ]
        },
        {
          "output_type": "execute_result",
          "data": {
            "text/plain": [
              "True"
            ]
          },
          "metadata": {},
          "execution_count": 47
        }
      ]
    },
    {
      "cell_type": "code",
      "source": [
        "import nltk\n",
        "nltk.download('words')"
      ],
      "metadata": {
        "colab": {
          "base_uri": "https://localhost:8080/"
        },
        "id": "ULFkraX3ZikJ",
        "outputId": "86833948-b4bb-4a9f-c47d-ebc728f2bd94"
      },
      "id": "ULFkraX3ZikJ",
      "execution_count": 48,
      "outputs": [
        {
          "output_type": "stream",
          "name": "stderr",
          "text": [
            "[nltk_data] Downloading package words to /root/nltk_data...\n",
            "[nltk_data]   Unzipping corpora/words.zip.\n"
          ]
        },
        {
          "output_type": "execute_result",
          "data": {
            "text/plain": [
              "True"
            ]
          },
          "metadata": {},
          "execution_count": 48
        }
      ]
    },
    {
      "cell_type": "code",
      "execution_count": 49,
      "id": "c22bd740",
      "metadata": {
        "id": "c22bd740"
      },
      "outputs": [],
      "source": [
        "named_ent = nltk.ne_chunk(pos_tags, binary=False)"
      ]
    },
    {
      "cell_type": "code",
      "execution_count": 50,
      "id": "eb5cfc42",
      "metadata": {
        "colab": {
          "base_uri": "https://localhost:8080/",
          "height": 190
        },
        "id": "eb5cfc42",
        "outputId": "799679a2-0ebe-42a5-fdc6-ce384bfd136a"
      },
      "outputs": [
        {
          "output_type": "execute_result",
          "data": {
            "text/plain": [
              "Tree('S', [Tree('PERSON', [('Elon', 'NNP')]), Tree('PERSON', [('Musk', 'NNP')]), ('bought', 'VBD'), Tree('PERSON', [('Twitter', 'NNP')]), ('for', 'IN'), ('$45', 'NNP'), ('billion', 'CD')])"
            ],
            "image/svg+xml": "<svg baseProfile=\"full\" height=\"168px\" preserveAspectRatio=\"xMidYMid meet\" style=\"font-family: times, serif; font-weight: normal; font-style: normal; font-size: 16px;\" version=\"1.1\" viewBox=\"0,0,416.0,168.0\" width=\"416px\" xmlns=\"http://www.w3.org/2000/svg\" xmlns:ev=\"http://www.w3.org/2001/xml-events\" xmlns:xlink=\"http://www.w3.org/1999/xlink\"><defs /><svg width=\"100%\" x=\"0\" y=\"0px\"><defs /><text text-anchor=\"middle\" x=\"50%\" y=\"16px\">S</text></svg><svg width=\"15.3846%\" x=\"0%\" y=\"48px\"><defs /><svg width=\"100%\" x=\"0\" y=\"0px\"><defs /><text text-anchor=\"middle\" x=\"50%\" y=\"16px\">PERSON</text></svg><svg width=\"100%\" x=\"0%\" y=\"48px\"><defs /><svg width=\"100%\" x=\"0\" y=\"0px\"><defs /><text text-anchor=\"middle\" x=\"50%\" y=\"16px\">Elon</text></svg><svg width=\"100%\" x=\"0%\" y=\"48px\"><defs /><svg width=\"100%\" x=\"0\" y=\"0px\"><defs /><text text-anchor=\"middle\" x=\"50%\" y=\"16px\">NNP</text></svg></svg><line stroke=\"black\" x1=\"50%\" x2=\"50%\" y1=\"19.2px\" y2=\"48px\" /></svg><line stroke=\"black\" x1=\"50%\" x2=\"50%\" y1=\"19.2px\" y2=\"48px\" /></svg><line stroke=\"black\" x1=\"50%\" x2=\"7.69231%\" y1=\"19.2px\" y2=\"48px\" /><svg width=\"15.3846%\" x=\"15.3846%\" y=\"48px\"><defs /><svg width=\"100%\" x=\"0\" y=\"0px\"><defs /><text text-anchor=\"middle\" x=\"50%\" y=\"16px\">PERSON</text></svg><svg width=\"100%\" x=\"0%\" y=\"48px\"><defs /><svg width=\"100%\" x=\"0\" y=\"0px\"><defs /><text text-anchor=\"middle\" x=\"50%\" y=\"16px\">Musk</text></svg><svg width=\"100%\" x=\"0%\" y=\"48px\"><defs /><svg width=\"100%\" x=\"0\" y=\"0px\"><defs /><text text-anchor=\"middle\" x=\"50%\" y=\"16px\">NNP</text></svg></svg><line stroke=\"black\" x1=\"50%\" x2=\"50%\" y1=\"19.2px\" y2=\"48px\" /></svg><line stroke=\"black\" x1=\"50%\" x2=\"50%\" y1=\"19.2px\" y2=\"48px\" /></svg><line stroke=\"black\" x1=\"50%\" x2=\"23.0769%\" y1=\"19.2px\" y2=\"48px\" /><svg width=\"15.3846%\" x=\"30.7692%\" y=\"48px\"><defs /><svg width=\"100%\" x=\"0\" y=\"0px\"><defs /><text text-anchor=\"middle\" x=\"50%\" y=\"16px\">bought</text></svg><svg width=\"100%\" x=\"0%\" y=\"48px\"><defs /><svg width=\"100%\" x=\"0\" y=\"0px\"><defs /><text text-anchor=\"middle\" x=\"50%\" y=\"16px\">VBD</text></svg></svg><line stroke=\"black\" x1=\"50%\" x2=\"50%\" y1=\"19.2px\" y2=\"48px\" /></svg><line stroke=\"black\" x1=\"50%\" x2=\"38.4615%\" y1=\"19.2px\" y2=\"48px\" /><svg width=\"17.3077%\" x=\"46.1538%\" y=\"48px\"><defs /><svg width=\"100%\" x=\"0\" y=\"0px\"><defs /><text text-anchor=\"middle\" x=\"50%\" y=\"16px\">PERSON</text></svg><svg width=\"100%\" x=\"0%\" y=\"48px\"><defs /><svg width=\"100%\" x=\"0\" y=\"0px\"><defs /><text text-anchor=\"middle\" x=\"50%\" y=\"16px\">Twitter</text></svg><svg width=\"100%\" x=\"0%\" y=\"48px\"><defs /><svg width=\"100%\" x=\"0\" y=\"0px\"><defs /><text text-anchor=\"middle\" x=\"50%\" y=\"16px\">NNP</text></svg></svg><line stroke=\"black\" x1=\"50%\" x2=\"50%\" y1=\"19.2px\" y2=\"48px\" /></svg><line stroke=\"black\" x1=\"50%\" x2=\"50%\" y1=\"19.2px\" y2=\"48px\" /></svg><line stroke=\"black\" x1=\"50%\" x2=\"54.8077%\" y1=\"19.2px\" y2=\"48px\" /><svg width=\"9.61538%\" x=\"63.4615%\" y=\"48px\"><defs /><svg width=\"100%\" x=\"0\" y=\"0px\"><defs /><text text-anchor=\"middle\" x=\"50%\" y=\"16px\">for</text></svg><svg width=\"100%\" x=\"0%\" y=\"48px\"><defs /><svg width=\"100%\" x=\"0\" y=\"0px\"><defs /><text text-anchor=\"middle\" x=\"50%\" y=\"16px\">IN</text></svg></svg><line stroke=\"black\" x1=\"50%\" x2=\"50%\" y1=\"19.2px\" y2=\"48px\" /></svg><line stroke=\"black\" x1=\"50%\" x2=\"68.2692%\" y1=\"19.2px\" y2=\"48px\" /><svg width=\"9.61538%\" x=\"73.0769%\" y=\"48px\"><defs /><svg width=\"100%\" x=\"0\" y=\"0px\"><defs /><text text-anchor=\"middle\" x=\"50%\" y=\"16px\">$45</text></svg><svg width=\"100%\" x=\"0%\" y=\"48px\"><defs /><svg width=\"100%\" x=\"0\" y=\"0px\"><defs /><text text-anchor=\"middle\" x=\"50%\" y=\"16px\">NNP</text></svg></svg><line stroke=\"black\" x1=\"50%\" x2=\"50%\" y1=\"19.2px\" y2=\"48px\" /></svg><line stroke=\"black\" x1=\"50%\" x2=\"77.8846%\" y1=\"19.2px\" y2=\"48px\" /><svg width=\"17.3077%\" x=\"82.6923%\" y=\"48px\"><defs /><svg width=\"100%\" x=\"0\" y=\"0px\"><defs /><text text-anchor=\"middle\" x=\"50%\" y=\"16px\">billion</text></svg><svg width=\"100%\" x=\"0%\" y=\"48px\"><defs /><svg width=\"100%\" x=\"0\" y=\"0px\"><defs /><text text-anchor=\"middle\" x=\"50%\" y=\"16px\">CD</text></svg></svg><line stroke=\"black\" x1=\"50%\" x2=\"50%\" y1=\"19.2px\" y2=\"48px\" /></svg><line stroke=\"black\" x1=\"50%\" x2=\"91.3462%\" y1=\"19.2px\" y2=\"48px\" /></svg>"
          },
          "metadata": {},
          "execution_count": 50
        }
      ],
      "source": [
        "named_ent"
      ]
    },
    {
      "cell_type": "code",
      "execution_count": 51,
      "id": "da0144db",
      "metadata": {
        "id": "da0144db"
      },
      "outputs": [],
      "source": [
        "#named_ent.draw()"
      ]
    },
    {
      "cell_type": "code",
      "execution_count": 52,
      "id": "80633ccb",
      "metadata": {
        "colab": {
          "base_uri": "https://localhost:8080/",
          "height": 265,
          "referenced_widgets": [
            "a93afaf8ae8a4b4c90ddc10ebd3c1dab",
            "93bb51ca250a4aa7a564f60251ad66f5",
            "d378eec845f34bcead52a0bfb6401d7f",
            "6341123da40c4811a6873724e439af36",
            "ea6e7fc450d14152941c832a151e6851",
            "9f37c1707cb74fdcbdb97eaf39afc186",
            "c775a21b396043dd9489f9902f74820f",
            "02fc29ae65024d1ba69ecf66cb2e4be1",
            "59a94ae35a9743c0aa600b2367d3306f",
            "699e3c232d0f4d27a55666266bacb0bc",
            "e1801dc8239a4870ab26117f33a9c4d6",
            "9d25d9aefdad42ae87b4b5c0049af42a",
            "c21b79ec1fd14778a57afb5a6cb785f0",
            "e65d4a9a3ca4422caf0f416ebfcd6405",
            "4df917c0003c4dd8bd158d69f659e390",
            "bdce834f5f1345aa99dbb463861bc985",
            "52a236e579d34440b6bed4b7b5fe3a3a",
            "ec7134d9261b45bfbd6234a95226e4e4",
            "cd73efec1fc742e481a664f9f89ae000",
            "3222852bd6a043039dc7fe53cedcf067",
            "aaa025947a12471e9b8bab6f191b5837",
            "5aa701b068dd4f589ac4b2ccfb83b813",
            "02c724151d57473588819a7eea6b6f44",
            "eb5d5c0535584c76b6df7ed099046e53",
            "925f1318ffa54783880f5a1b4ab674bb",
            "07fd894d02484be49f91804ee469f675",
            "7b991be780ce44d49662a72c41daf858",
            "611854f3f65946f9a8d967e56222eaa0",
            "7d6a189042a34a8588143735efc9ee0e",
            "49927e6bf2e445ce8bf8a15080b09841",
            "ab147b401d0742bfaca4a096a5bf6bab",
            "65b13a77939245f8a6a34599d6f0f4c6",
            "094158c8b6674f169979206193ff4b75",
            "0263fa1a089c498f8fd56bd96038ee75",
            "7c227e9ba2b54783bbdfd6bd443d5f4a",
            "a1bb479fae594fa59313b34241073ea4",
            "52d5848c826e4fada115396be8e8c30d",
            "bbf6e0de6a5d42a0bf11b6659da4e43b",
            "687efb9078104138ac221892843b5af6",
            "98e7e85b926d42deb804ee6739ccdb63",
            "125a6ef56fdd4549b78b961fe87ad6e4",
            "daa1484e04ee4400a924aefe020b9a06",
            "10d08625e5b444aca32194742a3876fd",
            "6aa966f70e8a4525b1bf9947f8461ca9",
            "5c1cd6b475824fd8b01477f1e1a893f9",
            "b9c0b4b744fb463fa64f8119c877e081",
            "20c2096b078646ed9102afd3aca283df",
            "b703733f0d3144c3ac22f47635888e55",
            "926fbd07146a46f98ee06c4d32478d4c",
            "85fbfdf7f76646cd89b5bea348f6e0e9",
            "6d5387632e4244a3ba4b6f5e19027f82",
            "b6d114120a03495c97025f31c97b4ee9",
            "f7f46eab5e724fce91a8afa1f81aa93f",
            "2aaabf4af6e34708a450147d4939fafb",
            "16de1698ccf3471fa646b57b7957b16a",
            "28ae2b3f1b864bfdacde027c92f7b68c",
            "df2e5529b3f1415a8006874941bfbe7d",
            "360ac377c6b34994a7e1a045de028bfe",
            "07f2ad24dc42446fb0b4bc0761dcf074",
            "d012afa9f58f49c38a200f02af6b51a9",
            "cbb5780b528d4cf2823c7c662a41c2fa",
            "0b60359ea4904d42bd40f15bb1acf1eb",
            "14c892f59c5145b082de6e9af5b8a56b",
            "f26b345924cd48cc8cd4ad853669a3c4",
            "e383548826ae4c3bba73eea4e892dfb0",
            "4283513f249a4e97a7393bfbe5132d08"
          ]
        },
        "id": "80633ccb",
        "outputId": "61004fb3-18a9-4981-a4d4-1d8b5573010c"
      },
      "outputs": [
        {
          "output_type": "display_data",
          "data": {
            "text/plain": [
              "tokenizer_config.json:   0%|          | 0.00/59.0 [00:00<?, ?B/s]"
            ],
            "application/vnd.jupyter.widget-view+json": {
              "version_major": 2,
              "version_minor": 0,
              "model_id": "a93afaf8ae8a4b4c90ddc10ebd3c1dab"
            }
          },
          "metadata": {}
        },
        {
          "output_type": "display_data",
          "data": {
            "text/plain": [
              "config.json:   0%|          | 0.00/829 [00:00<?, ?B/s]"
            ],
            "application/vnd.jupyter.widget-view+json": {
              "version_major": 2,
              "version_minor": 0,
              "model_id": "9d25d9aefdad42ae87b4b5c0049af42a"
            }
          },
          "metadata": {}
        },
        {
          "output_type": "display_data",
          "data": {
            "text/plain": [
              "vocab.txt:   0%|          | 0.00/213k [00:00<?, ?B/s]"
            ],
            "application/vnd.jupyter.widget-view+json": {
              "version_major": 2,
              "version_minor": 0,
              "model_id": "02c724151d57473588819a7eea6b6f44"
            }
          },
          "metadata": {}
        },
        {
          "output_type": "display_data",
          "data": {
            "text/plain": [
              "added_tokens.json:   0%|          | 0.00/2.00 [00:00<?, ?B/s]"
            ],
            "application/vnd.jupyter.widget-view+json": {
              "version_major": 2,
              "version_minor": 0,
              "model_id": "0263fa1a089c498f8fd56bd96038ee75"
            }
          },
          "metadata": {}
        },
        {
          "output_type": "display_data",
          "data": {
            "text/plain": [
              "special_tokens_map.json:   0%|          | 0.00/112 [00:00<?, ?B/s]"
            ],
            "application/vnd.jupyter.widget-view+json": {
              "version_major": 2,
              "version_minor": 0,
              "model_id": "5c1cd6b475824fd8b01477f1e1a893f9"
            }
          },
          "metadata": {}
        },
        {
          "output_type": "display_data",
          "data": {
            "text/plain": [
              "model.safetensors:   0%|          | 0.00/433M [00:00<?, ?B/s]"
            ],
            "application/vnd.jupyter.widget-view+json": {
              "version_major": 2,
              "version_minor": 0,
              "model_id": "28ae2b3f1b864bfdacde027c92f7b68c"
            }
          },
          "metadata": {}
        }
      ],
      "source": [
        "from transformers import AutoTokenizer, AutoModelForTokenClassification\n",
        "from transformers import pipeline\n",
        "\n",
        "tokenizer = AutoTokenizer.from_pretrained(\"dslim/bert-base-NER\")\n",
        "model = AutoModelForTokenClassification.from_pretrained(\"dslim/bert-base-NER\")"
      ]
    },
    {
      "cell_type": "code",
      "execution_count": 53,
      "id": "08fc9a05",
      "metadata": {
        "id": "08fc9a05"
      },
      "outputs": [],
      "source": [
        "trf_bert = pipeline(\"ner\", model=model, tokenizer=tokenizer)"
      ]
    },
    {
      "cell_type": "code",
      "execution_count": 54,
      "id": "25d9012b",
      "metadata": {
        "colab": {
          "base_uri": "https://localhost:8080/"
        },
        "id": "25d9012b",
        "outputId": "e78b2f62-859b-4bb9-a4b8-b679d1eedbf7"
      },
      "outputs": [
        {
          "output_type": "stream",
          "name": "stdout",
          "text": [
            "[{'entity': 'B-ORG', 'score': 0.99933904, 'index': 1, 'word': 'El', 'start': 0, 'end': 2}, {'entity': 'I-ORG', 'score': 0.998307, 'index': 2, 'word': '##on', 'start': 2, 'end': 4}, {'entity': 'I-ORG', 'score': 0.9988018, 'index': 3, 'word': 'Mu', 'start': 5, 'end': 7}, {'entity': 'I-ORG', 'score': 0.9941117, 'index': 4, 'word': '##sk', 'start': 7, 'end': 9}, {'entity': 'B-ORG', 'score': 0.99641824, 'index': 6, 'word': 'Twitter', 'start': 17, 'end': 24}]\n"
          ]
        }
      ],
      "source": [
        "ner_results = trf_bert(text)\n",
        "print(ner_results)"
      ]
    },
    {
      "cell_type": "markdown",
      "id": "8771da78",
      "metadata": {
        "id": "8771da78"
      },
      "source": [
        "# Custom Training for NER Using Spacy"
      ]
    },
    {
      "cell_type": "markdown",
      "id": "57d16e36",
      "metadata": {
        "id": "57d16e36"
      },
      "source": [
        "https://newscatcherapi.com/blog/train-custom-named-entity-recognition-ner-model-with-spacy-v3"
      ]
    },
    {
      "cell_type": "markdown",
      "id": "c4d150e2",
      "metadata": {
        "id": "c4d150e2"
      },
      "source": [
        "Dataset Link `: https://www.kaggle.com/datasets/finalepoch/medical-ner"
      ]
    },
    {
      "cell_type": "code",
      "execution_count": 55,
      "id": "5ddc9aac",
      "metadata": {
        "id": "5ddc9aac"
      },
      "outputs": [],
      "source": [
        "import json\n",
        "with open('/content/Corona2.json', 'r') as f:\n",
        "    data = json.load(f)"
      ]
    },
    {
      "cell_type": "code",
      "execution_count": 56,
      "id": "9a2b18df",
      "metadata": {
        "id": "9a2b18df"
      },
      "outputs": [],
      "source": [
        "d = {1:'One',2:'Two'}\n",
        "ds = json.dumps(d)\n",
        "dm = json.loads(ds)"
      ]
    },
    {
      "cell_type": "code",
      "execution_count": 57,
      "id": "d2c50c18",
      "metadata": {
        "colab": {
          "base_uri": "https://localhost:8080/"
        },
        "id": "d2c50c18",
        "outputId": "023c0736-9f3f-4636-edcf-ea6430d0486c"
      },
      "outputs": [
        {
          "output_type": "execute_result",
          "data": {
            "text/plain": [
              "{1: 'One', 2: 'Two'}"
            ]
          },
          "metadata": {},
          "execution_count": 57
        }
      ],
      "source": [
        "{int(k):v for k,v in dm.items()}"
      ]
    },
    {
      "cell_type": "code",
      "execution_count": null,
      "id": "83ab2943",
      "metadata": {
        "id": "83ab2943"
      },
      "outputs": [],
      "source": [
        "#json.dumps(data)\n",
        "# dumps => To memory\n",
        "# dump => To file\n",
        "# loads => from memory\n",
        "#load => From file"
      ]
    },
    {
      "cell_type": "code",
      "execution_count": 58,
      "id": "6e3f16b7",
      "metadata": {
        "colab": {
          "base_uri": "https://localhost:8080/"
        },
        "id": "6e3f16b7",
        "outputId": "8914a0dc-5b9e-4b3e-903c-b6df338563c4"
      },
      "outputs": [
        {
          "output_type": "execute_result",
          "data": {
            "text/plain": [
              "dict_keys(['id', 'content', 'metadata', 'annotations', 'classifications'])"
            ]
          },
          "metadata": {},
          "execution_count": 58
        }
      ],
      "source": [
        "data['examples'][0].keys()"
      ]
    },
    {
      "cell_type": "code",
      "execution_count": 59,
      "id": "b6e51814",
      "metadata": {
        "colab": {
          "base_uri": "https://localhost:8080/"
        },
        "id": "b6e51814",
        "outputId": "fc540782-4ffd-40c8-d2bf-fdbdf29614ed"
      },
      "outputs": [
        {
          "output_type": "execute_result",
          "data": {
            "text/plain": [
              "{'id': '18c2f619-f102-452f-ab81-d26f7e283ffe',\n",
              " 'content': \"While bismuth compounds (Pepto-Bismol) decreased the number of bowel movements in those with travelers' diarrhea, they do not decrease the length of illness.[91] Anti-motility agents like loperamide are also effective at reducing the number of stools but not the duration of disease.[8] These agents should be used only if bloody diarrhea is not present.[92]\\n\\nDiosmectite, a natural aluminomagnesium silicate clay, is effective in alleviating symptoms of acute diarrhea in children,[93] and also has some effects in chronic functional diarrhea, radiation-induced diarrhea, and chemotherapy-induced diarrhea.[45] Another absorbent agent used for the treatment of mild diarrhea is kaopectate.\\n\\nRacecadotril an antisecretory medication may be used to treat diarrhea in children and adults.[86] It has better tolerability than loperamide, as it causes less constipation and flatulence.[94]\",\n",
              " 'metadata': {},\n",
              " 'annotations': [{'id': '0825a1bf-6a6e-4fa2-be77-8d104701eaed',\n",
              "   'tag_id': 'c06bd022-6ded-44a5-8d90-f17685bb85a1',\n",
              "   'end': 371,\n",
              "   'start': 360,\n",
              "   'example_id': '18c2f619-f102-452f-ab81-d26f7e283ffe',\n",
              "   'tag_name': 'Medicine',\n",
              "   'value': 'Diosmectite',\n",
              "   'correct': None,\n",
              "   'human_annotations': [{'timestamp': '2020-03-21T00:24:32.098000Z',\n",
              "     'annotator_id': 1,\n",
              "     'tagged_token_id': '0825a1bf-6a6e-4fa2-be77-8d104701eaed',\n",
              "     'name': 'Ashpat123',\n",
              "     'reason': 'exploration'}],\n",
              "   'model_annotations': []},\n",
              "  {'id': '145f62b1-bbf5-42f1-8ad5-9c7e08337bf0',\n",
              "   'tag_id': 'c06bd022-6ded-44a5-8d90-f17685bb85a1',\n",
              "   'end': 408,\n",
              "   'start': 383,\n",
              "   'example_id': '18c2f619-f102-452f-ab81-d26f7e283ffe',\n",
              "   'tag_name': 'Medicine',\n",
              "   'value': 'aluminomagnesium silicate',\n",
              "   'correct': None,\n",
              "   'human_annotations': [{'timestamp': '2020-03-21T00:24:43.692000Z',\n",
              "     'annotator_id': 1,\n",
              "     'tagged_token_id': '145f62b1-bbf5-42f1-8ad5-9c7e08337bf0',\n",
              "     'name': 'Ashpat123',\n",
              "     'reason': 'exploration'}],\n",
              "   'model_annotations': []},\n",
              "  {'id': '243efeb2-723f-4be4-933c-fbbf7e0f9903',\n",
              "   'tag_id': '03eb3e50-d4d8-4261-a60b-fa5aee5deb4a',\n",
              "   'end': 112,\n",
              "   'start': 104,\n",
              "   'example_id': '18c2f619-f102-452f-ab81-d26f7e283ffe',\n",
              "   'tag_name': 'MedicalCondition',\n",
              "   'value': 'diarrhea',\n",
              "   'correct': None,\n",
              "   'human_annotations': [{'timestamp': '2020-03-21T00:24:09.423000Z',\n",
              "     'annotator_id': 1,\n",
              "     'tagged_token_id': '243efeb2-723f-4be4-933c-fbbf7e0f9903',\n",
              "     'name': 'Ashpat123',\n",
              "     'reason': 'exploration'}],\n",
              "   'model_annotations': []},\n",
              "  {'id': '281f49d3-879a-4409-b09e-4cfae019af16',\n",
              "   'tag_id': 'c06bd022-6ded-44a5-8d90-f17685bb85a1',\n",
              "   'end': 689,\n",
              "   'start': 679,\n",
              "   'example_id': '18c2f619-f102-452f-ab81-d26f7e283ffe',\n",
              "   'tag_name': 'Medicine',\n",
              "   'value': 'kaopectate',\n",
              "   'correct': None,\n",
              "   'human_annotations': [{'timestamp': '2020-03-21T00:25:38.366000Z',\n",
              "     'annotator_id': 1,\n",
              "     'tagged_token_id': '281f49d3-879a-4409-b09e-4cfae019af16',\n",
              "     'name': 'Ashpat123',\n",
              "     'reason': 'exploration'}],\n",
              "   'model_annotations': []},\n",
              "  {'id': '32fdf9e7-63f7-442a-8e25-f08ea4ad94d5',\n",
              "   'tag_id': 'c06bd022-6ded-44a5-8d90-f17685bb85a1',\n",
              "   'end': 23,\n",
              "   'start': 6,\n",
              "   'example_id': '18c2f619-f102-452f-ab81-d26f7e283ffe',\n",
              "   'tag_name': 'Medicine',\n",
              "   'value': 'bismuth compounds',\n",
              "   'correct': None,\n",
              "   'human_annotations': [{'timestamp': '2020-03-21T00:23:46.721000Z',\n",
              "     'annotator_id': 1,\n",
              "     'tagged_token_id': '32fdf9e7-63f7-442a-8e25-f08ea4ad94d5',\n",
              "     'name': 'Ashpat123',\n",
              "     'reason': 'exploration'}],\n",
              "   'model_annotations': []},\n",
              "  {'id': '392094d2-febf-4074-a2ca-4c0082f4e5b8',\n",
              "   'tag_id': 'c06bd022-6ded-44a5-8d90-f17685bb85a1',\n",
              "   'end': 37,\n",
              "   'start': 25,\n",
              "   'example_id': '18c2f619-f102-452f-ab81-d26f7e283ffe',\n",
              "   'tag_name': 'Medicine',\n",
              "   'value': 'Pepto-Bismol',\n",
              "   'correct': None,\n",
              "   'human_annotations': [{'timestamp': '2020-03-21T00:23:58.861000Z',\n",
              "     'annotator_id': 1,\n",
              "     'tagged_token_id': '392094d2-febf-4074-a2ca-4c0082f4e5b8',\n",
              "     'name': 'Ashpat123',\n",
              "     'reason': 'exploration'}],\n",
              "   'model_annotations': []},\n",
              "  {'id': '450b8c30-cf2e-4774-96d9-58b4160bea38',\n",
              "   'tag_id': '03eb3e50-d4d8-4261-a60b-fa5aee5deb4a',\n",
              "   'end': 470,\n",
              "   'start': 461,\n",
              "   'example_id': '18c2f619-f102-452f-ab81-d26f7e283ffe',\n",
              "   'tag_name': 'MedicalCondition',\n",
              "   'value': 'diarrhea ',\n",
              "   'correct': None,\n",
              "   'human_annotations': [],\n",
              "   'model_annotations': []},\n",
              "  {'id': '6b73f683-7130-4e16-bcc2-e3cc8cf89f4d',\n",
              "   'tag_id': 'c06bd022-6ded-44a5-8d90-f17685bb85a1',\n",
              "   'end': 589,\n",
              "   'start': 577,\n",
              "   'example_id': '18c2f619-f102-452f-ab81-d26f7e283ffe',\n",
              "   'tag_name': 'Medicine',\n",
              "   'value': 'chemotherapy',\n",
              "   'correct': None,\n",
              "   'human_annotations': [{'timestamp': '2020-03-21T00:25:24.179000Z',\n",
              "     'annotator_id': 1,\n",
              "     'tagged_token_id': '6b73f683-7130-4e16-bcc2-e3cc8cf89f4d',\n",
              "     'name': 'Ashpat123',\n",
              "     'reason': 'exploration'}],\n",
              "   'model_annotations': []},\n",
              "  {'id': '74574b7f-d535-48e1-8651-2708adcfe453',\n",
              "   'tag_id': '03eb3e50-d4d8-4261-a60b-fa5aee5deb4a',\n",
              "   'end': 865,\n",
              "   'start': 853,\n",
              "   'example_id': '18c2f619-f102-452f-ab81-d26f7e283ffe',\n",
              "   'tag_name': 'MedicalCondition',\n",
              "   'value': 'constipation',\n",
              "   'correct': None,\n",
              "   'human_annotations': [{'timestamp': '2020-03-21T00:26:31.676000Z',\n",
              "     'annotator_id': 1,\n",
              "     'tagged_token_id': '74574b7f-d535-48e1-8651-2708adcfe453',\n",
              "     'name': 'Ashpat123',\n",
              "     'reason': 'exploration'}],\n",
              "   'model_annotations': []},\n",
              "  {'id': '7572ab8e-ae99-400c-b4ab-ed46fbc9f97e',\n",
              "   'tag_id': 'c06bd022-6ded-44a5-8d90-f17685bb85a1',\n",
              "   'end': 198,\n",
              "   'start': 188,\n",
              "   'example_id': '18c2f619-f102-452f-ab81-d26f7e283ffe',\n",
              "   'tag_name': 'Medicine',\n",
              "   'value': 'loperamide',\n",
              "   'correct': None,\n",
              "   'human_annotations': [{'timestamp': '2020-03-21T00:24:17.680000Z',\n",
              "     'annotator_id': 1,\n",
              "     'tagged_token_id': '7572ab8e-ae99-400c-b4ab-ed46fbc9f97e',\n",
              "     'name': 'Ashpat123',\n",
              "     'reason': 'exploration'}],\n",
              "   'model_annotations': []},\n",
              "  {'id': '800e6c6c-0bfb-4819-a25a-34f759753457',\n",
              "   'tag_id': '03eb3e50-d4d8-4261-a60b-fa5aee5deb4a',\n",
              "   'end': 762,\n",
              "   'start': 754,\n",
              "   'example_id': '18c2f619-f102-452f-ab81-d26f7e283ffe',\n",
              "   'tag_name': 'MedicalCondition',\n",
              "   'value': 'diarrhea',\n",
              "   'correct': None,\n",
              "   'human_annotations': [{'timestamp': '2020-03-21T00:26:07.368000Z',\n",
              "     'annotator_id': 1,\n",
              "     'tagged_token_id': '800e6c6c-0bfb-4819-a25a-34f759753457',\n",
              "     'name': 'Ashpat123',\n",
              "     'reason': 'exploration'}],\n",
              "   'model_annotations': []},\n",
              "  {'id': '8214556a-7584-4d9b-86cd-5e09137ad904',\n",
              "   'tag_id': '03eb3e50-d4d8-4261-a60b-fa5aee5deb4a',\n",
              "   'end': 880,\n",
              "   'start': 870,\n",
              "   'example_id': '18c2f619-f102-452f-ab81-d26f7e283ffe',\n",
              "   'tag_name': 'MedicalCondition',\n",
              "   'value': 'flatulence',\n",
              "   'correct': None,\n",
              "   'human_annotations': [{'timestamp': '2020-03-21T00:26:41.322000Z',\n",
              "     'annotator_id': 1,\n",
              "     'tagged_token_id': '8214556a-7584-4d9b-86cd-5e09137ad904',\n",
              "     'name': 'Ashpat123',\n",
              "     'reason': 'exploration'}],\n",
              "   'model_annotations': []},\n",
              "  {'id': '98968e14-6756-4174-9d3d-7abd58b3aa34',\n",
              "   'tag_id': 'c06bd022-6ded-44a5-8d90-f17685bb85a1',\n",
              "   'end': 833,\n",
              "   'start': 823,\n",
              "   'example_id': '18c2f619-f102-452f-ab81-d26f7e283ffe',\n",
              "   'tag_name': 'Medicine',\n",
              "   'value': 'loperamide',\n",
              "   'correct': None,\n",
              "   'human_annotations': [{'timestamp': '2020-03-21T00:26:12.759000Z',\n",
              "     'annotator_id': 1,\n",
              "     'tagged_token_id': '98968e14-6756-4174-9d3d-7abd58b3aa34',\n",
              "     'name': 'Ashpat123',\n",
              "     'reason': 'exploration'}],\n",
              "   'model_annotations': []},\n",
              "  {'id': 'a0a03c7b-cfad-41ee-9f5c-f8a802475994',\n",
              "   'tag_id': '03eb3e50-d4d8-4261-a60b-fa5aee5deb4a',\n",
              "   'end': 853,\n",
              "   'start': 852,\n",
              "   'example_id': '18c2f619-f102-452f-ab81-d26f7e283ffe',\n",
              "   'tag_name': 'MedicalCondition',\n",
              "   'value': ' ',\n",
              "   'correct': None,\n",
              "   'human_annotations': [],\n",
              "   'model_annotations': []},\n",
              "  {'id': 'bfbddfd4-38aa-43a7-9366-24c95829ac8c',\n",
              "   'tag_id': '03eb3e50-d4d8-4261-a60b-fa5aee5deb4a',\n",
              "   'end': 469,\n",
              "   'start': 461,\n",
              "   'example_id': '18c2f619-f102-452f-ab81-d26f7e283ffe',\n",
              "   'tag_name': 'MedicalCondition',\n",
              "   'value': 'diarrhea',\n",
              "   'correct': None,\n",
              "   'human_annotations': [{'timestamp': '2020-03-21T00:25:06.921000Z',\n",
              "     'annotator_id': 1,\n",
              "     'tagged_token_id': 'bfbddfd4-38aa-43a7-9366-24c95829ac8c',\n",
              "     'name': 'Ashpat123',\n",
              "     'reason': 'exploration'}],\n",
              "   'model_annotations': []},\n",
              "  {'id': 'd7d68c18-0d8e-4547-a2fa-81fdcaf3080e',\n",
              "   'tag_id': '03eb3e50-d4d8-4261-a60b-fa5aee5deb4a',\n",
              "   'end': 543,\n",
              "   'start': 535,\n",
              "   'example_id': '18c2f619-f102-452f-ab81-d26f7e283ffe',\n",
              "   'tag_name': 'MedicalCondition',\n",
              "   'value': 'diarrhea',\n",
              "   'correct': None,\n",
              "   'human_annotations': [{'timestamp': '2020-03-21T00:25:12.203000Z',\n",
              "     'annotator_id': 1,\n",
              "     'tagged_token_id': 'd7d68c18-0d8e-4547-a2fa-81fdcaf3080e',\n",
              "     'name': 'Ashpat123',\n",
              "     'reason': 'exploration'}],\n",
              "   'model_annotations': []},\n",
              "  {'id': 'ee956220-42a4-4a91-b9f0-75019c4f5dd9',\n",
              "   'tag_id': 'c06bd022-6ded-44a5-8d90-f17685bb85a1',\n",
              "   'end': 704,\n",
              "   'start': 692,\n",
              "   'example_id': '18c2f619-f102-452f-ab81-d26f7e283ffe',\n",
              "   'tag_name': 'Medicine',\n",
              "   'value': 'Racecadotril',\n",
              "   'correct': None,\n",
              "   'human_annotations': [{'timestamp': '2020-03-21T00:25:56.503000Z',\n",
              "     'annotator_id': 1,\n",
              "     'tagged_token_id': 'ee956220-42a4-4a91-b9f0-75019c4f5dd9',\n",
              "     'name': 'Ashpat123',\n",
              "     'reason': 'exploration'}],\n",
              "   'model_annotations': []},\n",
              "  {'id': 'f04a6b7e-8904-405c-9301-e4543238b7a5',\n",
              "   'tag_id': '03eb3e50-d4d8-4261-a60b-fa5aee5deb4a',\n",
              "   'end': 571,\n",
              "   'start': 563,\n",
              "   'example_id': '18c2f619-f102-452f-ab81-d26f7e283ffe',\n",
              "   'tag_name': 'MedicalCondition',\n",
              "   'value': 'diarrhea',\n",
              "   'correct': None,\n",
              "   'human_annotations': [{'timestamp': '2020-03-21T00:25:18.043000Z',\n",
              "     'annotator_id': 1,\n",
              "     'tagged_token_id': 'f04a6b7e-8904-405c-9301-e4543238b7a5',\n",
              "     'name': 'Ashpat123',\n",
              "     'reason': 'exploration'}],\n",
              "   'model_annotations': []}],\n",
              " 'classifications': []}"
            ]
          },
          "metadata": {},
          "execution_count": 59
        }
      ],
      "source": [
        "data['examples'][0]"
      ]
    },
    {
      "cell_type": "code",
      "execution_count": 60,
      "id": "9588a6fb",
      "metadata": {
        "colab": {
          "base_uri": "https://localhost:8080/",
          "height": 36
        },
        "id": "9588a6fb",
        "outputId": "065cf807-a299-47b5-dbe6-3e044f6b88c5"
      },
      "outputs": [
        {
          "output_type": "execute_result",
          "data": {
            "text/plain": [
              "'aluminomagnesium silicate'"
            ],
            "application/vnd.google.colaboratory.intrinsic+json": {
              "type": "string"
            }
          },
          "metadata": {},
          "execution_count": 60
        }
      ],
      "source": [
        "data['examples'][0]['content'][383:408]"
      ]
    },
    {
      "cell_type": "code",
      "execution_count": 61,
      "id": "9fe574c7",
      "metadata": {
        "colab": {
          "base_uri": "https://localhost:8080/"
        },
        "id": "9fe574c7",
        "outputId": "848a9b3e-c525-4248-f1dd-f9596a51dd5d"
      },
      "outputs": [
        {
          "output_type": "execute_result",
          "data": {
            "text/plain": [
              "{'id': '0825a1bf-6a6e-4fa2-be77-8d104701eaed',\n",
              " 'tag_id': 'c06bd022-6ded-44a5-8d90-f17685bb85a1',\n",
              " 'end': 371,\n",
              " 'start': 360,\n",
              " 'example_id': '18c2f619-f102-452f-ab81-d26f7e283ffe',\n",
              " 'tag_name': 'Medicine',\n",
              " 'value': 'Diosmectite',\n",
              " 'correct': None,\n",
              " 'human_annotations': [{'timestamp': '2020-03-21T00:24:32.098000Z',\n",
              "   'annotator_id': 1,\n",
              "   'tagged_token_id': '0825a1bf-6a6e-4fa2-be77-8d104701eaed',\n",
              "   'name': 'Ashpat123',\n",
              "   'reason': 'exploration'}],\n",
              " 'model_annotations': []}"
            ]
          },
          "metadata": {},
          "execution_count": 61
        }
      ],
      "source": [
        "data['examples'][0]['annotations'][0]"
      ]
    },
    {
      "cell_type": "code",
      "execution_count": 62,
      "id": "83f35b34",
      "metadata": {
        "id": "83f35b34"
      },
      "outputs": [],
      "source": [
        "training_data = []\n",
        "for example in data['examples']:\n",
        "    temp_dict = {}\n",
        "    temp_dict['text'] = example['content']\n",
        "    temp_dict['entities'] = []\n",
        "    for annotation in example['annotations']:\n",
        "        start = annotation['start']\n",
        "        end = annotation['end']\n",
        "        label = annotation['tag_name'].upper()\n",
        "        temp_dict['entities'].append((start, end, label))\n",
        "    training_data.append(temp_dict)"
      ]
    },
    {
      "cell_type": "code",
      "execution_count": 63,
      "id": "c28f9332",
      "metadata": {
        "colab": {
          "base_uri": "https://localhost:8080/"
        },
        "id": "c28f9332",
        "outputId": "53843f36-9842-4494-8440-358fa596d63b"
      },
      "outputs": [
        {
          "output_type": "execute_result",
          "data": {
            "text/plain": [
              "[{'text': \"While bismuth compounds (Pepto-Bismol) decreased the number of bowel movements in those with travelers' diarrhea, they do not decrease the length of illness.[91] Anti-motility agents like loperamide are also effective at reducing the number of stools but not the duration of disease.[8] These agents should be used only if bloody diarrhea is not present.[92]\\n\\nDiosmectite, a natural aluminomagnesium silicate clay, is effective in alleviating symptoms of acute diarrhea in children,[93] and also has some effects in chronic functional diarrhea, radiation-induced diarrhea, and chemotherapy-induced diarrhea.[45] Another absorbent agent used for the treatment of mild diarrhea is kaopectate.\\n\\nRacecadotril an antisecretory medication may be used to treat diarrhea in children and adults.[86] It has better tolerability than loperamide, as it causes less constipation and flatulence.[94]\",\n",
              "  'entities': [(360, 371, 'MEDICINE'),\n",
              "   (383, 408, 'MEDICINE'),\n",
              "   (104, 112, 'MEDICALCONDITION'),\n",
              "   (679, 689, 'MEDICINE'),\n",
              "   (6, 23, 'MEDICINE'),\n",
              "   (25, 37, 'MEDICINE'),\n",
              "   (461, 470, 'MEDICALCONDITION'),\n",
              "   (577, 589, 'MEDICINE'),\n",
              "   (853, 865, 'MEDICALCONDITION'),\n",
              "   (188, 198, 'MEDICINE'),\n",
              "   (754, 762, 'MEDICALCONDITION'),\n",
              "   (870, 880, 'MEDICALCONDITION'),\n",
              "   (823, 833, 'MEDICINE'),\n",
              "   (852, 853, 'MEDICALCONDITION'),\n",
              "   (461, 469, 'MEDICALCONDITION'),\n",
              "   (535, 543, 'MEDICALCONDITION'),\n",
              "   (692, 704, 'MEDICINE'),\n",
              "   (563, 571, 'MEDICALCONDITION')]},\n",
              " {'text': 'Diarrhea, also spelled diarrhoea, is the condition of having at least three loose, liquid, or watery bowel movements each day.[2] It often lasts for a few days and can result in dehydration due to fluid loss.[2] Signs of dehydration often begin with loss of the normal stretchiness of the skin and irritable behaviour.[2] This can progress to decreased urination, loss of skin color, a fast heart rate, and a decrease in responsiveness as it becomes more severe.[2] Loose but non-watery stools in babies who are exclusively breastfed, however, are normal.[2]',\n",
              "  'entities': [(364, 382, 'MEDICALCONDITION'),\n",
              "   (0, 8, 'MEDICALCONDITION'),\n",
              "   (94, 116, 'MEDICALCONDITION'),\n",
              "   (178, 189, 'MEDICALCONDITION'),\n",
              "   (221, 232, 'MEDICALCONDITION'),\n",
              "   (23, 32, 'MEDICALCONDITION'),\n",
              "   (409, 435, 'MEDICALCONDITION'),\n",
              "   (386, 401, 'MEDICALCONDITION')]},\n",
              " {'text': 'Antiretroviral therapy (ART) is recommended for all HIV-infected individuals to reduce the risk of disease progression.\\nART also is recommended for HIV-infected individuals for the prevention of transmission of HIV.\\nPatients starting ART should be willing and able to commit to treatment and understand the benefits and risks of therapy and the importance of adherence. Patients may choose to postpone therapy, and providers, on a case-by-case basis, may elect to defer therapy on the basis of clinical and/or psychosocial factors.',\n",
              "  'entities': [(0, 22, 'MEDICINE'),\n",
              "   (24, 27, 'MEDICINE'),\n",
              "   (120, 123, 'MEDICINE'),\n",
              "   (211, 214, 'PATHOGEN'),\n",
              "   (52, 55, 'PATHOGEN'),\n",
              "   (234, 237, 'MEDICINE'),\n",
              "   (148, 151, 'PATHOGEN')]},\n",
              " {'text': 'The following drugs are considered as DMARDs: methotrexate, hydroxychloroquine, sulfasalazine, leflunomide, TNF-alpha inhibitors (certolizumab, infliximab and etanercept), abatacept, and anakinra. Rituximab and tocilizumab are monoclonal antibodies and are also DMARDs.[8] Use of tocilizumab is associated with a risk of increased cholesterol levels.[87]\\n\\nHydroxychloroquine, apart from its low toxicity profile, is considered effective in the moderate RA treatment.[88]\\n\\nThe most commonly used agent is methotrexate with other frequently used agents including sulfasalazine and leflunomide.[8] Leflunomide is effective when used from 6–12 months, with similar effectiveness to methotrexate when used for 2 years.[89] Sulfasalazine also appears to be most effective in the short-term treatment of rheumatoid arthritis.[90] Sodium aurothiomalate (gold) and cyclosporin are less commonly used due to more common adverse effects.[8] However, cyclosporin was found to be effective in the progressive RA when used up to one year.[91] Agents may be used in combinations however, people may experience greater side effects.[8][92] Methotrexate is the most important and useful DMARD and is usually the first treatment.[8][5][93] A combined approach with methotrexate and biologics improves ACR50, HAQ scores and RA remission rates.[94] Triple therapy consisting of methotrexate, sulfasalazine and hydroxychloroquine may also effectively control disease activity.[95] Adverse effects should be monitored regularly with toxicity including gastrointestinal, hematologic, pulmonary, and hepatic.[93] Side effects such as nausea, vomiting or abdominal pain can be reduced by taking folic acid.[96]',\n",
              "  'entities': [(1211, 1589, 'MEDICALCONDITION'),\n",
              "   (38, 44, 'MEDICINE'),\n",
              "   (356, 374, 'MEDICINE'),\n",
              "   (939, 950, 'MEDICINE'),\n",
              "   (1638, 1639, 'MEDICALCONDITION'),\n",
              "   (1212, 1588, 'MEDICALCONDITION'),\n",
              "   (262, 269, 'MEDICALCONDITION'),\n",
              "   (60, 78, 'MEDICINE'),\n",
              "   (718, 731, 'MEDICINE'),\n",
              "   (227, 248, 'MEDICINE'),\n",
              "   (678, 690, 'MEDICINE'),\n",
              "   (197, 206, 'MEDICINE'),\n",
              "   (1372, 1385, 'MEDICINE'),\n",
              "   (856, 867, 'MEDICINE'),\n",
              "   (159, 169, 'MEDICINE'),\n",
              "   (130, 142, 'MEDICINE'),\n",
              "   (262, 268, 'MEDICINE'),\n",
              "   (561, 574, 'MEDICINE'),\n",
              "   (108, 128, 'MEDICINE'),\n",
              "   (1670, 1680, 'MEDICALCONDITION'),\n",
              "   (80, 106, 'MEDICINE'),\n",
              "   (1610, 1616, 'MEDICALCONDITION'),\n",
              "   (453, 465, 'MEDICINE'),\n",
              "   (797, 817, 'MEDICALCONDITION'),\n",
              "   (595, 606, 'MEDICINE'),\n",
              "   (46, 58, 'MEDICINE'),\n",
              "   (823, 844, 'MEDICINE'),\n",
              "   (1124, 1136, 'MEDICINE'),\n",
              "   (1630, 1644, 'MEDICALCONDITION'),\n",
              "   (579, 590, 'MEDICINE'),\n",
              "   (1358, 1370, 'MEDICINE'),\n",
              "   (1618, 1626, 'MEDICINE'),\n",
              "   (504, 516, 'MEDICINE'),\n",
              "   (144, 154, 'MEDICINE'),\n",
              "   (1390, 1408, 'MEDICINE'),\n",
              "   (81, 106, 'MEDICALCONDITION'),\n",
              "   (211, 222, 'MEDICINE'),\n",
              "   (280, 291, 'MEDICINE')]},\n",
              " {'text': \"The goals of treatment are to reduce pain, decrease inflammation, and improve a person's overall functioning.[5] This may be helped by balancing rest and exercise, the use of splints and braces, or the use of assistive devices.[1][6][7] Pain medications, steroids, and NSAIDs are frequently used to help with symptoms.[1] Disease-modifying antirheumatic drugs (DMARDs), such as hydroxychloroquine and methotrexate, may be used to try to slow the progression of disease.[1] Biological DMARDs may be used when disease does not respond to other treatments.[8] However, they may have a greater rate of adverse effects.[9] Surgery to repair, replace, or fuse joints may help in certain situations.[1] Most alternative medicine treatments are not supported by evidence.[10][11]\",\n",
              "  'entities': [(401, 413, 'MEDICINE'),\n",
              "   (378, 396, 'MEDICINE'),\n",
              "   (473, 490, 'MEDICINE'),\n",
              "   (255, 263, 'MEDICINE')]},\n",
              " {'text': \"Hantaviruses, usually found in rodents and shrews, were discovered in two species of bats. The Mouyassué virus (MOUV) was isolated from banana pipistrelle bats captured near Mouyassué village in Cote d'Ivoire, West Africa. The Magboi virus was isolated from hairy slit-faced bats found near the Magboi River in Sierra Leone in 2011. They are single-stranded, negative sense, RNA viruses in the Bunyaviridae family.[29][30][31][32]\",\n",
              "  'entities': [(0, 12, 'PATHOGEN'),\n",
              "   (394, 406, 'PATHOGEN'),\n",
              "   (227, 239, 'PATHOGEN'),\n",
              "   (95, 110, 'PATHOGEN')]},\n",
              " {'text': 'Bats are the most common source of rabies in humans in North and South America, Western Europe, and Australia. In the United States, there were 19 cases of human rabies from 1997–2006, 17 of which were attributed to bats.[27] In North America, about half of human rabies instances are cryptic, meaning that the patient has no known bite history.[24] While it has been speculated that rabies virus could be transmitted through aerosols, studies of the rabies virus have concluded that this is only feasible in limited conditions. These conditions include a very large colony of bats in a hot and humid cave with poor ventilation. While two human deaths in 1956 and 1959 had been tentatively attributed to aerosolization of the rabies virus after entering a cave with bats, \"investigations of the 2 reported human cases revealed that both infections could be explained by means other than aerosol transmission\".[28] It is instead generally thought that most instances of cryptic rabies are the result of an unknown bat bite.[24] Bites from a bat can be so small that they are not visible without magnification equipment, for example. Outside of bites, rabies virus exposure can also occur if infected fluids come in contact with a mucous membrane or a break in the skin. Rabies virus has also been transmitted when an infected human unknowingly dies of rabies, and their organs are transplanted to others.[28]',\n",
              "  'entities': [(35, 41, 'MEDICALCONDITION'),\n",
              "   (162, 168, 'MEDICALCONDITION'),\n",
              "   (165, 167, 'MEDICALCONDITION'),\n",
              "   (384, 396, 'PATHOGEN'),\n",
              "   (1269, 1281, 'PATHOGEN'),\n",
              "   (1343, 1347, 'MEDICALCONDITION'),\n",
              "   (977, 983, 'MEDICALCONDITION'),\n",
              "   (1027, 1032, 'MEDICALCONDITION')]},\n",
              " {'text': 'In 2003, following the outbreak of severe acute respiratory syndrome (SARS) which had begun the prior year in Asia, and secondary cases elsewhere in the world, the World Health Organization (WHO) issued a press release stating that a novel coronavirus identified by a number of laboratories was the causative agent for SARS. The virus was officially named the SARS coronavirus (SARS-CoV). More than 8,000 people were infected, about ten percent of whom died.[25]',\n",
              "  'entities': [(35, 68, 'MEDICALCONDITION'),\n",
              "   (240, 252, 'MEDICALCONDITION'),\n",
              "   (70, 74, 'MEDICALCONDITION'),\n",
              "   (453, 457, 'MEDICALCONDITION'),\n",
              "   (240, 251, 'PATHOGEN'),\n",
              "   (360, 376, 'PATHOGEN'),\n",
              "   (319, 323, 'MEDICALCONDITION'),\n",
              "   (378, 386, 'PATHOGEN')]},\n",
              " {'text': 'Bacterial vaginosis is caused by bacteria that change the vaginal microbiota caused by an overgrowth of bacteria that crowd out the Lactobacilli species that maintain healthy vaginal microbial populations.\\nOther non-bacterial vaginal infections include: yeast infection (candidiasis), Trichomonas vaginalis (trichomoniasis).[8][9]\\nBacterial meningitis is a bacterial inflammation of the meninges, that is, the protective membranes covering the brain and spinal cord.\\nBacterial pneumonia is a bacterial infection of the lungs.\\nUrinary tract infection is predominantly caused by bacteria. Symptoms include the strong and frequent sensation or urge to urinate, pain during urination, and urine that is cloudy.[10] The main causal agent is Escherichia coli. Urine is typically sterile but contains a variety of salts, and waste products.[11] Bacteria can ascend into the bladder or kidney and causing cystitis and nephritis.\\nBacterial gastroenteritis is caused by enteric, pathogenic bacteria. These pathogenic species are usually distinct from the usually harmless bacteria of the normal gut flora. But a different strain of the same species may be pathogenic. The distinction is sometimes difficult as in the case of Escherichia.\\nBacterial skin infections include:\\nImpetigo is a highly contagious bacterial skin infection commonly seen in children.[12] It is caused by Staphylococcus aureus, and Streptococcus pyogenes.[13]\\nErysipelas is an acute streptococcus bacterial infection[14] of the deeper skin layers that spreads via with lymphatic system.\\nCellulitis is a diffuse inflammation[15] of connective tissue with severe inflammation of dermal and subcutaneous layers of the skin. Cellulitis can be caused by normal skin flora or by contagious contact, and usually occurs through open skin, cuts, blisters, cracks in the skin, insect bites, animal bites, burns, surgical wounds, intravenous drug injection, or sites of intravenous catheter insertion. In most cases it is the skin on the face or lower legs that is affected, though cellulitis can occur in other tissues.',\n",
              "  'entities': [(271, 282, 'MEDICALCONDITION'),\n",
              "   (0, 19, 'PATHOGEN'),\n",
              "   (1305, 1319, 'MEDICALCONDITION'),\n",
              "   (33, 42, 'PATHOGEN'),\n",
              "   (897, 905, 'MEDICALCONDITION'),\n",
              "   (1799, 1807, 'MEDICALCONDITION'),\n",
              "   (1549, 1559, 'MEDICALCONDITION'),\n",
              "   (658, 679, 'MEDICALCONDITION'),\n",
              "   (226, 244, 'MEDICALCONDITION'),\n",
              "   (1422, 1432, 'PATHOGEN'),\n",
              "   (1367, 1388, 'PATHOGEN'),\n",
              "   (921, 946, 'PATHOGEN'),\n",
              "   (1864, 1879, 'MEDICALCONDITION'),\n",
              "   (1394, 1416, 'PATHOGEN'),\n",
              "   (286, 300, 'MEDICALCONDITION'),\n",
              "   (357, 379, 'PATHOGEN'),\n",
              "   (467, 486, 'PATHOGEN'),\n",
              "   (254, 269, 'MEDICALCONDITION'),\n",
              "   (1623, 1635, 'MEDICALCONDITION'),\n",
              "   (910, 919, 'MEDICALCONDITION'),\n",
              "   (1809, 1827, 'MEDICALCONDITION'),\n",
              "   (1881, 1907, 'MEDICINE'),\n",
              "   (1573, 1585, 'MEDICALCONDITION'),\n",
              "   (1843, 1855, 'MEDICALCONDITION'),\n",
              "   (33, 41, 'PATHOGEN'),\n",
              "   (1921, 1951, 'MEDICINE'),\n",
              "   (1683, 1693, 'MEDICALCONDITION'),\n",
              "   (1623, 1636, 'MEDICALCONDITION'),\n",
              "   (132, 144, 'PATHOGEN'),\n",
              "   (331, 351, 'PATHOGEN'),\n",
              "   (1215, 1226, 'PATHOGEN'),\n",
              "   (285, 306, 'PATHOGEN'),\n",
              "   (736, 752, 'PATHOGEN')]},\n",
              " {'text': 'Other groups of intracellular bacterial pathogens include Salmonella, Neisseria, Brucella, Mycobacterium, Nocardia, Listeria, Francisella, Legionella, and Yersinia pestis. These can exist intracellularly, but can exist outside of host cells.',\n",
              "  'entities': [(116, 124, 'PATHOGEN'),\n",
              "   (155, 170, 'PATHOGEN'),\n",
              "   (126, 137, 'PATHOGEN'),\n",
              "   (70, 79, 'PATHOGEN'),\n",
              "   (139, 149, 'PATHOGEN'),\n",
              "   (106, 114, 'PATHOGEN'),\n",
              "   (91, 104, 'PATHOGEN'),\n",
              "   (81, 89, 'PATHOGEN'),\n",
              "   (58, 68, 'PATHOGEN')]},\n",
              " {'text': 'One of the bacterial diseases with the highest disease burden is tuberculosis, caused by Mycobacterium tuberculosis bacteria, which kills about 2 million people a year, mostly in sub-Saharan Africa. Pathogenic bacteria contribute to other globally important diseases, such as pneumonia, which can be caused by bacteria such as Streptococcus and Pseudomonas, and foodborne illnesses, which can be caused by bacteria such as Shigella, Campylobacter, and Salmonella. Pathogenic bacteria also cause infections such as tetanus, typhoid fever, diphtheria, syphilis, and leprosy. Pathogenic bacteria are also the cause of high infant mortality rates in developing countries.[3]',\n",
              "  'entities': [(327, 340, 'PATHOGEN'),\n",
              "   (514, 521, 'MEDICALCONDITION'),\n",
              "   (513, 522, 'MEDICALCONDITION'),\n",
              "   (433, 447, 'PATHOGEN'),\n",
              "   (452, 462, 'PATHOGEN'),\n",
              "   (276, 285, 'MEDICALCONDITION'),\n",
              "   (523, 536, 'MEDICALCONDITION'),\n",
              "   (564, 571, 'MEDICALCONDITION'),\n",
              "   (433, 446, 'PATHOGEN'),\n",
              "   (538, 548, 'MEDICALCONDITION'),\n",
              "   (345, 356, 'PATHOGEN'),\n",
              "   (65, 77, 'MEDICALCONDITION'),\n",
              "   (550, 558, 'MEDICALCONDITION'),\n",
              "   (524, 536, 'MEDICALCONDITION'),\n",
              "   (89, 115, 'PATHOGEN'),\n",
              "   (423, 431, 'PATHOGEN')]},\n",
              " {'text': \"Although the vast majority of bacteria are harmless or beneficial to one's body, a few pathogenic bacteria can cause infectious diseases. The most common bacterial disease is tuberculosis, caused by the bacterium Mycobacterium tuberculosis, which affects about 2 million people mostly in sub-Saharan Africa. Pathogenic bacteria contribute to other globally important diseases, such as pneumonia, which can be caused by bacteria such as Streptococcus and Pseudomonas, and foodborne illnesses, which can be caused by bacteria such as Shigella, Campylobacter, and Salmonella. Pathogenic bacteria also cause infections such as tetanus, typhoid fever, diphtheria, syphilis, and Hansen's disease. They typically range between 1 and 5 micrometers in length.\",\n",
              "  'entities': [(659, 667, 'MEDICALCONDITION'),\n",
              "   (436, 449, 'PATHOGEN'),\n",
              "   (673, 689, 'MEDICALCONDITION'),\n",
              "   (30, 38, 'PATHOGEN'),\n",
              "   (454, 465, 'PATHOGEN'),\n",
              "   (647, 657, 'MEDICALCONDITION'),\n",
              "   (87, 106, 'PATHOGEN'),\n",
              "   (542, 554, 'MEDICALCONDITION'),\n",
              "   (532, 540, 'PATHOGEN'),\n",
              "   (30, 39, 'PATHOGEN'),\n",
              "   (561, 571, 'PATHOGEN'),\n",
              "   (623, 630, 'MEDICALCONDITION'),\n",
              "   (471, 490, 'MEDICALCONDITION'),\n",
              "   (632, 645, 'MEDICALCONDITION'),\n",
              "   (542, 555, 'PATHOGEN'),\n",
              "   (648, 667, 'MEDICALCONDITION')]},\n",
              " {'text': 'Much like viral pathogens, infection by certain bacterial pathogens can be prevented via vaccines.[30] Vaccines against bacterial pathogens include the anthrax vaccine and the pneumococcal vaccine. Many other bacterial pathogens lack vaccines as a preventive measure, but infection by these bacteria can often be treated or prevented with antibiotics. Common antibiotics include amoxicillin, ciprofloxacin, and doxycycline. Each antibiotic has different bacteria that it is effective against and has different mechanisms to kill that bacteria. For example, doxycycline inhibits the synthesis of new proteins in both gram-negative and gram-positive bacteria which leads to the death of the affected bacteria.[35]',\n",
              "  'entities': [(379, 390, 'MEDICINE'),\n",
              "   (152, 167, 'MEDICINE'),\n",
              "   (411, 422, 'MEDICINE'),\n",
              "   (392, 405, 'MEDICINE'),\n",
              "   (176, 196, 'MEDICINE')]},\n",
              " {'text': 'The term pathogen came into use in the 1880s.[1][2] Typically, the term is used to describe an infectious microorganism or agent, such as a virus, bacterium, protozoan, prion, viroid, or fungus.[',\n",
              "  'entities': [(158, 167, 'PATHOGEN'),\n",
              "   (95, 119, 'PATHOGEN'),\n",
              "   (187, 193, 'PATHOGEN'),\n",
              "   (147, 156, 'PATHOGEN'),\n",
              "   (140, 145, 'PATHOGEN')]},\n",
              " {'text': \"Some antidepressants are used as a treatment for social anxiety disorder, but their efficacy is not entirely convincing, as only a small proportion of antidepressants showed some efficacy for this condition. Paroxetine was the first drug to be FDA-approved for this disorder. Its efficacy is considered beneficial, although not everyone responds favorably to the drug. Sertraline and fluvoxamine extended release were later approved for it as well, while escitalopram is used off-label with acceptable efficacy. However, there isn't enough evidence to support citalopram for treating social phobia, and fluoxetine was no better than placebo in clinical trials. SSRIs are used as a first-line treatment for social anxiety, but they don't work for everyone. One alternative would be venlafaxine, which is a SNRI. It showed benefits for social phobia in five clinical trials against placebo, while the other SNRIs are not considered particularly useful for this disorder as many of them didn't undergo testing for it. As of now, it is unclear if duloxetine and desvenlafaxine can provide benefits for social anxiety sufferers. However, another class of antidepressants called MAOIs are considered effective for social anxiety, but they come with many unwanted side effects and are rarely used. Phenelzine was shown to be a good treatment option, but its use is limited by dietary restrictions. Moclobemide is a RIMA and showed mixed results but still got approval in some European countries for social anxiety disorder. TCA antidepressants, such as clomipramine and imipramine, are not considered effective for this anxiety disorder in particular. This leaves out SSRIs such as paroxetine, sertraline and fluvoxamine CR as acceptable and tolerated treatment options for this disorder.[19][20]\",\n",
              "  'entities': [(384, 395, 'MEDICINE'),\n",
              "   (1098, 1112, 'MEDICALCONDITION'),\n",
              "   (1687, 1697, 'MEDICINE'),\n",
              "   (49, 72, 'MEDICALCONDITION'),\n",
              "   (1173, 1178, 'MEDICINE'),\n",
              "   (1702, 1713, 'MEDICINE'),\n",
              "   (781, 792, 'MEDICINE'),\n",
              "   (1563, 1573, 'MEDICINE'),\n",
              "   (48, 72, 'MEDICALCONDITION'),\n",
              "   (603, 613, 'MEDICINE'),\n",
              "   (1675, 1685, 'MEDICALCONDITION'),\n",
              "   (1613, 1629, 'MEDICALCONDITION'),\n",
              "   (369, 379, 'MEDICINE'),\n",
              "   (1291, 1301, 'MEDICINE'),\n",
              "   (1546, 1558, 'MEDICINE'),\n",
              "   (1394, 1402, 'MEDICALCONDITION'),\n",
              "   (835, 848, 'MEDICALCONDITION'),\n",
              "   (1106, 1112, 'MEDICALCONDITION'),\n",
              "   (1391, 1392, 'MEDICALCONDITION'),\n",
              "   (455, 467, 'MEDICINE'),\n",
              "   (1391, 1402, 'MEDICINE'),\n",
              "   (584, 597, 'MEDICALCONDITION')]},\n",
              " {'text': \"However, existing data suggest that patients taking bedaquiline in addition to standard TB therapy are five times more likely to die than those without the new drug,[184] which has resulted in medical journal articles raising health policy questions about why the FDA approved the drug and whether financial ties to the company making bedaquiline influenced physicians' support for its use.[183][185]\",\n",
              "  'entities': [(88, 98, 'MEDICINE'),\n",
              "   (335, 346, 'MEDICINE'),\n",
              "   (52, 63, 'MEDICINE')]},\n",
              " {'text': 'Latent TB is treated with either isoniazid or rifampin alone, or a combination of isoniazid with either rifampicin or rifapentine.[90][91][92]\\n\\nThe treatment takes three to nine months depending on the medications used.[51][90][93][92] People with latent infections are treated to prevent them from progressing to active TB disease later in life.[94]',\n",
              "  'entities': [(118, 129, 'MEDICINE'),\n",
              "   (33, 42, 'MEDICINE'),\n",
              "   (46, 54, 'MEDICINE'),\n",
              "   (82, 91, 'MEDICINE'),\n",
              "   (33, 43, 'MEDICALCONDITION'),\n",
              "   (104, 114, 'MEDICINE')]},\n",
              " {'text': 'If a tuberculosis infection does become active, it most commonly involves the lungs (in about 90% of cases).[14][17] Symptoms may include chest pain and a prolonged cough producing sputum. About 25% of people may not have any symptoms (i.e. they remain \"asymptomatic\").[14] Occasionally, people may cough up blood in small amounts, and in very rare cases, the infection may erode into the pulmonary artery or a Rasmussen\\'s aneurysm, resulting in massive bleeding.[9][18] Tuberculosis may become a chronic illness and cause extensive scarring in the upper lobes of the lungs. The upper lung lobes are more frequently affected by tuberculosis than the lower ones.[9] The reason for this difference is not clear.[13] It may be due to either better air flow,[13] or poor lymph drainage within the upper lungs.[',\n",
              "  'entities': [(523, 541, 'MEDICALCONDITION'),\n",
              "   (138, 148, 'MEDICALCONDITION'),\n",
              "   (155, 170, 'MEDICALCONDITION'),\n",
              "   (299, 313, 'MEDICALCONDITION'),\n",
              "   (446, 462, 'MEDICALCONDITION')]},\n",
              " {'text': 'Tuberculosis may infect any part of the body, but most commonly occurs in the lungs (known as pulmonary tuberculosis).[9] Extrapulmonary TB occurs when tuberculosis develops outside of the lungs, although extrapulmonary TB may coexist with pulmonary TB.[9]\\n\\nGeneral signs and symptoms include fever, chills, night sweats, loss of appetite, weight loss, and fatigue.[9] Significant nail clubbing may also occur.[16]',\n",
              "  'entities': []},\n",
              " {'text': 'A number of factors make people more susceptible to TB infections. The most important risk factor globally is HIV; 13% of all people with TB are infected by the virus.[39] This is a particular problem in sub-Saharan Africa, where rates of HIV are high.[40][41] Of people without HIV who are infected with tuberculosis, about 5–10% develop active disease during their lifetimes;[16] in contrast, 30% of those coinfected with HIV develop the active disease.[16]',\n",
              "  'entities': [(279, 283, 'PATHOGEN'), (279, 282, 'PATHOGEN')]},\n",
              " {'text': 'In 15–20% of active cases, the infection spreads outside the lungs, causing other kinds of TB.[19] These are collectively denoted as \"extrapulmonary tuberculosis\".[20] Extrapulmonary TB occurs more commonly in people with a weakened immune system and young children. In those with HIV, this occurs in more than 50% of cases.[20] Notable extrapulmonary infection sites include the pleura (in tuberculous pleurisy), the central nervous system (in tuberculous meningitis), the lymphatic system (in scrofula of the neck), the genitourinary system (in urogenital tuberculosis), and the bones and joints (in Pott disease of the spine), among others. A potentially more serious, widespread form of TB is called \"disseminated tuberculosis\", it is also known as miliary tuberculosis.[9] Miliary TB currently makes up about 10% of extrapulmonary cases.[21]',\n",
              "  'entities': [(134, 161, 'MEDICALCONDITION'),\n",
              "   (753, 773, 'MEDICALCONDITION'),\n",
              "   (337, 361, 'MEDICALCONDITION'),\n",
              "   (445, 467, 'MEDICALCONDITION')]},\n",
              " {'text': 'Although viruses cause disruption of healthy homeostasis, resulting in disease, they may exist relatively harmlessly within an organism. An example would include the ability of the herpes simplex virus, which causes cold sores, to remain in a dormant state within the human body. This is called latency[153] and is a characteristic of the herpes viruses, including Epstein–Barr virus, which causes glandular fever, and varicella zoster virus, which causes chickenpox and shingles. Most people have been infected with at least one of these types of herpes virus.[154] These latent viruses might sometimes be beneficial, as the presence of the virus can increase immunity against bacterial pathogens, such as Yersinia pestis.[155]',\n",
              "  'entities': [(456, 466, 'MEDICALCONDITION'),\n",
              "   (471, 479, 'MEDICALCONDITION'),\n",
              "   (419, 441, 'PATHOGEN'),\n",
              "   (365, 383, 'PATHOGEN'),\n",
              "   (707, 722, 'PATHOGEN'),\n",
              "   (181, 201, 'PATHOGEN'),\n",
              "   (456, 467, 'MEDICALCONDITION')]},\n",
              " {'text': 'Examples of common human diseases caused by viruses include the common cold, influenza, chickenpox, and cold sores. Many serious diseases such as rabies, Ebola virus disease, AIDS (HIV), avian influenza, and SARS are caused by viruses. The relative ability of viruses to cause disease is described in terms of virulence. Other diseases are under investigation to discover if they have a virus as the causative agent, such as the possible connection between human herpesvirus 6 (HHV6) and neurological diseases such as multiple sclerosis and chronic fatigue syndrome.[151] There is controversy over whether the bornavirus, previously thought to cause neurological diseases in horses, could be responsible for psychiatric illnesses in humans.[152]',\n",
              "  'entities': [(518, 536, 'MEDICALCONDITION'),\n",
              "   (154, 165, 'PATHOGEN'),\n",
              "   (708, 729, 'MEDICALCONDITION'),\n",
              "   (463, 476, 'PATHOGEN'),\n",
              "   (77, 86, 'MEDICALCONDITION'),\n",
              "   (88, 98, 'MEDICALCONDITION'),\n",
              "   (187, 202, 'MEDICALCONDITION'),\n",
              "   (610, 620, 'PATHOGEN')]},\n",
              " {'text': \"All medical applications known so far involve not pure adamantane, but its derivatives. The first adamantane derivative used as a drug was amantadine – first (1967) as an antiviral drug against various strains of flu[50] and then to treat Parkinson's disease.[51][52] Other drugs among adamantane derivatives include adapalene, adapromine, bromantane, carmantadine, chlodantane, dopamantine, memantine, rimantadine, saxagliptin, tromantadine, and vildagliptin. Polymers of adamantane have been patented as antiviral agents against HIV.[53]\",\n",
              "  'entities': [(239, 258, 'MEDICALCONDITION'),\n",
              "   (55, 65, 'MEDICINE'),\n",
              "   (531, 534, 'PATHOGEN'),\n",
              "   (416, 427, 'MEDICINE'),\n",
              "   (379, 390, 'MEDICINE'),\n",
              "   (352, 364, 'MEDICINE'),\n",
              "   (139, 149, 'MEDICINE')]},\n",
              " {'text': 'Buprenorphine has been shown experimentally (1982–1995) to be effective against severe, refractory depression',\n",
              "  'entities': [(0, 13, 'MEDICINE'),\n",
              "   (88, 109, 'MEDICALCONDITION'),\n",
              "   (0, 14, 'MEDICALCONDITION')]},\n",
              " {'text': 'Gabapentin, approved for treatment of seizures and postherpetic neuralgia in adults, has side-effects which are useful in treating bipolar disorder1, essential tremor, hot flashes, migraine prophylaxis, neuropathic pain syndromes, phantom limb syndrome, and restless leg syndrome.[11]',\n",
              "  'entities': [(203, 229, 'MEDICALCONDITION'),\n",
              "   (258, 279, 'MEDICALCONDITION'),\n",
              "   (181, 201, 'MEDICALCONDITION'),\n",
              "   (51, 73, 'MEDICALCONDITION'),\n",
              "   (0, 10, 'MEDICINE'),\n",
              "   (38, 46, 'MEDICALCONDITION')]},\n",
              " {'text': 'Bupropion (Wellbutrin), an anti-depressant, is also used as a smoking cessation aid; this indication was later approved, and the name of the smoking cessation product is Zyban. In Ontario, Canada, smoking cessation drugs are not covered by provincial drug plans; elsewhere, Zyban is priced higher than Wellbutrin, despite being the same drug. Therefore, some physicians prescribe Wellbutrin for both indications.[',\n",
              "  'entities': [(274, 279, 'MEDICINE'),\n",
              "   (11, 21, 'MEDICINE'),\n",
              "   (302, 312, 'MEDICINE'),\n",
              "   (301, 312, 'MEDICALCONDITION'),\n",
              "   (380, 390, 'MEDICINE'),\n",
              "   (170, 175, 'MEDICINE'),\n",
              "   (0, 9, 'MEDICINE')]},\n",
              " {'text': 'Carbamazepine is an approved treatment for bipolar disorder and epileptic seizures, but it has side effects useful in treating attention-deficit hyperactivity disorder (ADHD), schizophrenia, phantom limb syndrome, paroxysmal extreme pain disorder, neuromyotonia, and post-traumatic stress disorder.[8]',\n",
              "  'entities': [(267, 288, 'MEDICALCONDITION'),\n",
              "   (248, 261, 'MEDICALCONDITION'),\n",
              "   (0, 13, 'MEDICINE'),\n",
              "   (43, 59, 'MEDICALCONDITION'),\n",
              "   (145, 167, 'MEDICALCONDITION'),\n",
              "   (0, 14, 'MEDICALCONDITION'),\n",
              "   (176, 189, 'MEDICALCONDITION'),\n",
              "   (64, 82, 'MEDICALCONDITION'),\n",
              "   (191, 212, 'MEDICALCONDITION')]},\n",
              " {'text': 'The antiviral drugs amantadine and rimantadine inhibit a viral ion channel (M2 protein), thus inhibiting replication of the influenza A virus.[86] These drugs are sometimes effective against influenza A if given early in the infection but are ineffective against influenza B viruses, which lack the M2 drug target.[160] Measured resistance to amantadine and rimantadine in American isolates of H3N2 has increased to 91% in 2005.[161] This high level of resistance may be due to the easy availability of amantadines as part of over-the-counter cold remedies in countries such as China and Russia,[162] and their use to prevent outbreaks of influenza in farmed poultry.[163][164] The CDC recommended against using M2 inhibitors during the 2005–06 influenza season due to high levels of drug resistance.[165]',\n",
              "  'entities': [(639, 648, 'MEDICALCONDITION'),\n",
              "   (35, 46, 'MEDICINE'),\n",
              "   (712, 725, 'MEDICINE'),\n",
              "   (20, 30, 'MEDICINE')]},\n",
              " {'text': 'The two classes of antiviral drugs used against influenza are neuraminidase inhibitors (oseltamivir, zanamivir, laninamivir and peramivir) and M2 protein inhibitors (adamantane derivatives)',\n",
              "  'entities': [(128, 137, 'MEDICINE'),\n",
              "   (48, 58, 'MEDICALCONDITION'),\n",
              "   (101, 110, 'MEDICINE'),\n",
              "   (112, 123, 'MEDICINE'),\n",
              "   (112, 124, 'MEDICALCONDITION'),\n",
              "   (48, 57, 'MEDICALCONDITION'),\n",
              "   (88, 99, 'MEDICINE')]},\n",
              " {'text': 'Influenza, commonly known as \"the flu\", is an infectious disease caused by an influenza virus.[1] Symptoms can be mild to severe.[5] The most common symptoms include: high fever, runny nose, sore throat, muscle and joint pain, headache, coughing, and feeling tired.[1] These symptoms typically begin two days after exposure to the virus and most last less than a week.[1] The cough, however, may last for more than two weeks.[1] In children, there may be diarrhea and vomiting, but these are not common in adults.[6] Diarrhea and vomiting occur more commonly in gastroenteritis, which is an unrelated disease and sometimes inaccurately referred to as \"stomach flu\" or the \"24-hour flu\".[6] Complications of influenza may include viral pneumonia, secondary bacterial pneumonia, sinus infections, and worsening of previous health problems such as asthma or heart failure.[2][5]',\n",
              "  'entities': [(191, 202, 'MEDICALCONDITION'),\n",
              "   (0, 9, 'MEDICALCONDITION'),\n",
              "   (845, 852, 'MEDICALCONDITION'),\n",
              "   (756, 775, 'PATHOGEN'),\n",
              "   (468, 476, 'MEDICALCONDITION'),\n",
              "   (227, 235, 'MEDICALCONDITION'),\n",
              "   (845, 851, 'MEDICALCONDITION'),\n",
              "   (237, 245, 'MEDICALCONDITION'),\n",
              "   (777, 793, 'MEDICALCONDITION'),\n",
              "   (855, 868, 'MEDICALCONDITION'),\n",
              "   (215, 225, 'MEDICALCONDITION'),\n",
              "   (652, 663, 'MEDICALCONDITION'),\n",
              "   (455, 464, 'MEDICALCONDITION'),\n",
              "   (251, 264, 'MEDICALCONDITION'),\n",
              "   (455, 463, 'MEDICALCONDITION'),\n",
              "   (78, 93, 'PATHOGEN')]}]"
            ]
          },
          "metadata": {},
          "execution_count": 63
        }
      ],
      "source": [
        "training_data"
      ]
    },
    {
      "cell_type": "code",
      "execution_count": 64,
      "id": "83b048ff",
      "metadata": {
        "colab": {
          "base_uri": "https://localhost:8080/",
          "height": 36
        },
        "id": "83b048ff",
        "outputId": "87feb168-b974-4e04-bf08-070a56265b4b"
      },
      "outputs": [
        {
          "output_type": "execute_result",
          "data": {
            "text/plain": [
              "'Diosmectite'"
            ],
            "application/vnd.google.colaboratory.intrinsic+json": {
              "type": "string"
            }
          },
          "metadata": {},
          "execution_count": 64
        }
      ],
      "source": [
        "training_data[0]['text'][360:371]"
      ]
    },
    {
      "cell_type": "code",
      "source": [
        "import spacy"
      ],
      "metadata": {
        "id": "ayIsjOi4a1Js"
      },
      "id": "ayIsjOi4a1Js",
      "execution_count": 65,
      "outputs": []
    },
    {
      "cell_type": "code",
      "execution_count": 66,
      "id": "b0f4b2ec",
      "metadata": {
        "id": "b0f4b2ec"
      },
      "outputs": [],
      "source": [
        "custom_ner = spacy.blank(\"en_custom_medical\")"
      ]
    },
    {
      "cell_type": "code",
      "execution_count": 67,
      "id": "07642305",
      "metadata": {
        "colab": {
          "base_uri": "https://localhost:8080/"
        },
        "id": "07642305",
        "outputId": "6a692dc4-5c03-43a7-81f0-7fd243e9ebbe"
      },
      "outputs": [
        {
          "output_type": "stream",
          "name": "stderr",
          "text": [
            " 13%|█▎        | 4/31 [00:00<00:00, 29.69it/s]"
          ]
        },
        {
          "output_type": "stream",
          "name": "stdout",
          "text": [
            "Skipping entity\n",
            "Skipping entity\n",
            "Skipping entity\n",
            "Skipping entity\n",
            "Skipping entity\n",
            "Skipping entity\n",
            "Skipping entity\n",
            "Skipping entity\n"
          ]
        },
        {
          "output_type": "stream",
          "name": "stderr",
          "text": [
            " 55%|█████▍    | 17/31 [00:00<00:00, 52.09it/s]"
          ]
        },
        {
          "output_type": "stream",
          "name": "stdout",
          "text": [
            "Skipping entity\n",
            "Skipping entity\n",
            "Skipping entity\n",
            "Skipping entity\n",
            "Skipping entity\n",
            "Skipping entity\n",
            "Skipping entity\n",
            "Skipping entity\n"
          ]
        },
        {
          "output_type": "stream",
          "name": "stderr",
          "text": [
            "100%|██████████| 31/31 [00:00<00:00, 62.07it/s]\n"
          ]
        }
      ],
      "source": [
        "from spacy.tokens import DocBin\n",
        "from spacy.util import filter_spans\n",
        "from tqdm import tqdm\n",
        "\n",
        "doc_bin = DocBin()\n",
        "for training_example  in tqdm(training_data):\n",
        "    text = training_example['text']\n",
        "    labels = training_example['entities']\n",
        "    doc = custom_ner.make_doc(text)\n",
        "    ents = []\n",
        "    for start, end, label in labels:\n",
        "        span = doc.char_span(start, end, label=label, alignment_mode=\"contract\")\n",
        "        if span is None:\n",
        "            print(\"Skipping entity\")\n",
        "        else:\n",
        "            ents.append(span)\n",
        "    filtered_ents = filter_spans(ents)\n",
        "    doc.ents = filtered_ents\n",
        "    doc_bin.add(doc)\n",
        "\n",
        "doc_bin.to_disk(\"train.spacy\")"
      ]
    },
    {
      "cell_type": "markdown",
      "id": "9088813a",
      "metadata": {
        "id": "9088813a"
      },
      "source": [
        "https://spacy.io/usage/training#quickstart"
      ]
    },
    {
      "cell_type": "code",
      "execution_count": 68,
      "id": "e2341bed",
      "metadata": {
        "scrolled": true,
        "colab": {
          "base_uri": "https://localhost:8080/"
        },
        "id": "e2341bed",
        "outputId": "cce1606e-04e5-4624-a834-caacf3d33e13"
      },
      "outputs": [
        {
          "output_type": "stream",
          "name": "stdout",
          "text": [
            "2023-12-18 19:57:25.251086: E external/local_xla/xla/stream_executor/cuda/cuda_dnn.cc:9261] Unable to register cuDNN factory: Attempting to register factory for plugin cuDNN when one has already been registered\n",
            "2023-12-18 19:57:25.251144: E external/local_xla/xla/stream_executor/cuda/cuda_fft.cc:607] Unable to register cuFFT factory: Attempting to register factory for plugin cuFFT when one has already been registered\n",
            "2023-12-18 19:57:25.256444: E external/local_xla/xla/stream_executor/cuda/cuda_blas.cc:1515] Unable to register cuBLAS factory: Attempting to register factory for plugin cuBLAS when one has already been registered\n",
            "2023-12-18 19:57:28.386714: W tensorflow/compiler/tf2tensorrt/utils/py_utils.cc:38] TF-TRT Warning: Could not find TensorRT\n",
            "\u001b[38;5;2m✔ Auto-filled config with all values\u001b[0m\n",
            "\u001b[38;5;2m✔ Saved config\u001b[0m\n",
            "config.cfg\n",
            "You can now add your data and train your pipeline:\n",
            "python -m spacy train config.cfg --paths.train ./train.spacy --paths.dev ./dev.spacy\n"
          ]
        }
      ],
      "source": [
        "!python -m spacy init fill-config base_config.cfg config.cfg"
      ]
    },
    {
      "cell_type": "code",
      "source": [
        "!python -m spacy download en_core_web_lg\n"
      ],
      "metadata": {
        "colab": {
          "base_uri": "https://localhost:8080/"
        },
        "id": "oGSvcf1wgrrL",
        "outputId": "8de050ea-ece8-4fe4-bf7d-7d78b55375a1"
      },
      "id": "oGSvcf1wgrrL",
      "execution_count": 71,
      "outputs": [
        {
          "output_type": "stream",
          "name": "stdout",
          "text": [
            "2023-12-18 19:59:22.321103: E external/local_xla/xla/stream_executor/cuda/cuda_dnn.cc:9261] Unable to register cuDNN factory: Attempting to register factory for plugin cuDNN when one has already been registered\n",
            "2023-12-18 19:59:22.321182: E external/local_xla/xla/stream_executor/cuda/cuda_fft.cc:607] Unable to register cuFFT factory: Attempting to register factory for plugin cuFFT when one has already been registered\n",
            "2023-12-18 19:59:22.323080: E external/local_xla/xla/stream_executor/cuda/cuda_blas.cc:1515] Unable to register cuBLAS factory: Attempting to register factory for plugin cuBLAS when one has already been registered\n",
            "2023-12-18 19:59:25.088915: W tensorflow/compiler/tf2tensorrt/utils/py_utils.cc:38] TF-TRT Warning: Could not find TensorRT\n",
            "Collecting en-core-web-lg==3.6.0\n",
            "  Downloading https://github.com/explosion/spacy-models/releases/download/en_core_web_lg-3.6.0/en_core_web_lg-3.6.0-py3-none-any.whl (587.7 MB)\n",
            "\u001b[2K     \u001b[90m━━━━━━━━━━━━━━━━━━━━━━━━━━━━━━━━━━━━━━━━\u001b[0m \u001b[32m587.7/587.7 MB\u001b[0m \u001b[31m2.6 MB/s\u001b[0m eta \u001b[36m0:00:00\u001b[0m\n",
            "\u001b[?25hRequirement already satisfied: spacy<3.7.0,>=3.6.0 in /usr/local/lib/python3.10/dist-packages (from en-core-web-lg==3.6.0) (3.6.1)\n",
            "Requirement already satisfied: spacy-legacy<3.1.0,>=3.0.11 in /usr/local/lib/python3.10/dist-packages (from spacy<3.7.0,>=3.6.0->en-core-web-lg==3.6.0) (3.0.12)\n",
            "Requirement already satisfied: spacy-loggers<2.0.0,>=1.0.0 in /usr/local/lib/python3.10/dist-packages (from spacy<3.7.0,>=3.6.0->en-core-web-lg==3.6.0) (1.0.5)\n",
            "Requirement already satisfied: murmurhash<1.1.0,>=0.28.0 in /usr/local/lib/python3.10/dist-packages (from spacy<3.7.0,>=3.6.0->en-core-web-lg==3.6.0) (1.0.10)\n",
            "Requirement already satisfied: cymem<2.1.0,>=2.0.2 in /usr/local/lib/python3.10/dist-packages (from spacy<3.7.0,>=3.6.0->en-core-web-lg==3.6.0) (2.0.8)\n",
            "Requirement already satisfied: preshed<3.1.0,>=3.0.2 in /usr/local/lib/python3.10/dist-packages (from spacy<3.7.0,>=3.6.0->en-core-web-lg==3.6.0) (3.0.9)\n",
            "Requirement already satisfied: thinc<8.2.0,>=8.1.8 in /usr/local/lib/python3.10/dist-packages (from spacy<3.7.0,>=3.6.0->en-core-web-lg==3.6.0) (8.1.12)\n",
            "Requirement already satisfied: wasabi<1.2.0,>=0.9.1 in /usr/local/lib/python3.10/dist-packages (from spacy<3.7.0,>=3.6.0->en-core-web-lg==3.6.0) (1.1.2)\n",
            "Requirement already satisfied: srsly<3.0.0,>=2.4.3 in /usr/local/lib/python3.10/dist-packages (from spacy<3.7.0,>=3.6.0->en-core-web-lg==3.6.0) (2.4.8)\n",
            "Requirement already satisfied: catalogue<2.1.0,>=2.0.6 in /usr/local/lib/python3.10/dist-packages (from spacy<3.7.0,>=3.6.0->en-core-web-lg==3.6.0) (2.0.10)\n",
            "Requirement already satisfied: typer<0.10.0,>=0.3.0 in /usr/local/lib/python3.10/dist-packages (from spacy<3.7.0,>=3.6.0->en-core-web-lg==3.6.0) (0.9.0)\n",
            "Requirement already satisfied: pathy>=0.10.0 in /usr/local/lib/python3.10/dist-packages (from spacy<3.7.0,>=3.6.0->en-core-web-lg==3.6.0) (0.10.3)\n",
            "Requirement already satisfied: smart-open<7.0.0,>=5.2.1 in /usr/local/lib/python3.10/dist-packages (from spacy<3.7.0,>=3.6.0->en-core-web-lg==3.6.0) (6.4.0)\n",
            "Requirement already satisfied: tqdm<5.0.0,>=4.38.0 in /usr/local/lib/python3.10/dist-packages (from spacy<3.7.0,>=3.6.0->en-core-web-lg==3.6.0) (4.66.1)\n",
            "Requirement already satisfied: numpy>=1.15.0 in /usr/local/lib/python3.10/dist-packages (from spacy<3.7.0,>=3.6.0->en-core-web-lg==3.6.0) (1.23.5)\n",
            "Requirement already satisfied: requests<3.0.0,>=2.13.0 in /usr/local/lib/python3.10/dist-packages (from spacy<3.7.0,>=3.6.0->en-core-web-lg==3.6.0) (2.31.0)\n",
            "Requirement already satisfied: pydantic!=1.8,!=1.8.1,<3.0.0,>=1.7.4 in /usr/local/lib/python3.10/dist-packages (from spacy<3.7.0,>=3.6.0->en-core-web-lg==3.6.0) (1.10.13)\n",
            "Requirement already satisfied: jinja2 in /usr/local/lib/python3.10/dist-packages (from spacy<3.7.0,>=3.6.0->en-core-web-lg==3.6.0) (3.1.2)\n",
            "Requirement already satisfied: setuptools in /usr/local/lib/python3.10/dist-packages (from spacy<3.7.0,>=3.6.0->en-core-web-lg==3.6.0) (67.7.2)\n",
            "Requirement already satisfied: packaging>=20.0 in /usr/local/lib/python3.10/dist-packages (from spacy<3.7.0,>=3.6.0->en-core-web-lg==3.6.0) (23.2)\n",
            "Requirement already satisfied: langcodes<4.0.0,>=3.2.0 in /usr/local/lib/python3.10/dist-packages (from spacy<3.7.0,>=3.6.0->en-core-web-lg==3.6.0) (3.3.0)\n",
            "Requirement already satisfied: typing-extensions>=4.2.0 in /usr/local/lib/python3.10/dist-packages (from pydantic!=1.8,!=1.8.1,<3.0.0,>=1.7.4->spacy<3.7.0,>=3.6.0->en-core-web-lg==3.6.0) (4.5.0)\n",
            "Requirement already satisfied: charset-normalizer<4,>=2 in /usr/local/lib/python3.10/dist-packages (from requests<3.0.0,>=2.13.0->spacy<3.7.0,>=3.6.0->en-core-web-lg==3.6.0) (3.3.2)\n",
            "Requirement already satisfied: idna<4,>=2.5 in /usr/local/lib/python3.10/dist-packages (from requests<3.0.0,>=2.13.0->spacy<3.7.0,>=3.6.0->en-core-web-lg==3.6.0) (3.6)\n",
            "Requirement already satisfied: urllib3<3,>=1.21.1 in /usr/local/lib/python3.10/dist-packages (from requests<3.0.0,>=2.13.0->spacy<3.7.0,>=3.6.0->en-core-web-lg==3.6.0) (2.0.7)\n",
            "Requirement already satisfied: certifi>=2017.4.17 in /usr/local/lib/python3.10/dist-packages (from requests<3.0.0,>=2.13.0->spacy<3.7.0,>=3.6.0->en-core-web-lg==3.6.0) (2023.11.17)\n",
            "Requirement already satisfied: blis<0.8.0,>=0.7.8 in /usr/local/lib/python3.10/dist-packages (from thinc<8.2.0,>=8.1.8->spacy<3.7.0,>=3.6.0->en-core-web-lg==3.6.0) (0.7.11)\n",
            "Requirement already satisfied: confection<1.0.0,>=0.0.1 in /usr/local/lib/python3.10/dist-packages (from thinc<8.2.0,>=8.1.8->spacy<3.7.0,>=3.6.0->en-core-web-lg==3.6.0) (0.1.4)\n",
            "Requirement already satisfied: click<9.0.0,>=7.1.1 in /usr/local/lib/python3.10/dist-packages (from typer<0.10.0,>=0.3.0->spacy<3.7.0,>=3.6.0->en-core-web-lg==3.6.0) (8.1.7)\n",
            "Requirement already satisfied: MarkupSafe>=2.0 in /usr/local/lib/python3.10/dist-packages (from jinja2->spacy<3.7.0,>=3.6.0->en-core-web-lg==3.6.0) (2.1.3)\n",
            "Installing collected packages: en-core-web-lg\n",
            "Successfully installed en-core-web-lg-3.6.0\n",
            "\u001b[38;5;2m✔ Download and installation successful\u001b[0m\n",
            "You can now load the package via spacy.load('en_core_web_lg')\n"
          ]
        }
      ]
    },
    {
      "cell_type": "code",
      "execution_count": 73,
      "id": "0b4caed9",
      "metadata": {
        "colab": {
          "base_uri": "https://localhost:8080/"
        },
        "id": "0b4caed9",
        "outputId": "bc17e95d-8fc1-4915-cabf-638e57104976"
      },
      "outputs": [
        {
          "output_type": "stream",
          "name": "stdout",
          "text": [
            "2023-12-18 20:00:43.025868: E external/local_xla/xla/stream_executor/cuda/cuda_dnn.cc:9261] Unable to register cuDNN factory: Attempting to register factory for plugin cuDNN when one has already been registered\n",
            "2023-12-18 20:00:43.025936: E external/local_xla/xla/stream_executor/cuda/cuda_fft.cc:607] Unable to register cuFFT factory: Attempting to register factory for plugin cuFFT when one has already been registered\n",
            "2023-12-18 20:00:43.027273: E external/local_xla/xla/stream_executor/cuda/cuda_blas.cc:1515] Unable to register cuBLAS factory: Attempting to register factory for plugin cuBLAS when one has already been registered\n",
            "2023-12-18 20:00:44.305725: W tensorflow/compiler/tf2tensorrt/utils/py_utils.cc:38] TF-TRT Warning: Could not find TensorRT\n",
            "\u001b[38;5;4mℹ Saving to output directory: .\u001b[0m\n",
            "\u001b[38;5;4mℹ Using CPU\u001b[0m\n",
            "\u001b[1m\n",
            "=========================== Initializing pipeline ===========================\u001b[0m\n",
            "\u001b[38;5;2m✔ Initialized pipeline\u001b[0m\n",
            "\u001b[1m\n",
            "============================= Training pipeline =============================\u001b[0m\n",
            "\u001b[38;5;4mℹ Pipeline: ['tok2vec', 'ner']\u001b[0m\n",
            "\u001b[38;5;4mℹ Initial learn rate: 0.001\u001b[0m\n",
            "E    #       LOSS TOK2VEC  LOSS NER  ENTS_F  ENTS_P  ENTS_R  SCORE \n",
            "---  ------  ------------  --------  ------  ------  ------  ------\n",
            "  0       0          0.00    153.29    0.55    0.91    0.39    0.01\n",
            "  7     200        499.25   3640.10   70.00   82.80   60.63    0.70\n",
            " 14     400        192.16   1153.36   87.20   97.10   79.13    0.87\n",
            " 22     600         72.20    471.57   93.66   97.45   90.16    0.94\n",
            " 30     800        117.10    435.09   95.67   95.67   95.67    0.96\n",
            " 40    1000         97.26    314.46   96.43   97.20   95.67    0.96\n",
            " 51    1200         96.63    232.85   97.84   97.65   98.03    0.98\n",
            " 65    1400        311.37    219.57   97.46   96.89   98.03    0.97\n",
            " 81    1600        129.49    227.94   98.43   98.43   98.43    0.98\n",
            "101    1800        125.51    232.96   98.81   99.21   98.43    0.99\n",
            "127    2000        440.32    253.24   98.82   98.82   98.82    0.99\n",
            "159    2200         92.65    240.60   98.81   99.21   98.43    0.99\n",
            "198    2400         48.37    250.91   98.82   98.44   99.21    0.99\n",
            "246    2600         85.11    303.28   98.82   98.44   99.21    0.99\n",
            "295    2800         68.32    287.54   98.82   98.82   98.82    0.99\n",
            "345    3000        105.53    290.70   98.82   98.44   99.21    0.99\n",
            "393    3200         28.88    256.28   98.82   98.82   98.82    0.99\n",
            "443    3400         31.69    254.55   98.81   99.21   98.43    0.99\n",
            "492    3600        150.51    313.65   98.62   98.43   98.82    0.99\n",
            "541    3800        110.70    279.27   98.82   98.44   99.21    0.99\n",
            "590    4000         53.70    269.63   98.82   98.44   99.21    0.99\n",
            "\u001b[38;5;2m✔ Saved pipeline to output directory\u001b[0m\n",
            "model-last\n"
          ]
        }
      ],
      "source": [
        "!python -m spacy train config.cfg --output ./ --paths.train ./train.spacy --paths.dev ./train.spacy"
      ]
    },
    {
      "cell_type": "code",
      "execution_count": 74,
      "id": "2aeb76db",
      "metadata": {
        "id": "2aeb76db"
      },
      "outputs": [],
      "source": [
        "nlp_ner = spacy.load(\"model-best\")"
      ]
    },
    {
      "cell_type": "code",
      "execution_count": 75,
      "id": "76989c19",
      "metadata": {
        "colab": {
          "base_uri": "https://localhost:8080/",
          "height": 157
        },
        "id": "76989c19",
        "outputId": "e4c63b3b-7c98-4c5c-c620-766e0353250f"
      },
      "outputs": [
        {
          "output_type": "display_data",
          "data": {
            "text/plain": [
              "<IPython.core.display.HTML object>"
            ],
            "text/html": [
              "<span class=\"tex2jax_ignore\"><div class=\"entities\" style=\"line-height: 2.5; direction: ltr\">While \n",
              "<mark class=\"entity\" style=\"background: #7DF6D9; padding: 0.45em 0.6em; margin: 0 0.25em; line-height: 1; border-radius: 0.35em;\">\n",
              "    bismuth compounds\n",
              "    <span style=\"font-size: 0.8em; font-weight: bold; line-height: 1; border-radius: 0.35em; vertical-align: middle; margin-left: 0.5rem\">MEDICINE</span>\n",
              "</mark>\n",
              " (\n",
              "<mark class=\"entity\" style=\"background: #7DF6D9; padding: 0.45em 0.6em; margin: 0 0.25em; line-height: 1; border-radius: 0.35em;\">\n",
              "    Pepto-Bismol\n",
              "    <span style=\"font-size: 0.8em; font-weight: bold; line-height: 1; border-radius: 0.35em; vertical-align: middle; margin-left: 0.5rem\">MEDICINE</span>\n",
              "</mark>\n",
              ") decreased the number of bowel movements in those with travelers' \n",
              "<mark class=\"entity\" style=\"background: #a6e22d; padding: 0.45em 0.6em; margin: 0 0.25em; line-height: 1; border-radius: 0.35em;\">\n",
              "    diarrhea\n",
              "    <span style=\"font-size: 0.8em; font-weight: bold; line-height: 1; border-radius: 0.35em; vertical-align: middle; margin-left: 0.5rem\">MEDICALCONDITION</span>\n",
              "</mark>\n",
              ", they do not decrease the length of illness.[91] Anti-motility agents like \n",
              "<mark class=\"entity\" style=\"background: #7DF6D9; padding: 0.45em 0.6em; margin: 0 0.25em; line-height: 1; border-radius: 0.35em;\">\n",
              "    loperamide\n",
              "    <span style=\"font-size: 0.8em; font-weight: bold; line-height: 1; border-radius: 0.35em; vertical-align: middle; margin-left: 0.5rem\">MEDICINE</span>\n",
              "</mark>\n",
              " are also effective at reducing the number of stools but not the duration of disease.[8] These agents should be used only if bloody diarrhea is not present.</div></span>"
            ]
          },
          "metadata": {}
        }
      ],
      "source": [
        "doc = nlp_ner(\"While bismuth compounds (Pepto-Bismol) decreased the number of bowel movements in those with travelers' diarrhea, they do not decrease the length of illness.[91] Anti-motility agents like loperamide are also effective at reducing the number of stools but not the duration of disease.[8] These agents should be used only if bloody diarrhea is not present.\")\n",
        "\n",
        "colors = {\"PATHOGEN\": \"#F67DE3\", \"MEDICINE\": \"#7DF6D9\", \"MEDICALCONDITION\":\"#a6e22d\"}\n",
        "options = {\"colors\": colors}\n",
        "\n",
        "displacy.render(doc, style=\"ent\", options= options, jupyter=True)"
      ]
    },
    {
      "cell_type": "code",
      "execution_count": 76,
      "id": "8f533e5e",
      "metadata": {
        "colab": {
          "base_uri": "https://localhost:8080/"
        },
        "id": "8f533e5e",
        "outputId": "40693e83-e004-48e5-b9da-74d38b2aacc9"
      },
      "outputs": [
        {
          "output_type": "stream",
          "name": "stdout",
          "text": [
            "bismuth compounds | MEDICINE\n",
            "Pepto-Bismol | MEDICINE\n",
            "diarrhea | MEDICALCONDITION\n",
            "loperamide | MEDICINE\n"
          ]
        }
      ],
      "source": [
        "for ents in doc.ents:\n",
        "    print(ents.text, end=' | ')\n",
        "    print(ents.label_)"
      ]
    },
    {
      "cell_type": "markdown",
      "id": "e271a220",
      "metadata": {
        "id": "e271a220"
      },
      "source": [
        "https://www.kaggle.com/datasets/abhinavwalia95/entity-annotated-corpus?resource=download"
      ]
    },
    {
      "cell_type": "code",
      "execution_count": null,
      "id": "d228a1f1",
      "metadata": {
        "id": "d228a1f1"
      },
      "outputs": [],
      "source": [
        "import pandas as pd\n",
        "df = pd.read_csv(\"NER_TF/ner_dataset.csv\", encoding=\"windows-1252\")"
      ]
    },
    {
      "cell_type": "code",
      "execution_count": null,
      "id": "80b3e7a2",
      "metadata": {
        "id": "80b3e7a2",
        "outputId": "1f560f47-8264-4d43-ee3d-7a3bb3ac8ede"
      },
      "outputs": [
        {
          "data": {
            "text/plain": [
              "O        887908\n",
              "B-geo     37644\n",
              "B-tim     20333\n",
              "B-org     20143\n",
              "I-per     17251\n",
              "B-per     16990\n",
              "I-org     16784\n",
              "B-gpe     15870\n",
              "I-geo      7414\n",
              "I-tim      6528\n",
              "B-art       402\n",
              "B-eve       308\n",
              "I-art       297\n",
              "I-eve       253\n",
              "B-nat       201\n",
              "I-gpe       198\n",
              "I-nat        51\n",
              "Name: Tag, dtype: int64"
            ]
          },
          "execution_count": 71,
          "metadata": {},
          "output_type": "execute_result"
        }
      ],
      "source": [
        "df['Tag'].value_counts()"
      ]
    },
    {
      "cell_type": "markdown",
      "id": "e88228d3",
      "metadata": {
        "id": "e88228d3"
      },
      "source": [
        "+ geo = Geographical Entity\n",
        "+ org = Organization\n",
        "+ per = Person\n",
        "+ gpe = Geopolitical Entity\n",
        "+ tim = Time indicator\n",
        "+ art = Artifact\n",
        "+ eve = Event\n",
        "+ nat = Natural Phenomenon"
      ]
    },
    {
      "cell_type": "markdown",
      "id": "f05c9374",
      "metadata": {
        "id": "f05c9374"
      },
      "source": [
        "## BILOU tags in NER\n",
        "+ B - 'beginning'\n",
        "+ I - 'inside'\n",
        "+ L - 'last'\n",
        "+ O - 'outside'\n",
        "+ U - 'unit'\n",
        "+ E - 'end', use it concurrently with the 'last' tag\n",
        "+ S - 'singleton', use it concurrently with the 'unit' tag"
      ]
    },
    {
      "cell_type": "markdown",
      "id": "92dff60a",
      "metadata": {
        "id": "92dff60a"
      },
      "source": [
        "BILOU Method/Schema\n",
        "\n",
        " | ------|--------------------|\n",
        " | BEGIN | The first token    |\n",
        " | ------|--------------------|\n",
        " | IN    | An inner token     |\n",
        " | ------|--------------------|\n",
        " | LAST  | The final token    |\n",
        " | ------|--------------------|\n",
        " | Unit  | A single-token     |\n",
        " | ------|--------------------|\n",
        " | Out   | A non-entity token |\n",
        " | ------|--------------------|"
      ]
    },
    {
      "cell_type": "markdown",
      "id": "3fbf338b",
      "metadata": {
        "id": "3fbf338b"
      },
      "source": [
        "(foo foo foo) (bar) no no no (bar bar)\n",
        "\n",
        "\n",
        "B-foo, I-foo, L-foo, U-bar, O, O, O, B-bar, L-bar"
      ]
    },
    {
      "cell_type": "markdown",
      "id": "c0661545",
      "metadata": {
        "id": "c0661545"
      },
      "source": [
        "https://en.wikipedia.org/wiki/Inside%E2%80%93outside%E2%80%93beginning_(tagging)\n",
        "\n",
        "https://towardsdatascience.com/deep-learning-for-ner-1-public-datasets-and-annotation-methods-8b1ad5e98caf"
      ]
    }
  ],
  "metadata": {
    "kernelspec": {
      "display_name": "Python 3",
      "name": "python3"
    },
    "language_info": {
      "codemirror_mode": {
        "name": "ipython",
        "version": 3
      },
      "file_extension": ".py",
      "mimetype": "text/x-python",
      "name": "python",
      "nbconvert_exporter": "python",
      "pygments_lexer": "ipython3",
      "version": "3.11.4"
    },
    "colab": {
      "provenance": []
    },
    "widgets": {
      "application/vnd.jupyter.widget-state+json": {
        "a93afaf8ae8a4b4c90ddc10ebd3c1dab": {
          "model_module": "@jupyter-widgets/controls",
          "model_name": "HBoxModel",
          "model_module_version": "1.5.0",
          "state": {
            "_dom_classes": [],
            "_model_module": "@jupyter-widgets/controls",
            "_model_module_version": "1.5.0",
            "_model_name": "HBoxModel",
            "_view_count": null,
            "_view_module": "@jupyter-widgets/controls",
            "_view_module_version": "1.5.0",
            "_view_name": "HBoxView",
            "box_style": "",
            "children": [
              "IPY_MODEL_93bb51ca250a4aa7a564f60251ad66f5",
              "IPY_MODEL_d378eec845f34bcead52a0bfb6401d7f",
              "IPY_MODEL_6341123da40c4811a6873724e439af36"
            ],
            "layout": "IPY_MODEL_ea6e7fc450d14152941c832a151e6851"
          }
        },
        "93bb51ca250a4aa7a564f60251ad66f5": {
          "model_module": "@jupyter-widgets/controls",
          "model_name": "HTMLModel",
          "model_module_version": "1.5.0",
          "state": {
            "_dom_classes": [],
            "_model_module": "@jupyter-widgets/controls",
            "_model_module_version": "1.5.0",
            "_model_name": "HTMLModel",
            "_view_count": null,
            "_view_module": "@jupyter-widgets/controls",
            "_view_module_version": "1.5.0",
            "_view_name": "HTMLView",
            "description": "",
            "description_tooltip": null,
            "layout": "IPY_MODEL_9f37c1707cb74fdcbdb97eaf39afc186",
            "placeholder": "​",
            "style": "IPY_MODEL_c775a21b396043dd9489f9902f74820f",
            "value": "tokenizer_config.json: 100%"
          }
        },
        "d378eec845f34bcead52a0bfb6401d7f": {
          "model_module": "@jupyter-widgets/controls",
          "model_name": "FloatProgressModel",
          "model_module_version": "1.5.0",
          "state": {
            "_dom_classes": [],
            "_model_module": "@jupyter-widgets/controls",
            "_model_module_version": "1.5.0",
            "_model_name": "FloatProgressModel",
            "_view_count": null,
            "_view_module": "@jupyter-widgets/controls",
            "_view_module_version": "1.5.0",
            "_view_name": "ProgressView",
            "bar_style": "success",
            "description": "",
            "description_tooltip": null,
            "layout": "IPY_MODEL_02fc29ae65024d1ba69ecf66cb2e4be1",
            "max": 59,
            "min": 0,
            "orientation": "horizontal",
            "style": "IPY_MODEL_59a94ae35a9743c0aa600b2367d3306f",
            "value": 59
          }
        },
        "6341123da40c4811a6873724e439af36": {
          "model_module": "@jupyter-widgets/controls",
          "model_name": "HTMLModel",
          "model_module_version": "1.5.0",
          "state": {
            "_dom_classes": [],
            "_model_module": "@jupyter-widgets/controls",
            "_model_module_version": "1.5.0",
            "_model_name": "HTMLModel",
            "_view_count": null,
            "_view_module": "@jupyter-widgets/controls",
            "_view_module_version": "1.5.0",
            "_view_name": "HTMLView",
            "description": "",
            "description_tooltip": null,
            "layout": "IPY_MODEL_699e3c232d0f4d27a55666266bacb0bc",
            "placeholder": "​",
            "style": "IPY_MODEL_e1801dc8239a4870ab26117f33a9c4d6",
            "value": " 59.0/59.0 [00:00&lt;00:00, 985B/s]"
          }
        },
        "ea6e7fc450d14152941c832a151e6851": {
          "model_module": "@jupyter-widgets/base",
          "model_name": "LayoutModel",
          "model_module_version": "1.2.0",
          "state": {
            "_model_module": "@jupyter-widgets/base",
            "_model_module_version": "1.2.0",
            "_model_name": "LayoutModel",
            "_view_count": null,
            "_view_module": "@jupyter-widgets/base",
            "_view_module_version": "1.2.0",
            "_view_name": "LayoutView",
            "align_content": null,
            "align_items": null,
            "align_self": null,
            "border": null,
            "bottom": null,
            "display": null,
            "flex": null,
            "flex_flow": null,
            "grid_area": null,
            "grid_auto_columns": null,
            "grid_auto_flow": null,
            "grid_auto_rows": null,
            "grid_column": null,
            "grid_gap": null,
            "grid_row": null,
            "grid_template_areas": null,
            "grid_template_columns": null,
            "grid_template_rows": null,
            "height": null,
            "justify_content": null,
            "justify_items": null,
            "left": null,
            "margin": null,
            "max_height": null,
            "max_width": null,
            "min_height": null,
            "min_width": null,
            "object_fit": null,
            "object_position": null,
            "order": null,
            "overflow": null,
            "overflow_x": null,
            "overflow_y": null,
            "padding": null,
            "right": null,
            "top": null,
            "visibility": null,
            "width": null
          }
        },
        "9f37c1707cb74fdcbdb97eaf39afc186": {
          "model_module": "@jupyter-widgets/base",
          "model_name": "LayoutModel",
          "model_module_version": "1.2.0",
          "state": {
            "_model_module": "@jupyter-widgets/base",
            "_model_module_version": "1.2.0",
            "_model_name": "LayoutModel",
            "_view_count": null,
            "_view_module": "@jupyter-widgets/base",
            "_view_module_version": "1.2.0",
            "_view_name": "LayoutView",
            "align_content": null,
            "align_items": null,
            "align_self": null,
            "border": null,
            "bottom": null,
            "display": null,
            "flex": null,
            "flex_flow": null,
            "grid_area": null,
            "grid_auto_columns": null,
            "grid_auto_flow": null,
            "grid_auto_rows": null,
            "grid_column": null,
            "grid_gap": null,
            "grid_row": null,
            "grid_template_areas": null,
            "grid_template_columns": null,
            "grid_template_rows": null,
            "height": null,
            "justify_content": null,
            "justify_items": null,
            "left": null,
            "margin": null,
            "max_height": null,
            "max_width": null,
            "min_height": null,
            "min_width": null,
            "object_fit": null,
            "object_position": null,
            "order": null,
            "overflow": null,
            "overflow_x": null,
            "overflow_y": null,
            "padding": null,
            "right": null,
            "top": null,
            "visibility": null,
            "width": null
          }
        },
        "c775a21b396043dd9489f9902f74820f": {
          "model_module": "@jupyter-widgets/controls",
          "model_name": "DescriptionStyleModel",
          "model_module_version": "1.5.0",
          "state": {
            "_model_module": "@jupyter-widgets/controls",
            "_model_module_version": "1.5.0",
            "_model_name": "DescriptionStyleModel",
            "_view_count": null,
            "_view_module": "@jupyter-widgets/base",
            "_view_module_version": "1.2.0",
            "_view_name": "StyleView",
            "description_width": ""
          }
        },
        "02fc29ae65024d1ba69ecf66cb2e4be1": {
          "model_module": "@jupyter-widgets/base",
          "model_name": "LayoutModel",
          "model_module_version": "1.2.0",
          "state": {
            "_model_module": "@jupyter-widgets/base",
            "_model_module_version": "1.2.0",
            "_model_name": "LayoutModel",
            "_view_count": null,
            "_view_module": "@jupyter-widgets/base",
            "_view_module_version": "1.2.0",
            "_view_name": "LayoutView",
            "align_content": null,
            "align_items": null,
            "align_self": null,
            "border": null,
            "bottom": null,
            "display": null,
            "flex": null,
            "flex_flow": null,
            "grid_area": null,
            "grid_auto_columns": null,
            "grid_auto_flow": null,
            "grid_auto_rows": null,
            "grid_column": null,
            "grid_gap": null,
            "grid_row": null,
            "grid_template_areas": null,
            "grid_template_columns": null,
            "grid_template_rows": null,
            "height": null,
            "justify_content": null,
            "justify_items": null,
            "left": null,
            "margin": null,
            "max_height": null,
            "max_width": null,
            "min_height": null,
            "min_width": null,
            "object_fit": null,
            "object_position": null,
            "order": null,
            "overflow": null,
            "overflow_x": null,
            "overflow_y": null,
            "padding": null,
            "right": null,
            "top": null,
            "visibility": null,
            "width": null
          }
        },
        "59a94ae35a9743c0aa600b2367d3306f": {
          "model_module": "@jupyter-widgets/controls",
          "model_name": "ProgressStyleModel",
          "model_module_version": "1.5.0",
          "state": {
            "_model_module": "@jupyter-widgets/controls",
            "_model_module_version": "1.5.0",
            "_model_name": "ProgressStyleModel",
            "_view_count": null,
            "_view_module": "@jupyter-widgets/base",
            "_view_module_version": "1.2.0",
            "_view_name": "StyleView",
            "bar_color": null,
            "description_width": ""
          }
        },
        "699e3c232d0f4d27a55666266bacb0bc": {
          "model_module": "@jupyter-widgets/base",
          "model_name": "LayoutModel",
          "model_module_version": "1.2.0",
          "state": {
            "_model_module": "@jupyter-widgets/base",
            "_model_module_version": "1.2.0",
            "_model_name": "LayoutModel",
            "_view_count": null,
            "_view_module": "@jupyter-widgets/base",
            "_view_module_version": "1.2.0",
            "_view_name": "LayoutView",
            "align_content": null,
            "align_items": null,
            "align_self": null,
            "border": null,
            "bottom": null,
            "display": null,
            "flex": null,
            "flex_flow": null,
            "grid_area": null,
            "grid_auto_columns": null,
            "grid_auto_flow": null,
            "grid_auto_rows": null,
            "grid_column": null,
            "grid_gap": null,
            "grid_row": null,
            "grid_template_areas": null,
            "grid_template_columns": null,
            "grid_template_rows": null,
            "height": null,
            "justify_content": null,
            "justify_items": null,
            "left": null,
            "margin": null,
            "max_height": null,
            "max_width": null,
            "min_height": null,
            "min_width": null,
            "object_fit": null,
            "object_position": null,
            "order": null,
            "overflow": null,
            "overflow_x": null,
            "overflow_y": null,
            "padding": null,
            "right": null,
            "top": null,
            "visibility": null,
            "width": null
          }
        },
        "e1801dc8239a4870ab26117f33a9c4d6": {
          "model_module": "@jupyter-widgets/controls",
          "model_name": "DescriptionStyleModel",
          "model_module_version": "1.5.0",
          "state": {
            "_model_module": "@jupyter-widgets/controls",
            "_model_module_version": "1.5.0",
            "_model_name": "DescriptionStyleModel",
            "_view_count": null,
            "_view_module": "@jupyter-widgets/base",
            "_view_module_version": "1.2.0",
            "_view_name": "StyleView",
            "description_width": ""
          }
        },
        "9d25d9aefdad42ae87b4b5c0049af42a": {
          "model_module": "@jupyter-widgets/controls",
          "model_name": "HBoxModel",
          "model_module_version": "1.5.0",
          "state": {
            "_dom_classes": [],
            "_model_module": "@jupyter-widgets/controls",
            "_model_module_version": "1.5.0",
            "_model_name": "HBoxModel",
            "_view_count": null,
            "_view_module": "@jupyter-widgets/controls",
            "_view_module_version": "1.5.0",
            "_view_name": "HBoxView",
            "box_style": "",
            "children": [
              "IPY_MODEL_c21b79ec1fd14778a57afb5a6cb785f0",
              "IPY_MODEL_e65d4a9a3ca4422caf0f416ebfcd6405",
              "IPY_MODEL_4df917c0003c4dd8bd158d69f659e390"
            ],
            "layout": "IPY_MODEL_bdce834f5f1345aa99dbb463861bc985"
          }
        },
        "c21b79ec1fd14778a57afb5a6cb785f0": {
          "model_module": "@jupyter-widgets/controls",
          "model_name": "HTMLModel",
          "model_module_version": "1.5.0",
          "state": {
            "_dom_classes": [],
            "_model_module": "@jupyter-widgets/controls",
            "_model_module_version": "1.5.0",
            "_model_name": "HTMLModel",
            "_view_count": null,
            "_view_module": "@jupyter-widgets/controls",
            "_view_module_version": "1.5.0",
            "_view_name": "HTMLView",
            "description": "",
            "description_tooltip": null,
            "layout": "IPY_MODEL_52a236e579d34440b6bed4b7b5fe3a3a",
            "placeholder": "​",
            "style": "IPY_MODEL_ec7134d9261b45bfbd6234a95226e4e4",
            "value": "config.json: 100%"
          }
        },
        "e65d4a9a3ca4422caf0f416ebfcd6405": {
          "model_module": "@jupyter-widgets/controls",
          "model_name": "FloatProgressModel",
          "model_module_version": "1.5.0",
          "state": {
            "_dom_classes": [],
            "_model_module": "@jupyter-widgets/controls",
            "_model_module_version": "1.5.0",
            "_model_name": "FloatProgressModel",
            "_view_count": null,
            "_view_module": "@jupyter-widgets/controls",
            "_view_module_version": "1.5.0",
            "_view_name": "ProgressView",
            "bar_style": "success",
            "description": "",
            "description_tooltip": null,
            "layout": "IPY_MODEL_cd73efec1fc742e481a664f9f89ae000",
            "max": 829,
            "min": 0,
            "orientation": "horizontal",
            "style": "IPY_MODEL_3222852bd6a043039dc7fe53cedcf067",
            "value": 829
          }
        },
        "4df917c0003c4dd8bd158d69f659e390": {
          "model_module": "@jupyter-widgets/controls",
          "model_name": "HTMLModel",
          "model_module_version": "1.5.0",
          "state": {
            "_dom_classes": [],
            "_model_module": "@jupyter-widgets/controls",
            "_model_module_version": "1.5.0",
            "_model_name": "HTMLModel",
            "_view_count": null,
            "_view_module": "@jupyter-widgets/controls",
            "_view_module_version": "1.5.0",
            "_view_name": "HTMLView",
            "description": "",
            "description_tooltip": null,
            "layout": "IPY_MODEL_aaa025947a12471e9b8bab6f191b5837",
            "placeholder": "​",
            "style": "IPY_MODEL_5aa701b068dd4f589ac4b2ccfb83b813",
            "value": " 829/829 [00:00&lt;00:00, 11.7kB/s]"
          }
        },
        "bdce834f5f1345aa99dbb463861bc985": {
          "model_module": "@jupyter-widgets/base",
          "model_name": "LayoutModel",
          "model_module_version": "1.2.0",
          "state": {
            "_model_module": "@jupyter-widgets/base",
            "_model_module_version": "1.2.0",
            "_model_name": "LayoutModel",
            "_view_count": null,
            "_view_module": "@jupyter-widgets/base",
            "_view_module_version": "1.2.0",
            "_view_name": "LayoutView",
            "align_content": null,
            "align_items": null,
            "align_self": null,
            "border": null,
            "bottom": null,
            "display": null,
            "flex": null,
            "flex_flow": null,
            "grid_area": null,
            "grid_auto_columns": null,
            "grid_auto_flow": null,
            "grid_auto_rows": null,
            "grid_column": null,
            "grid_gap": null,
            "grid_row": null,
            "grid_template_areas": null,
            "grid_template_columns": null,
            "grid_template_rows": null,
            "height": null,
            "justify_content": null,
            "justify_items": null,
            "left": null,
            "margin": null,
            "max_height": null,
            "max_width": null,
            "min_height": null,
            "min_width": null,
            "object_fit": null,
            "object_position": null,
            "order": null,
            "overflow": null,
            "overflow_x": null,
            "overflow_y": null,
            "padding": null,
            "right": null,
            "top": null,
            "visibility": null,
            "width": null
          }
        },
        "52a236e579d34440b6bed4b7b5fe3a3a": {
          "model_module": "@jupyter-widgets/base",
          "model_name": "LayoutModel",
          "model_module_version": "1.2.0",
          "state": {
            "_model_module": "@jupyter-widgets/base",
            "_model_module_version": "1.2.0",
            "_model_name": "LayoutModel",
            "_view_count": null,
            "_view_module": "@jupyter-widgets/base",
            "_view_module_version": "1.2.0",
            "_view_name": "LayoutView",
            "align_content": null,
            "align_items": null,
            "align_self": null,
            "border": null,
            "bottom": null,
            "display": null,
            "flex": null,
            "flex_flow": null,
            "grid_area": null,
            "grid_auto_columns": null,
            "grid_auto_flow": null,
            "grid_auto_rows": null,
            "grid_column": null,
            "grid_gap": null,
            "grid_row": null,
            "grid_template_areas": null,
            "grid_template_columns": null,
            "grid_template_rows": null,
            "height": null,
            "justify_content": null,
            "justify_items": null,
            "left": null,
            "margin": null,
            "max_height": null,
            "max_width": null,
            "min_height": null,
            "min_width": null,
            "object_fit": null,
            "object_position": null,
            "order": null,
            "overflow": null,
            "overflow_x": null,
            "overflow_y": null,
            "padding": null,
            "right": null,
            "top": null,
            "visibility": null,
            "width": null
          }
        },
        "ec7134d9261b45bfbd6234a95226e4e4": {
          "model_module": "@jupyter-widgets/controls",
          "model_name": "DescriptionStyleModel",
          "model_module_version": "1.5.0",
          "state": {
            "_model_module": "@jupyter-widgets/controls",
            "_model_module_version": "1.5.0",
            "_model_name": "DescriptionStyleModel",
            "_view_count": null,
            "_view_module": "@jupyter-widgets/base",
            "_view_module_version": "1.2.0",
            "_view_name": "StyleView",
            "description_width": ""
          }
        },
        "cd73efec1fc742e481a664f9f89ae000": {
          "model_module": "@jupyter-widgets/base",
          "model_name": "LayoutModel",
          "model_module_version": "1.2.0",
          "state": {
            "_model_module": "@jupyter-widgets/base",
            "_model_module_version": "1.2.0",
            "_model_name": "LayoutModel",
            "_view_count": null,
            "_view_module": "@jupyter-widgets/base",
            "_view_module_version": "1.2.0",
            "_view_name": "LayoutView",
            "align_content": null,
            "align_items": null,
            "align_self": null,
            "border": null,
            "bottom": null,
            "display": null,
            "flex": null,
            "flex_flow": null,
            "grid_area": null,
            "grid_auto_columns": null,
            "grid_auto_flow": null,
            "grid_auto_rows": null,
            "grid_column": null,
            "grid_gap": null,
            "grid_row": null,
            "grid_template_areas": null,
            "grid_template_columns": null,
            "grid_template_rows": null,
            "height": null,
            "justify_content": null,
            "justify_items": null,
            "left": null,
            "margin": null,
            "max_height": null,
            "max_width": null,
            "min_height": null,
            "min_width": null,
            "object_fit": null,
            "object_position": null,
            "order": null,
            "overflow": null,
            "overflow_x": null,
            "overflow_y": null,
            "padding": null,
            "right": null,
            "top": null,
            "visibility": null,
            "width": null
          }
        },
        "3222852bd6a043039dc7fe53cedcf067": {
          "model_module": "@jupyter-widgets/controls",
          "model_name": "ProgressStyleModel",
          "model_module_version": "1.5.0",
          "state": {
            "_model_module": "@jupyter-widgets/controls",
            "_model_module_version": "1.5.0",
            "_model_name": "ProgressStyleModel",
            "_view_count": null,
            "_view_module": "@jupyter-widgets/base",
            "_view_module_version": "1.2.0",
            "_view_name": "StyleView",
            "bar_color": null,
            "description_width": ""
          }
        },
        "aaa025947a12471e9b8bab6f191b5837": {
          "model_module": "@jupyter-widgets/base",
          "model_name": "LayoutModel",
          "model_module_version": "1.2.0",
          "state": {
            "_model_module": "@jupyter-widgets/base",
            "_model_module_version": "1.2.0",
            "_model_name": "LayoutModel",
            "_view_count": null,
            "_view_module": "@jupyter-widgets/base",
            "_view_module_version": "1.2.0",
            "_view_name": "LayoutView",
            "align_content": null,
            "align_items": null,
            "align_self": null,
            "border": null,
            "bottom": null,
            "display": null,
            "flex": null,
            "flex_flow": null,
            "grid_area": null,
            "grid_auto_columns": null,
            "grid_auto_flow": null,
            "grid_auto_rows": null,
            "grid_column": null,
            "grid_gap": null,
            "grid_row": null,
            "grid_template_areas": null,
            "grid_template_columns": null,
            "grid_template_rows": null,
            "height": null,
            "justify_content": null,
            "justify_items": null,
            "left": null,
            "margin": null,
            "max_height": null,
            "max_width": null,
            "min_height": null,
            "min_width": null,
            "object_fit": null,
            "object_position": null,
            "order": null,
            "overflow": null,
            "overflow_x": null,
            "overflow_y": null,
            "padding": null,
            "right": null,
            "top": null,
            "visibility": null,
            "width": null
          }
        },
        "5aa701b068dd4f589ac4b2ccfb83b813": {
          "model_module": "@jupyter-widgets/controls",
          "model_name": "DescriptionStyleModel",
          "model_module_version": "1.5.0",
          "state": {
            "_model_module": "@jupyter-widgets/controls",
            "_model_module_version": "1.5.0",
            "_model_name": "DescriptionStyleModel",
            "_view_count": null,
            "_view_module": "@jupyter-widgets/base",
            "_view_module_version": "1.2.0",
            "_view_name": "StyleView",
            "description_width": ""
          }
        },
        "02c724151d57473588819a7eea6b6f44": {
          "model_module": "@jupyter-widgets/controls",
          "model_name": "HBoxModel",
          "model_module_version": "1.5.0",
          "state": {
            "_dom_classes": [],
            "_model_module": "@jupyter-widgets/controls",
            "_model_module_version": "1.5.0",
            "_model_name": "HBoxModel",
            "_view_count": null,
            "_view_module": "@jupyter-widgets/controls",
            "_view_module_version": "1.5.0",
            "_view_name": "HBoxView",
            "box_style": "",
            "children": [
              "IPY_MODEL_eb5d5c0535584c76b6df7ed099046e53",
              "IPY_MODEL_925f1318ffa54783880f5a1b4ab674bb",
              "IPY_MODEL_07fd894d02484be49f91804ee469f675"
            ],
            "layout": "IPY_MODEL_7b991be780ce44d49662a72c41daf858"
          }
        },
        "eb5d5c0535584c76b6df7ed099046e53": {
          "model_module": "@jupyter-widgets/controls",
          "model_name": "HTMLModel",
          "model_module_version": "1.5.0",
          "state": {
            "_dom_classes": [],
            "_model_module": "@jupyter-widgets/controls",
            "_model_module_version": "1.5.0",
            "_model_name": "HTMLModel",
            "_view_count": null,
            "_view_module": "@jupyter-widgets/controls",
            "_view_module_version": "1.5.0",
            "_view_name": "HTMLView",
            "description": "",
            "description_tooltip": null,
            "layout": "IPY_MODEL_611854f3f65946f9a8d967e56222eaa0",
            "placeholder": "​",
            "style": "IPY_MODEL_7d6a189042a34a8588143735efc9ee0e",
            "value": "vocab.txt: 100%"
          }
        },
        "925f1318ffa54783880f5a1b4ab674bb": {
          "model_module": "@jupyter-widgets/controls",
          "model_name": "FloatProgressModel",
          "model_module_version": "1.5.0",
          "state": {
            "_dom_classes": [],
            "_model_module": "@jupyter-widgets/controls",
            "_model_module_version": "1.5.0",
            "_model_name": "FloatProgressModel",
            "_view_count": null,
            "_view_module": "@jupyter-widgets/controls",
            "_view_module_version": "1.5.0",
            "_view_name": "ProgressView",
            "bar_style": "success",
            "description": "",
            "description_tooltip": null,
            "layout": "IPY_MODEL_49927e6bf2e445ce8bf8a15080b09841",
            "max": 213450,
            "min": 0,
            "orientation": "horizontal",
            "style": "IPY_MODEL_ab147b401d0742bfaca4a096a5bf6bab",
            "value": 213450
          }
        },
        "07fd894d02484be49f91804ee469f675": {
          "model_module": "@jupyter-widgets/controls",
          "model_name": "HTMLModel",
          "model_module_version": "1.5.0",
          "state": {
            "_dom_classes": [],
            "_model_module": "@jupyter-widgets/controls",
            "_model_module_version": "1.5.0",
            "_model_name": "HTMLModel",
            "_view_count": null,
            "_view_module": "@jupyter-widgets/controls",
            "_view_module_version": "1.5.0",
            "_view_name": "HTMLView",
            "description": "",
            "description_tooltip": null,
            "layout": "IPY_MODEL_65b13a77939245f8a6a34599d6f0f4c6",
            "placeholder": "​",
            "style": "IPY_MODEL_094158c8b6674f169979206193ff4b75",
            "value": " 213k/213k [00:00&lt;00:00, 1.29MB/s]"
          }
        },
        "7b991be780ce44d49662a72c41daf858": {
          "model_module": "@jupyter-widgets/base",
          "model_name": "LayoutModel",
          "model_module_version": "1.2.0",
          "state": {
            "_model_module": "@jupyter-widgets/base",
            "_model_module_version": "1.2.0",
            "_model_name": "LayoutModel",
            "_view_count": null,
            "_view_module": "@jupyter-widgets/base",
            "_view_module_version": "1.2.0",
            "_view_name": "LayoutView",
            "align_content": null,
            "align_items": null,
            "align_self": null,
            "border": null,
            "bottom": null,
            "display": null,
            "flex": null,
            "flex_flow": null,
            "grid_area": null,
            "grid_auto_columns": null,
            "grid_auto_flow": null,
            "grid_auto_rows": null,
            "grid_column": null,
            "grid_gap": null,
            "grid_row": null,
            "grid_template_areas": null,
            "grid_template_columns": null,
            "grid_template_rows": null,
            "height": null,
            "justify_content": null,
            "justify_items": null,
            "left": null,
            "margin": null,
            "max_height": null,
            "max_width": null,
            "min_height": null,
            "min_width": null,
            "object_fit": null,
            "object_position": null,
            "order": null,
            "overflow": null,
            "overflow_x": null,
            "overflow_y": null,
            "padding": null,
            "right": null,
            "top": null,
            "visibility": null,
            "width": null
          }
        },
        "611854f3f65946f9a8d967e56222eaa0": {
          "model_module": "@jupyter-widgets/base",
          "model_name": "LayoutModel",
          "model_module_version": "1.2.0",
          "state": {
            "_model_module": "@jupyter-widgets/base",
            "_model_module_version": "1.2.0",
            "_model_name": "LayoutModel",
            "_view_count": null,
            "_view_module": "@jupyter-widgets/base",
            "_view_module_version": "1.2.0",
            "_view_name": "LayoutView",
            "align_content": null,
            "align_items": null,
            "align_self": null,
            "border": null,
            "bottom": null,
            "display": null,
            "flex": null,
            "flex_flow": null,
            "grid_area": null,
            "grid_auto_columns": null,
            "grid_auto_flow": null,
            "grid_auto_rows": null,
            "grid_column": null,
            "grid_gap": null,
            "grid_row": null,
            "grid_template_areas": null,
            "grid_template_columns": null,
            "grid_template_rows": null,
            "height": null,
            "justify_content": null,
            "justify_items": null,
            "left": null,
            "margin": null,
            "max_height": null,
            "max_width": null,
            "min_height": null,
            "min_width": null,
            "object_fit": null,
            "object_position": null,
            "order": null,
            "overflow": null,
            "overflow_x": null,
            "overflow_y": null,
            "padding": null,
            "right": null,
            "top": null,
            "visibility": null,
            "width": null
          }
        },
        "7d6a189042a34a8588143735efc9ee0e": {
          "model_module": "@jupyter-widgets/controls",
          "model_name": "DescriptionStyleModel",
          "model_module_version": "1.5.0",
          "state": {
            "_model_module": "@jupyter-widgets/controls",
            "_model_module_version": "1.5.0",
            "_model_name": "DescriptionStyleModel",
            "_view_count": null,
            "_view_module": "@jupyter-widgets/base",
            "_view_module_version": "1.2.0",
            "_view_name": "StyleView",
            "description_width": ""
          }
        },
        "49927e6bf2e445ce8bf8a15080b09841": {
          "model_module": "@jupyter-widgets/base",
          "model_name": "LayoutModel",
          "model_module_version": "1.2.0",
          "state": {
            "_model_module": "@jupyter-widgets/base",
            "_model_module_version": "1.2.0",
            "_model_name": "LayoutModel",
            "_view_count": null,
            "_view_module": "@jupyter-widgets/base",
            "_view_module_version": "1.2.0",
            "_view_name": "LayoutView",
            "align_content": null,
            "align_items": null,
            "align_self": null,
            "border": null,
            "bottom": null,
            "display": null,
            "flex": null,
            "flex_flow": null,
            "grid_area": null,
            "grid_auto_columns": null,
            "grid_auto_flow": null,
            "grid_auto_rows": null,
            "grid_column": null,
            "grid_gap": null,
            "grid_row": null,
            "grid_template_areas": null,
            "grid_template_columns": null,
            "grid_template_rows": null,
            "height": null,
            "justify_content": null,
            "justify_items": null,
            "left": null,
            "margin": null,
            "max_height": null,
            "max_width": null,
            "min_height": null,
            "min_width": null,
            "object_fit": null,
            "object_position": null,
            "order": null,
            "overflow": null,
            "overflow_x": null,
            "overflow_y": null,
            "padding": null,
            "right": null,
            "top": null,
            "visibility": null,
            "width": null
          }
        },
        "ab147b401d0742bfaca4a096a5bf6bab": {
          "model_module": "@jupyter-widgets/controls",
          "model_name": "ProgressStyleModel",
          "model_module_version": "1.5.0",
          "state": {
            "_model_module": "@jupyter-widgets/controls",
            "_model_module_version": "1.5.0",
            "_model_name": "ProgressStyleModel",
            "_view_count": null,
            "_view_module": "@jupyter-widgets/base",
            "_view_module_version": "1.2.0",
            "_view_name": "StyleView",
            "bar_color": null,
            "description_width": ""
          }
        },
        "65b13a77939245f8a6a34599d6f0f4c6": {
          "model_module": "@jupyter-widgets/base",
          "model_name": "LayoutModel",
          "model_module_version": "1.2.0",
          "state": {
            "_model_module": "@jupyter-widgets/base",
            "_model_module_version": "1.2.0",
            "_model_name": "LayoutModel",
            "_view_count": null,
            "_view_module": "@jupyter-widgets/base",
            "_view_module_version": "1.2.0",
            "_view_name": "LayoutView",
            "align_content": null,
            "align_items": null,
            "align_self": null,
            "border": null,
            "bottom": null,
            "display": null,
            "flex": null,
            "flex_flow": null,
            "grid_area": null,
            "grid_auto_columns": null,
            "grid_auto_flow": null,
            "grid_auto_rows": null,
            "grid_column": null,
            "grid_gap": null,
            "grid_row": null,
            "grid_template_areas": null,
            "grid_template_columns": null,
            "grid_template_rows": null,
            "height": null,
            "justify_content": null,
            "justify_items": null,
            "left": null,
            "margin": null,
            "max_height": null,
            "max_width": null,
            "min_height": null,
            "min_width": null,
            "object_fit": null,
            "object_position": null,
            "order": null,
            "overflow": null,
            "overflow_x": null,
            "overflow_y": null,
            "padding": null,
            "right": null,
            "top": null,
            "visibility": null,
            "width": null
          }
        },
        "094158c8b6674f169979206193ff4b75": {
          "model_module": "@jupyter-widgets/controls",
          "model_name": "DescriptionStyleModel",
          "model_module_version": "1.5.0",
          "state": {
            "_model_module": "@jupyter-widgets/controls",
            "_model_module_version": "1.5.0",
            "_model_name": "DescriptionStyleModel",
            "_view_count": null,
            "_view_module": "@jupyter-widgets/base",
            "_view_module_version": "1.2.0",
            "_view_name": "StyleView",
            "description_width": ""
          }
        },
        "0263fa1a089c498f8fd56bd96038ee75": {
          "model_module": "@jupyter-widgets/controls",
          "model_name": "HBoxModel",
          "model_module_version": "1.5.0",
          "state": {
            "_dom_classes": [],
            "_model_module": "@jupyter-widgets/controls",
            "_model_module_version": "1.5.0",
            "_model_name": "HBoxModel",
            "_view_count": null,
            "_view_module": "@jupyter-widgets/controls",
            "_view_module_version": "1.5.0",
            "_view_name": "HBoxView",
            "box_style": "",
            "children": [
              "IPY_MODEL_7c227e9ba2b54783bbdfd6bd443d5f4a",
              "IPY_MODEL_a1bb479fae594fa59313b34241073ea4",
              "IPY_MODEL_52d5848c826e4fada115396be8e8c30d"
            ],
            "layout": "IPY_MODEL_bbf6e0de6a5d42a0bf11b6659da4e43b"
          }
        },
        "7c227e9ba2b54783bbdfd6bd443d5f4a": {
          "model_module": "@jupyter-widgets/controls",
          "model_name": "HTMLModel",
          "model_module_version": "1.5.0",
          "state": {
            "_dom_classes": [],
            "_model_module": "@jupyter-widgets/controls",
            "_model_module_version": "1.5.0",
            "_model_name": "HTMLModel",
            "_view_count": null,
            "_view_module": "@jupyter-widgets/controls",
            "_view_module_version": "1.5.0",
            "_view_name": "HTMLView",
            "description": "",
            "description_tooltip": null,
            "layout": "IPY_MODEL_687efb9078104138ac221892843b5af6",
            "placeholder": "​",
            "style": "IPY_MODEL_98e7e85b926d42deb804ee6739ccdb63",
            "value": "added_tokens.json: 100%"
          }
        },
        "a1bb479fae594fa59313b34241073ea4": {
          "model_module": "@jupyter-widgets/controls",
          "model_name": "FloatProgressModel",
          "model_module_version": "1.5.0",
          "state": {
            "_dom_classes": [],
            "_model_module": "@jupyter-widgets/controls",
            "_model_module_version": "1.5.0",
            "_model_name": "FloatProgressModel",
            "_view_count": null,
            "_view_module": "@jupyter-widgets/controls",
            "_view_module_version": "1.5.0",
            "_view_name": "ProgressView",
            "bar_style": "success",
            "description": "",
            "description_tooltip": null,
            "layout": "IPY_MODEL_125a6ef56fdd4549b78b961fe87ad6e4",
            "max": 2,
            "min": 0,
            "orientation": "horizontal",
            "style": "IPY_MODEL_daa1484e04ee4400a924aefe020b9a06",
            "value": 2
          }
        },
        "52d5848c826e4fada115396be8e8c30d": {
          "model_module": "@jupyter-widgets/controls",
          "model_name": "HTMLModel",
          "model_module_version": "1.5.0",
          "state": {
            "_dom_classes": [],
            "_model_module": "@jupyter-widgets/controls",
            "_model_module_version": "1.5.0",
            "_model_name": "HTMLModel",
            "_view_count": null,
            "_view_module": "@jupyter-widgets/controls",
            "_view_module_version": "1.5.0",
            "_view_name": "HTMLView",
            "description": "",
            "description_tooltip": null,
            "layout": "IPY_MODEL_10d08625e5b444aca32194742a3876fd",
            "placeholder": "​",
            "style": "IPY_MODEL_6aa966f70e8a4525b1bf9947f8461ca9",
            "value": " 2.00/2.00 [00:00&lt;00:00, 18.1B/s]"
          }
        },
        "bbf6e0de6a5d42a0bf11b6659da4e43b": {
          "model_module": "@jupyter-widgets/base",
          "model_name": "LayoutModel",
          "model_module_version": "1.2.0",
          "state": {
            "_model_module": "@jupyter-widgets/base",
            "_model_module_version": "1.2.0",
            "_model_name": "LayoutModel",
            "_view_count": null,
            "_view_module": "@jupyter-widgets/base",
            "_view_module_version": "1.2.0",
            "_view_name": "LayoutView",
            "align_content": null,
            "align_items": null,
            "align_self": null,
            "border": null,
            "bottom": null,
            "display": null,
            "flex": null,
            "flex_flow": null,
            "grid_area": null,
            "grid_auto_columns": null,
            "grid_auto_flow": null,
            "grid_auto_rows": null,
            "grid_column": null,
            "grid_gap": null,
            "grid_row": null,
            "grid_template_areas": null,
            "grid_template_columns": null,
            "grid_template_rows": null,
            "height": null,
            "justify_content": null,
            "justify_items": null,
            "left": null,
            "margin": null,
            "max_height": null,
            "max_width": null,
            "min_height": null,
            "min_width": null,
            "object_fit": null,
            "object_position": null,
            "order": null,
            "overflow": null,
            "overflow_x": null,
            "overflow_y": null,
            "padding": null,
            "right": null,
            "top": null,
            "visibility": null,
            "width": null
          }
        },
        "687efb9078104138ac221892843b5af6": {
          "model_module": "@jupyter-widgets/base",
          "model_name": "LayoutModel",
          "model_module_version": "1.2.0",
          "state": {
            "_model_module": "@jupyter-widgets/base",
            "_model_module_version": "1.2.0",
            "_model_name": "LayoutModel",
            "_view_count": null,
            "_view_module": "@jupyter-widgets/base",
            "_view_module_version": "1.2.0",
            "_view_name": "LayoutView",
            "align_content": null,
            "align_items": null,
            "align_self": null,
            "border": null,
            "bottom": null,
            "display": null,
            "flex": null,
            "flex_flow": null,
            "grid_area": null,
            "grid_auto_columns": null,
            "grid_auto_flow": null,
            "grid_auto_rows": null,
            "grid_column": null,
            "grid_gap": null,
            "grid_row": null,
            "grid_template_areas": null,
            "grid_template_columns": null,
            "grid_template_rows": null,
            "height": null,
            "justify_content": null,
            "justify_items": null,
            "left": null,
            "margin": null,
            "max_height": null,
            "max_width": null,
            "min_height": null,
            "min_width": null,
            "object_fit": null,
            "object_position": null,
            "order": null,
            "overflow": null,
            "overflow_x": null,
            "overflow_y": null,
            "padding": null,
            "right": null,
            "top": null,
            "visibility": null,
            "width": null
          }
        },
        "98e7e85b926d42deb804ee6739ccdb63": {
          "model_module": "@jupyter-widgets/controls",
          "model_name": "DescriptionStyleModel",
          "model_module_version": "1.5.0",
          "state": {
            "_model_module": "@jupyter-widgets/controls",
            "_model_module_version": "1.5.0",
            "_model_name": "DescriptionStyleModel",
            "_view_count": null,
            "_view_module": "@jupyter-widgets/base",
            "_view_module_version": "1.2.0",
            "_view_name": "StyleView",
            "description_width": ""
          }
        },
        "125a6ef56fdd4549b78b961fe87ad6e4": {
          "model_module": "@jupyter-widgets/base",
          "model_name": "LayoutModel",
          "model_module_version": "1.2.0",
          "state": {
            "_model_module": "@jupyter-widgets/base",
            "_model_module_version": "1.2.0",
            "_model_name": "LayoutModel",
            "_view_count": null,
            "_view_module": "@jupyter-widgets/base",
            "_view_module_version": "1.2.0",
            "_view_name": "LayoutView",
            "align_content": null,
            "align_items": null,
            "align_self": null,
            "border": null,
            "bottom": null,
            "display": null,
            "flex": null,
            "flex_flow": null,
            "grid_area": null,
            "grid_auto_columns": null,
            "grid_auto_flow": null,
            "grid_auto_rows": null,
            "grid_column": null,
            "grid_gap": null,
            "grid_row": null,
            "grid_template_areas": null,
            "grid_template_columns": null,
            "grid_template_rows": null,
            "height": null,
            "justify_content": null,
            "justify_items": null,
            "left": null,
            "margin": null,
            "max_height": null,
            "max_width": null,
            "min_height": null,
            "min_width": null,
            "object_fit": null,
            "object_position": null,
            "order": null,
            "overflow": null,
            "overflow_x": null,
            "overflow_y": null,
            "padding": null,
            "right": null,
            "top": null,
            "visibility": null,
            "width": null
          }
        },
        "daa1484e04ee4400a924aefe020b9a06": {
          "model_module": "@jupyter-widgets/controls",
          "model_name": "ProgressStyleModel",
          "model_module_version": "1.5.0",
          "state": {
            "_model_module": "@jupyter-widgets/controls",
            "_model_module_version": "1.5.0",
            "_model_name": "ProgressStyleModel",
            "_view_count": null,
            "_view_module": "@jupyter-widgets/base",
            "_view_module_version": "1.2.0",
            "_view_name": "StyleView",
            "bar_color": null,
            "description_width": ""
          }
        },
        "10d08625e5b444aca32194742a3876fd": {
          "model_module": "@jupyter-widgets/base",
          "model_name": "LayoutModel",
          "model_module_version": "1.2.0",
          "state": {
            "_model_module": "@jupyter-widgets/base",
            "_model_module_version": "1.2.0",
            "_model_name": "LayoutModel",
            "_view_count": null,
            "_view_module": "@jupyter-widgets/base",
            "_view_module_version": "1.2.0",
            "_view_name": "LayoutView",
            "align_content": null,
            "align_items": null,
            "align_self": null,
            "border": null,
            "bottom": null,
            "display": null,
            "flex": null,
            "flex_flow": null,
            "grid_area": null,
            "grid_auto_columns": null,
            "grid_auto_flow": null,
            "grid_auto_rows": null,
            "grid_column": null,
            "grid_gap": null,
            "grid_row": null,
            "grid_template_areas": null,
            "grid_template_columns": null,
            "grid_template_rows": null,
            "height": null,
            "justify_content": null,
            "justify_items": null,
            "left": null,
            "margin": null,
            "max_height": null,
            "max_width": null,
            "min_height": null,
            "min_width": null,
            "object_fit": null,
            "object_position": null,
            "order": null,
            "overflow": null,
            "overflow_x": null,
            "overflow_y": null,
            "padding": null,
            "right": null,
            "top": null,
            "visibility": null,
            "width": null
          }
        },
        "6aa966f70e8a4525b1bf9947f8461ca9": {
          "model_module": "@jupyter-widgets/controls",
          "model_name": "DescriptionStyleModel",
          "model_module_version": "1.5.0",
          "state": {
            "_model_module": "@jupyter-widgets/controls",
            "_model_module_version": "1.5.0",
            "_model_name": "DescriptionStyleModel",
            "_view_count": null,
            "_view_module": "@jupyter-widgets/base",
            "_view_module_version": "1.2.0",
            "_view_name": "StyleView",
            "description_width": ""
          }
        },
        "5c1cd6b475824fd8b01477f1e1a893f9": {
          "model_module": "@jupyter-widgets/controls",
          "model_name": "HBoxModel",
          "model_module_version": "1.5.0",
          "state": {
            "_dom_classes": [],
            "_model_module": "@jupyter-widgets/controls",
            "_model_module_version": "1.5.0",
            "_model_name": "HBoxModel",
            "_view_count": null,
            "_view_module": "@jupyter-widgets/controls",
            "_view_module_version": "1.5.0",
            "_view_name": "HBoxView",
            "box_style": "",
            "children": [
              "IPY_MODEL_b9c0b4b744fb463fa64f8119c877e081",
              "IPY_MODEL_20c2096b078646ed9102afd3aca283df",
              "IPY_MODEL_b703733f0d3144c3ac22f47635888e55"
            ],
            "layout": "IPY_MODEL_926fbd07146a46f98ee06c4d32478d4c"
          }
        },
        "b9c0b4b744fb463fa64f8119c877e081": {
          "model_module": "@jupyter-widgets/controls",
          "model_name": "HTMLModel",
          "model_module_version": "1.5.0",
          "state": {
            "_dom_classes": [],
            "_model_module": "@jupyter-widgets/controls",
            "_model_module_version": "1.5.0",
            "_model_name": "HTMLModel",
            "_view_count": null,
            "_view_module": "@jupyter-widgets/controls",
            "_view_module_version": "1.5.0",
            "_view_name": "HTMLView",
            "description": "",
            "description_tooltip": null,
            "layout": "IPY_MODEL_85fbfdf7f76646cd89b5bea348f6e0e9",
            "placeholder": "​",
            "style": "IPY_MODEL_6d5387632e4244a3ba4b6f5e19027f82",
            "value": "special_tokens_map.json: 100%"
          }
        },
        "20c2096b078646ed9102afd3aca283df": {
          "model_module": "@jupyter-widgets/controls",
          "model_name": "FloatProgressModel",
          "model_module_version": "1.5.0",
          "state": {
            "_dom_classes": [],
            "_model_module": "@jupyter-widgets/controls",
            "_model_module_version": "1.5.0",
            "_model_name": "FloatProgressModel",
            "_view_count": null,
            "_view_module": "@jupyter-widgets/controls",
            "_view_module_version": "1.5.0",
            "_view_name": "ProgressView",
            "bar_style": "success",
            "description": "",
            "description_tooltip": null,
            "layout": "IPY_MODEL_b6d114120a03495c97025f31c97b4ee9",
            "max": 112,
            "min": 0,
            "orientation": "horizontal",
            "style": "IPY_MODEL_f7f46eab5e724fce91a8afa1f81aa93f",
            "value": 112
          }
        },
        "b703733f0d3144c3ac22f47635888e55": {
          "model_module": "@jupyter-widgets/controls",
          "model_name": "HTMLModel",
          "model_module_version": "1.5.0",
          "state": {
            "_dom_classes": [],
            "_model_module": "@jupyter-widgets/controls",
            "_model_module_version": "1.5.0",
            "_model_name": "HTMLModel",
            "_view_count": null,
            "_view_module": "@jupyter-widgets/controls",
            "_view_module_version": "1.5.0",
            "_view_name": "HTMLView",
            "description": "",
            "description_tooltip": null,
            "layout": "IPY_MODEL_2aaabf4af6e34708a450147d4939fafb",
            "placeholder": "​",
            "style": "IPY_MODEL_16de1698ccf3471fa646b57b7957b16a",
            "value": " 112/112 [00:00&lt;00:00, 1.84kB/s]"
          }
        },
        "926fbd07146a46f98ee06c4d32478d4c": {
          "model_module": "@jupyter-widgets/base",
          "model_name": "LayoutModel",
          "model_module_version": "1.2.0",
          "state": {
            "_model_module": "@jupyter-widgets/base",
            "_model_module_version": "1.2.0",
            "_model_name": "LayoutModel",
            "_view_count": null,
            "_view_module": "@jupyter-widgets/base",
            "_view_module_version": "1.2.0",
            "_view_name": "LayoutView",
            "align_content": null,
            "align_items": null,
            "align_self": null,
            "border": null,
            "bottom": null,
            "display": null,
            "flex": null,
            "flex_flow": null,
            "grid_area": null,
            "grid_auto_columns": null,
            "grid_auto_flow": null,
            "grid_auto_rows": null,
            "grid_column": null,
            "grid_gap": null,
            "grid_row": null,
            "grid_template_areas": null,
            "grid_template_columns": null,
            "grid_template_rows": null,
            "height": null,
            "justify_content": null,
            "justify_items": null,
            "left": null,
            "margin": null,
            "max_height": null,
            "max_width": null,
            "min_height": null,
            "min_width": null,
            "object_fit": null,
            "object_position": null,
            "order": null,
            "overflow": null,
            "overflow_x": null,
            "overflow_y": null,
            "padding": null,
            "right": null,
            "top": null,
            "visibility": null,
            "width": null
          }
        },
        "85fbfdf7f76646cd89b5bea348f6e0e9": {
          "model_module": "@jupyter-widgets/base",
          "model_name": "LayoutModel",
          "model_module_version": "1.2.0",
          "state": {
            "_model_module": "@jupyter-widgets/base",
            "_model_module_version": "1.2.0",
            "_model_name": "LayoutModel",
            "_view_count": null,
            "_view_module": "@jupyter-widgets/base",
            "_view_module_version": "1.2.0",
            "_view_name": "LayoutView",
            "align_content": null,
            "align_items": null,
            "align_self": null,
            "border": null,
            "bottom": null,
            "display": null,
            "flex": null,
            "flex_flow": null,
            "grid_area": null,
            "grid_auto_columns": null,
            "grid_auto_flow": null,
            "grid_auto_rows": null,
            "grid_column": null,
            "grid_gap": null,
            "grid_row": null,
            "grid_template_areas": null,
            "grid_template_columns": null,
            "grid_template_rows": null,
            "height": null,
            "justify_content": null,
            "justify_items": null,
            "left": null,
            "margin": null,
            "max_height": null,
            "max_width": null,
            "min_height": null,
            "min_width": null,
            "object_fit": null,
            "object_position": null,
            "order": null,
            "overflow": null,
            "overflow_x": null,
            "overflow_y": null,
            "padding": null,
            "right": null,
            "top": null,
            "visibility": null,
            "width": null
          }
        },
        "6d5387632e4244a3ba4b6f5e19027f82": {
          "model_module": "@jupyter-widgets/controls",
          "model_name": "DescriptionStyleModel",
          "model_module_version": "1.5.0",
          "state": {
            "_model_module": "@jupyter-widgets/controls",
            "_model_module_version": "1.5.0",
            "_model_name": "DescriptionStyleModel",
            "_view_count": null,
            "_view_module": "@jupyter-widgets/base",
            "_view_module_version": "1.2.0",
            "_view_name": "StyleView",
            "description_width": ""
          }
        },
        "b6d114120a03495c97025f31c97b4ee9": {
          "model_module": "@jupyter-widgets/base",
          "model_name": "LayoutModel",
          "model_module_version": "1.2.0",
          "state": {
            "_model_module": "@jupyter-widgets/base",
            "_model_module_version": "1.2.0",
            "_model_name": "LayoutModel",
            "_view_count": null,
            "_view_module": "@jupyter-widgets/base",
            "_view_module_version": "1.2.0",
            "_view_name": "LayoutView",
            "align_content": null,
            "align_items": null,
            "align_self": null,
            "border": null,
            "bottom": null,
            "display": null,
            "flex": null,
            "flex_flow": null,
            "grid_area": null,
            "grid_auto_columns": null,
            "grid_auto_flow": null,
            "grid_auto_rows": null,
            "grid_column": null,
            "grid_gap": null,
            "grid_row": null,
            "grid_template_areas": null,
            "grid_template_columns": null,
            "grid_template_rows": null,
            "height": null,
            "justify_content": null,
            "justify_items": null,
            "left": null,
            "margin": null,
            "max_height": null,
            "max_width": null,
            "min_height": null,
            "min_width": null,
            "object_fit": null,
            "object_position": null,
            "order": null,
            "overflow": null,
            "overflow_x": null,
            "overflow_y": null,
            "padding": null,
            "right": null,
            "top": null,
            "visibility": null,
            "width": null
          }
        },
        "f7f46eab5e724fce91a8afa1f81aa93f": {
          "model_module": "@jupyter-widgets/controls",
          "model_name": "ProgressStyleModel",
          "model_module_version": "1.5.0",
          "state": {
            "_model_module": "@jupyter-widgets/controls",
            "_model_module_version": "1.5.0",
            "_model_name": "ProgressStyleModel",
            "_view_count": null,
            "_view_module": "@jupyter-widgets/base",
            "_view_module_version": "1.2.0",
            "_view_name": "StyleView",
            "bar_color": null,
            "description_width": ""
          }
        },
        "2aaabf4af6e34708a450147d4939fafb": {
          "model_module": "@jupyter-widgets/base",
          "model_name": "LayoutModel",
          "model_module_version": "1.2.0",
          "state": {
            "_model_module": "@jupyter-widgets/base",
            "_model_module_version": "1.2.0",
            "_model_name": "LayoutModel",
            "_view_count": null,
            "_view_module": "@jupyter-widgets/base",
            "_view_module_version": "1.2.0",
            "_view_name": "LayoutView",
            "align_content": null,
            "align_items": null,
            "align_self": null,
            "border": null,
            "bottom": null,
            "display": null,
            "flex": null,
            "flex_flow": null,
            "grid_area": null,
            "grid_auto_columns": null,
            "grid_auto_flow": null,
            "grid_auto_rows": null,
            "grid_column": null,
            "grid_gap": null,
            "grid_row": null,
            "grid_template_areas": null,
            "grid_template_columns": null,
            "grid_template_rows": null,
            "height": null,
            "justify_content": null,
            "justify_items": null,
            "left": null,
            "margin": null,
            "max_height": null,
            "max_width": null,
            "min_height": null,
            "min_width": null,
            "object_fit": null,
            "object_position": null,
            "order": null,
            "overflow": null,
            "overflow_x": null,
            "overflow_y": null,
            "padding": null,
            "right": null,
            "top": null,
            "visibility": null,
            "width": null
          }
        },
        "16de1698ccf3471fa646b57b7957b16a": {
          "model_module": "@jupyter-widgets/controls",
          "model_name": "DescriptionStyleModel",
          "model_module_version": "1.5.0",
          "state": {
            "_model_module": "@jupyter-widgets/controls",
            "_model_module_version": "1.5.0",
            "_model_name": "DescriptionStyleModel",
            "_view_count": null,
            "_view_module": "@jupyter-widgets/base",
            "_view_module_version": "1.2.0",
            "_view_name": "StyleView",
            "description_width": ""
          }
        },
        "28ae2b3f1b864bfdacde027c92f7b68c": {
          "model_module": "@jupyter-widgets/controls",
          "model_name": "HBoxModel",
          "model_module_version": "1.5.0",
          "state": {
            "_dom_classes": [],
            "_model_module": "@jupyter-widgets/controls",
            "_model_module_version": "1.5.0",
            "_model_name": "HBoxModel",
            "_view_count": null,
            "_view_module": "@jupyter-widgets/controls",
            "_view_module_version": "1.5.0",
            "_view_name": "HBoxView",
            "box_style": "",
            "children": [
              "IPY_MODEL_df2e5529b3f1415a8006874941bfbe7d",
              "IPY_MODEL_360ac377c6b34994a7e1a045de028bfe",
              "IPY_MODEL_07f2ad24dc42446fb0b4bc0761dcf074"
            ],
            "layout": "IPY_MODEL_d012afa9f58f49c38a200f02af6b51a9"
          }
        },
        "df2e5529b3f1415a8006874941bfbe7d": {
          "model_module": "@jupyter-widgets/controls",
          "model_name": "HTMLModel",
          "model_module_version": "1.5.0",
          "state": {
            "_dom_classes": [],
            "_model_module": "@jupyter-widgets/controls",
            "_model_module_version": "1.5.0",
            "_model_name": "HTMLModel",
            "_view_count": null,
            "_view_module": "@jupyter-widgets/controls",
            "_view_module_version": "1.5.0",
            "_view_name": "HTMLView",
            "description": "",
            "description_tooltip": null,
            "layout": "IPY_MODEL_cbb5780b528d4cf2823c7c662a41c2fa",
            "placeholder": "​",
            "style": "IPY_MODEL_0b60359ea4904d42bd40f15bb1acf1eb",
            "value": "model.safetensors: 100%"
          }
        },
        "360ac377c6b34994a7e1a045de028bfe": {
          "model_module": "@jupyter-widgets/controls",
          "model_name": "FloatProgressModel",
          "model_module_version": "1.5.0",
          "state": {
            "_dom_classes": [],
            "_model_module": "@jupyter-widgets/controls",
            "_model_module_version": "1.5.0",
            "_model_name": "FloatProgressModel",
            "_view_count": null,
            "_view_module": "@jupyter-widgets/controls",
            "_view_module_version": "1.5.0",
            "_view_name": "ProgressView",
            "bar_style": "success",
            "description": "",
            "description_tooltip": null,
            "layout": "IPY_MODEL_14c892f59c5145b082de6e9af5b8a56b",
            "max": 433292294,
            "min": 0,
            "orientation": "horizontal",
            "style": "IPY_MODEL_f26b345924cd48cc8cd4ad853669a3c4",
            "value": 433292294
          }
        },
        "07f2ad24dc42446fb0b4bc0761dcf074": {
          "model_module": "@jupyter-widgets/controls",
          "model_name": "HTMLModel",
          "model_module_version": "1.5.0",
          "state": {
            "_dom_classes": [],
            "_model_module": "@jupyter-widgets/controls",
            "_model_module_version": "1.5.0",
            "_model_name": "HTMLModel",
            "_view_count": null,
            "_view_module": "@jupyter-widgets/controls",
            "_view_module_version": "1.5.0",
            "_view_name": "HTMLView",
            "description": "",
            "description_tooltip": null,
            "layout": "IPY_MODEL_e383548826ae4c3bba73eea4e892dfb0",
            "placeholder": "​",
            "style": "IPY_MODEL_4283513f249a4e97a7393bfbe5132d08",
            "value": " 433M/433M [00:04&lt;00:00, 81.9MB/s]"
          }
        },
        "d012afa9f58f49c38a200f02af6b51a9": {
          "model_module": "@jupyter-widgets/base",
          "model_name": "LayoutModel",
          "model_module_version": "1.2.0",
          "state": {
            "_model_module": "@jupyter-widgets/base",
            "_model_module_version": "1.2.0",
            "_model_name": "LayoutModel",
            "_view_count": null,
            "_view_module": "@jupyter-widgets/base",
            "_view_module_version": "1.2.0",
            "_view_name": "LayoutView",
            "align_content": null,
            "align_items": null,
            "align_self": null,
            "border": null,
            "bottom": null,
            "display": null,
            "flex": null,
            "flex_flow": null,
            "grid_area": null,
            "grid_auto_columns": null,
            "grid_auto_flow": null,
            "grid_auto_rows": null,
            "grid_column": null,
            "grid_gap": null,
            "grid_row": null,
            "grid_template_areas": null,
            "grid_template_columns": null,
            "grid_template_rows": null,
            "height": null,
            "justify_content": null,
            "justify_items": null,
            "left": null,
            "margin": null,
            "max_height": null,
            "max_width": null,
            "min_height": null,
            "min_width": null,
            "object_fit": null,
            "object_position": null,
            "order": null,
            "overflow": null,
            "overflow_x": null,
            "overflow_y": null,
            "padding": null,
            "right": null,
            "top": null,
            "visibility": null,
            "width": null
          }
        },
        "cbb5780b528d4cf2823c7c662a41c2fa": {
          "model_module": "@jupyter-widgets/base",
          "model_name": "LayoutModel",
          "model_module_version": "1.2.0",
          "state": {
            "_model_module": "@jupyter-widgets/base",
            "_model_module_version": "1.2.0",
            "_model_name": "LayoutModel",
            "_view_count": null,
            "_view_module": "@jupyter-widgets/base",
            "_view_module_version": "1.2.0",
            "_view_name": "LayoutView",
            "align_content": null,
            "align_items": null,
            "align_self": null,
            "border": null,
            "bottom": null,
            "display": null,
            "flex": null,
            "flex_flow": null,
            "grid_area": null,
            "grid_auto_columns": null,
            "grid_auto_flow": null,
            "grid_auto_rows": null,
            "grid_column": null,
            "grid_gap": null,
            "grid_row": null,
            "grid_template_areas": null,
            "grid_template_columns": null,
            "grid_template_rows": null,
            "height": null,
            "justify_content": null,
            "justify_items": null,
            "left": null,
            "margin": null,
            "max_height": null,
            "max_width": null,
            "min_height": null,
            "min_width": null,
            "object_fit": null,
            "object_position": null,
            "order": null,
            "overflow": null,
            "overflow_x": null,
            "overflow_y": null,
            "padding": null,
            "right": null,
            "top": null,
            "visibility": null,
            "width": null
          }
        },
        "0b60359ea4904d42bd40f15bb1acf1eb": {
          "model_module": "@jupyter-widgets/controls",
          "model_name": "DescriptionStyleModel",
          "model_module_version": "1.5.0",
          "state": {
            "_model_module": "@jupyter-widgets/controls",
            "_model_module_version": "1.5.0",
            "_model_name": "DescriptionStyleModel",
            "_view_count": null,
            "_view_module": "@jupyter-widgets/base",
            "_view_module_version": "1.2.0",
            "_view_name": "StyleView",
            "description_width": ""
          }
        },
        "14c892f59c5145b082de6e9af5b8a56b": {
          "model_module": "@jupyter-widgets/base",
          "model_name": "LayoutModel",
          "model_module_version": "1.2.0",
          "state": {
            "_model_module": "@jupyter-widgets/base",
            "_model_module_version": "1.2.0",
            "_model_name": "LayoutModel",
            "_view_count": null,
            "_view_module": "@jupyter-widgets/base",
            "_view_module_version": "1.2.0",
            "_view_name": "LayoutView",
            "align_content": null,
            "align_items": null,
            "align_self": null,
            "border": null,
            "bottom": null,
            "display": null,
            "flex": null,
            "flex_flow": null,
            "grid_area": null,
            "grid_auto_columns": null,
            "grid_auto_flow": null,
            "grid_auto_rows": null,
            "grid_column": null,
            "grid_gap": null,
            "grid_row": null,
            "grid_template_areas": null,
            "grid_template_columns": null,
            "grid_template_rows": null,
            "height": null,
            "justify_content": null,
            "justify_items": null,
            "left": null,
            "margin": null,
            "max_height": null,
            "max_width": null,
            "min_height": null,
            "min_width": null,
            "object_fit": null,
            "object_position": null,
            "order": null,
            "overflow": null,
            "overflow_x": null,
            "overflow_y": null,
            "padding": null,
            "right": null,
            "top": null,
            "visibility": null,
            "width": null
          }
        },
        "f26b345924cd48cc8cd4ad853669a3c4": {
          "model_module": "@jupyter-widgets/controls",
          "model_name": "ProgressStyleModel",
          "model_module_version": "1.5.0",
          "state": {
            "_model_module": "@jupyter-widgets/controls",
            "_model_module_version": "1.5.0",
            "_model_name": "ProgressStyleModel",
            "_view_count": null,
            "_view_module": "@jupyter-widgets/base",
            "_view_module_version": "1.2.0",
            "_view_name": "StyleView",
            "bar_color": null,
            "description_width": ""
          }
        },
        "e383548826ae4c3bba73eea4e892dfb0": {
          "model_module": "@jupyter-widgets/base",
          "model_name": "LayoutModel",
          "model_module_version": "1.2.0",
          "state": {
            "_model_module": "@jupyter-widgets/base",
            "_model_module_version": "1.2.0",
            "_model_name": "LayoutModel",
            "_view_count": null,
            "_view_module": "@jupyter-widgets/base",
            "_view_module_version": "1.2.0",
            "_view_name": "LayoutView",
            "align_content": null,
            "align_items": null,
            "align_self": null,
            "border": null,
            "bottom": null,
            "display": null,
            "flex": null,
            "flex_flow": null,
            "grid_area": null,
            "grid_auto_columns": null,
            "grid_auto_flow": null,
            "grid_auto_rows": null,
            "grid_column": null,
            "grid_gap": null,
            "grid_row": null,
            "grid_template_areas": null,
            "grid_template_columns": null,
            "grid_template_rows": null,
            "height": null,
            "justify_content": null,
            "justify_items": null,
            "left": null,
            "margin": null,
            "max_height": null,
            "max_width": null,
            "min_height": null,
            "min_width": null,
            "object_fit": null,
            "object_position": null,
            "order": null,
            "overflow": null,
            "overflow_x": null,
            "overflow_y": null,
            "padding": null,
            "right": null,
            "top": null,
            "visibility": null,
            "width": null
          }
        },
        "4283513f249a4e97a7393bfbe5132d08": {
          "model_module": "@jupyter-widgets/controls",
          "model_name": "DescriptionStyleModel",
          "model_module_version": "1.5.0",
          "state": {
            "_model_module": "@jupyter-widgets/controls",
            "_model_module_version": "1.5.0",
            "_model_name": "DescriptionStyleModel",
            "_view_count": null,
            "_view_module": "@jupyter-widgets/base",
            "_view_module_version": "1.2.0",
            "_view_name": "StyleView",
            "description_width": ""
          }
        }
      }
    }
  },
  "nbformat": 4,
  "nbformat_minor": 5
}