{
  "nbformat": 4,
  "nbformat_minor": 0,
  "metadata": {
    "colab": {
      "provenance": [],
      "authorship_tag": "ABX9TyM1d98okJBt/Wxu3W+cba1T",
      "include_colab_link": true
    },
    "kernelspec": {
      "name": "python3",
      "display_name": "Python 3"
    },
    "language_info": {
      "name": "python"
    }
  },
  "cells": [
    {
      "cell_type": "markdown",
      "metadata": {
        "id": "view-in-github",
        "colab_type": "text"
      },
      "source": [
        "<a href=\"https://colab.research.google.com/github/adas754/Basic-Deep-Learning-Practical-implementation/blob/main/spacy.ipynb\" target=\"_parent\"><img src=\"https://colab.research.google.com/assets/colab-badge.svg\" alt=\"Open In Colab\"/></a>"
      ]
    },
    {
      "cell_type": "code",
      "execution_count": 1,
      "metadata": {
        "id": "WNHZoSfsS67A"
      },
      "outputs": [],
      "source": [
        "import spacy\n",
        "nlp = spacy.load('en_core_web_sm')"
      ]
    },
    {
      "cell_type": "code",
      "source": [
        "import spacy\n",
        "nlp = spacy.load('en_core_web_sm')\n",
        "\n",
        "# Create an nlp object\n",
        "doc = nlp(\"He went to play basketball\")"
      ],
      "metadata": {
        "id": "AjI2Q0_hTAA0"
      },
      "execution_count": 2,
      "outputs": []
    },
    {
      "cell_type": "code",
      "source": [
        "doc"
      ],
      "metadata": {
        "colab": {
          "base_uri": "https://localhost:8080/"
        },
        "id": "jHocNCMQTxQq",
        "outputId": "1418c790-dc18-4b6f-f0e6-5742784bfe2a"
      },
      "execution_count": 3,
      "outputs": [
        {
          "output_type": "execute_result",
          "data": {
            "text/plain": [
              "He went to play basketball"
            ]
          },
          "metadata": {},
          "execution_count": 3
        }
      ]
    },
    {
      "cell_type": "code",
      "source": [
        "# Created by processing a string of text with the nlp object\n",
        "doc = nlp(\"Hello world!\")\n",
        "\n",
        "# Iterate over tokens in a Doc\n",
        "for token in doc:\n",
        "    print(token.text)\n"
      ],
      "metadata": {
        "colab": {
          "base_uri": "https://localhost:8080/"
        },
        "id": "lWEx3finiQzS",
        "outputId": "a19f5660-e4bc-4fc3-eb40-b7cd9bf3f199"
      },
      "execution_count": 4,
      "outputs": [
        {
          "output_type": "stream",
          "name": "stdout",
          "text": [
            "Hello\n",
            "world\n",
            "!\n"
          ]
        }
      ]
    },
    {
      "cell_type": "code",
      "source": [
        "doc = nlp(\"Hello world!\")\n",
        "\n",
        "# Index into the Doc to get a single Token\n",
        "token = doc[1]\n",
        "\n",
        "# Get the token text via the .text attribute\n",
        "print(token.text)"
      ],
      "metadata": {
        "colab": {
          "base_uri": "https://localhost:8080/"
        },
        "id": "v1-FIgHziaqZ",
        "outputId": "5800660f-8004-4a62-d483-fed962b182ae"
      },
      "execution_count": 5,
      "outputs": [
        {
          "output_type": "stream",
          "name": "stdout",
          "text": [
            "world\n"
          ]
        }
      ]
    },
    {
      "cell_type": "code",
      "source": [
        "doc = nlp(\"Hello world!\")\n",
        "\n",
        "# A slice from the Doc is a Span object\n",
        "span = doc[1:3]\n",
        "\n",
        "# Get the span text via the .text attribute\n",
        "print(span.text)"
      ],
      "metadata": {
        "colab": {
          "base_uri": "https://localhost:8080/"
        },
        "id": "VmCmLpyxihHP",
        "outputId": "fbcf9003-fc34-4b5d-bc14-044393efcd6b"
      },
      "execution_count": 6,
      "outputs": [
        {
          "output_type": "stream",
          "name": "stdout",
          "text": [
            "world!\n"
          ]
        }
      ]
    },
    {
      "cell_type": "code",
      "source": [
        "doc = nlp(\"It costs $5.\")\n",
        "print(\"Index:   \", [token.i for token in doc])\n",
        "print(\"Text:    \", [token.text for token in doc])\n",
        "\n",
        "print(\"is_alpha:\", [token.is_alpha for token in doc])\n",
        "print(\"is_punct:\", [token.is_punct for token in doc])\n",
        "print(\"like_num:\", [token.like_num for token in doc])"
      ],
      "metadata": {
        "colab": {
          "base_uri": "https://localhost:8080/"
        },
        "id": "SgrrNKeviqrI",
        "outputId": "1882bea8-e4a5-40f1-d7b9-f69b3307951b"
      },
      "execution_count": 7,
      "outputs": [
        {
          "output_type": "stream",
          "name": "stdout",
          "text": [
            "Index:    [0, 1, 2, 3, 4]\n",
            "Text:     ['It', 'costs', '$', '5', '.']\n",
            "is_alpha: [True, True, False, False, False]\n",
            "is_punct: [False, False, False, False, True]\n",
            "like_num: [False, False, False, True, False]\n"
          ]
        }
      ]
    },
    {
      "cell_type": "code",
      "source": [
        "# Import spaCy\n",
        "import spacy\n",
        "\n",
        "# Create the English nlp object\n",
        "nlp = spacy.blank(\"en\")\n",
        "\n",
        "# Process a text\n",
        "doc = nlp(\"This is a sentence.\")\n",
        "\n",
        "# Print the document text\n",
        "print(doc.text)"
      ],
      "metadata": {
        "colab": {
          "base_uri": "https://localhost:8080/"
        },
        "id": "5KQR0QXWi_nL",
        "outputId": "36059342-857f-48b8-87cb-382076d83269"
      },
      "execution_count": 8,
      "outputs": [
        {
          "output_type": "stream",
          "name": "stdout",
          "text": [
            "This is a sentence.\n"
          ]
        }
      ]
    },
    {
      "cell_type": "code",
      "source": [
        "import spacy\n",
        "\n",
        "# Create the German nlp object\n",
        "nlp = spacy.blank(\"de\")\n",
        "\n",
        "# Process a text (this is German for: \"Kind regards!\")\n",
        "doc = nlp(\"Liebe Grüße!\")\n",
        "\n",
        "# Print the document text\n",
        "print(doc.text)"
      ],
      "metadata": {
        "colab": {
          "base_uri": "https://localhost:8080/"
        },
        "id": "GsYWNAYCje8J",
        "outputId": "abc3caad-bb6c-45a5-c15b-47c9f5eb53eb"
      },
      "execution_count": 9,
      "outputs": [
        {
          "output_type": "stream",
          "name": "stdout",
          "text": [
            "Liebe Grüße!\n"
          ]
        }
      ]
    },
    {
      "cell_type": "code",
      "source": [
        "# Import spaCy\n",
        "import spacy\n",
        "\n",
        "# Create the Spanish nlp object\n",
        "nlp = spacy.blank(\"es\")\n",
        "\n",
        "# Process a text (this is Spanish for: \"How are you?\")\n",
        "doc = nlp(\"¿Cómo estás?\")\n",
        "\n",
        "# Print the document text\n",
        "print(doc.text)"
      ],
      "metadata": {
        "colab": {
          "base_uri": "https://localhost:8080/"
        },
        "id": "vME3zupjjmMt",
        "outputId": "37aff02f-1f70-431d-fa2c-f414cbb87f6a"
      },
      "execution_count": 10,
      "outputs": [
        {
          "output_type": "stream",
          "name": "stdout",
          "text": [
            "¿Cómo estás?\n"
          ]
        }
      ]
    },
    {
      "cell_type": "code",
      "source": [
        "import spacy\n",
        "\n",
        "nlp = spacy.blank(\"en\")\n",
        "\n",
        "# Process the text\n",
        "doc = nlp(\"I like tree kangaroos and narwhals.\")\n",
        "\n",
        "# Select the first token\n",
        "first_token = doc[0]\n",
        "\n",
        "# Print the first token's text\n",
        "print(first_token.text)"
      ],
      "metadata": {
        "colab": {
          "base_uri": "https://localhost:8080/"
        },
        "id": "NYVBNE-BkHUK",
        "outputId": "f65d48ac-44e7-4025-c999-9e8f86b95d4b"
      },
      "execution_count": 11,
      "outputs": [
        {
          "output_type": "stream",
          "name": "stdout",
          "text": [
            "I\n"
          ]
        }
      ]
    },
    {
      "cell_type": "code",
      "source": [
        "import spacy\n",
        "\n",
        "nlp = spacy.blank(\"en\")\n",
        "\n",
        "# Process the text\n",
        "doc = nlp(\"I like tree kangaroos and narwhals.\")\n",
        "\n",
        "# A slice of the Doc for \"tree kangaroos\"\n",
        "tree_kangaroos = doc[2:4]\n",
        "print(tree_kangaroos.text)\n",
        "\n",
        "# A slice of the Doc for \"tree kangaroos and narwhals\" (without the \".\")\n",
        "tree_kangaroos_and_narwhals = doc[2:6]\n",
        "print(tree_kangaroos_and_narwhals.text)"
      ],
      "metadata": {
        "colab": {
          "base_uri": "https://localhost:8080/"
        },
        "id": "n-tcbafu4LhA",
        "outputId": "52b3cc69-c060-4500-93fc-c26ae0e9bd68"
      },
      "execution_count": 12,
      "outputs": [
        {
          "output_type": "stream",
          "name": "stdout",
          "text": [
            "tree kangaroos\n",
            "tree kangaroos and narwhals\n"
          ]
        }
      ]
    },
    {
      "cell_type": "code",
      "source": [
        "import spacy\n",
        "\n",
        "nlp = spacy.blank(\"en\")\n",
        "\n",
        "# Process the text\n",
        "doc = nlp(\n",
        "    \"In 1990, more than 60% of people in East Asia were in extreme poverty. \"\n",
        "    \"Now less than 4% are.\"\n",
        ")\n",
        "\n",
        "# Iterate over the tokens in the doc\n",
        "for token in doc:\n",
        "    # Check if the token resembles a number\n",
        "    if token.like_num:\n",
        "        # Get the next token in the document\n",
        "        next_token = doc[token.i + 1]\n",
        "        # Check if the next token's text equals \"%\"\n",
        "        if next_token.text == \"%\":\n",
        "            print(\"Percentage found:\", token.text)"
      ],
      "metadata": {
        "colab": {
          "base_uri": "https://localhost:8080/"
        },
        "id": "B6NsLxFn4u5h",
        "outputId": "a2372e57-7634-47a7-b449-9baa3b553e8b"
      },
      "execution_count": 13,
      "outputs": [
        {
          "output_type": "stream",
          "name": "stdout",
          "text": [
            "Percentage found: 60\n",
            "Percentage found: 4\n"
          ]
        }
      ]
    },
    {
      "cell_type": "code",
      "source": [
        "import spacy\n",
        "\n",
        "# Load the small English pipeline\n",
        "nlp = spacy.load(\"en_core_web_sm\")\n",
        "\n",
        "# Process a text\n",
        "doc = nlp(\"She ate the pizza\")\n",
        "\n",
        "# Iterate over the tokens\n",
        "for token in doc:\n",
        "    # Print the text and the predicted part-of-speech tag\n",
        "    print(token.text, token.pos_)"
      ],
      "metadata": {
        "colab": {
          "base_uri": "https://localhost:8080/"
        },
        "id": "jNxC1TO44-Vi",
        "outputId": "c2d7f39d-2afc-496f-bc0c-e8116c257d2b"
      },
      "execution_count": 14,
      "outputs": [
        {
          "output_type": "stream",
          "name": "stdout",
          "text": [
            "She PRON\n",
            "ate VERB\n",
            "the DET\n",
            "pizza NOUN\n"
          ]
        }
      ]
    },
    {
      "cell_type": "code",
      "source": [
        "for token in doc:\n",
        "    print(token.text, token.pos_, token.dep_, token.head.text)\n"
      ],
      "metadata": {
        "colab": {
          "base_uri": "https://localhost:8080/"
        },
        "id": "nrNHz2HS5L3g",
        "outputId": "3914aa55-6bea-4c05-8154-8eddbecae0d2"
      },
      "execution_count": 15,
      "outputs": [
        {
          "output_type": "stream",
          "name": "stdout",
          "text": [
            "She PRON nsubj ate\n",
            "ate VERB ROOT ate\n",
            "the DET det pizza\n",
            "pizza NOUN dobj ate\n"
          ]
        }
      ]
    },
    {
      "cell_type": "code",
      "source": [
        "doc = nlp(\"Apple is looking at buying U.K. startup for $1 billion\")\n",
        "\n",
        "# Iterate over the predicted entities\n",
        "for ent in doc.ents:\n",
        "    # Print the entity text and its label\n",
        "    print(ent.text, ent.label_)"
      ],
      "metadata": {
        "colab": {
          "base_uri": "https://localhost:8080/"
        },
        "id": "hEnZiXYa8fd3",
        "outputId": "1555aba7-65fa-481a-f9fa-eea640ba448e"
      },
      "execution_count": 16,
      "outputs": [
        {
          "output_type": "stream",
          "name": "stdout",
          "text": [
            "Apple ORG\n",
            "U.K. GPE\n",
            "$1 billion MONEY\n"
          ]
        }
      ]
    },
    {
      "cell_type": "code",
      "source": [
        "import spacy\n",
        "\n",
        "# Load the \"en_core_web_sm\" pipeline\n",
        "nlp = spacy.load(\"en_core_web_sm\")\n",
        "\n",
        "text = \"It’s official: Apple is the first U.S. public company to reach a $1 trillion market value\"\n",
        "\n",
        "# Process the text\n",
        "doc = nlp(text)\n",
        "\n",
        "# Print the document text\n",
        "print(doc.text)"
      ],
      "metadata": {
        "colab": {
          "base_uri": "https://localhost:8080/"
        },
        "id": "O992rYys84r5",
        "outputId": "b9d5785c-d539-4d13-c0a3-60728752c2b5"
      },
      "execution_count": 17,
      "outputs": [
        {
          "output_type": "stream",
          "name": "stdout",
          "text": [
            "It’s official: Apple is the first U.S. public company to reach a $1 trillion market value\n"
          ]
        }
      ]
    },
    {
      "cell_type": "code",
      "source": [
        "import spacy\n",
        "\n",
        "nlp = spacy.load(\"en_core_web_sm\")\n",
        "\n",
        "text = \"It’s official: Apple is the first U.S. public company to reach a $1 trillion market value\"\n",
        "\n",
        "# Process the text\n",
        "doc = nlp(text)\n",
        "\n",
        "for token in doc:\n",
        "    # Get the token text, part-of-speech tag and dependency label\n",
        "    token_text = token.text\n",
        "    token_pos = token.pos_\n",
        "    token_dep = token.dep_\n",
        "    # This is for formatting only\n",
        "    print(f\"{token_text:<12}{token_pos:<10}{token_dep:<10}\")"
      ],
      "metadata": {
        "colab": {
          "base_uri": "https://localhost:8080/"
        },
        "id": "8SoHnh7Y9UVW",
        "outputId": "67bb9849-870b-4cf1-e484-67bd6495485e"
      },
      "execution_count": 18,
      "outputs": [
        {
          "output_type": "stream",
          "name": "stdout",
          "text": [
            "It          PRON      nsubj     \n",
            "’s          VERB      ccomp     \n",
            "official    NOUN      acomp     \n",
            ":           PUNCT     punct     \n",
            "Apple       PROPN     nsubj     \n",
            "is          AUX       ROOT      \n",
            "the         DET       det       \n",
            "first       ADJ       amod      \n",
            "U.S.        PROPN     nmod      \n",
            "public      ADJ       amod      \n",
            "company     NOUN      attr      \n",
            "to          PART      aux       \n",
            "reach       VERB      relcl     \n",
            "a           DET       det       \n",
            "$           SYM       quantmod  \n",
            "1           NUM       compound  \n",
            "trillion    NUM       nummod    \n",
            "market      NOUN      compound  \n",
            "value       NOUN      dobj      \n"
          ]
        }
      ]
    },
    {
      "cell_type": "code",
      "source": [
        "import spacy\n",
        "\n",
        "nlp = spacy.load(\"en_core_web_sm\")\n",
        "\n",
        "text = \"It’s official: Apple is the first U.S. public company to reach a $1 trillion market value\"\n",
        "\n",
        "# Process the text\n",
        "doc = nlp(text)\n",
        "\n",
        "# Iterate over the predicted entities\n",
        "for ent in doc.ents:\n",
        "    # Print the entity text and its label\n",
        "    print(ent.text, ent.label_)"
      ],
      "metadata": {
        "colab": {
          "base_uri": "https://localhost:8080/"
        },
        "id": "ZUqny9gg-71s",
        "outputId": "2dc71b82-bc64-496f-e17e-04138e3dd030"
      },
      "execution_count": 19,
      "outputs": [
        {
          "output_type": "stream",
          "name": "stdout",
          "text": [
            "Apple ORG\n",
            "first ORDINAL\n",
            "U.S. GPE\n",
            "$1 trillion MONEY\n"
          ]
        }
      ]
    },
    {
      "cell_type": "code",
      "source": [
        "import spacy\n",
        "\n",
        "nlp = spacy.load(\"en_core_web_sm\")\n",
        "\n",
        "text = \"Upcoming iPhone X release date leaked as Apple reveals pre-orders\"\n",
        "\n",
        "# Process the text\n",
        "doc = nlp(text)\n",
        "\n",
        "# Iterate over the entities\n",
        "for ent in doc.ents:\n",
        "    # Print the entity text and label\n",
        "    print(ent.text, ent.label_)\n",
        "\n",
        "# Get the span for \"iPhone X\"\n",
        "iphone_x = doc[1:3]\n",
        "\n",
        "# Print the span text\n",
        "print(\"Missing entity:\", iphone_x.text)"
      ],
      "metadata": {
        "colab": {
          "base_uri": "https://localhost:8080/"
        },
        "id": "L51zDIQj_hsZ",
        "outputId": "955f2d33-63b3-49b9-aa6f-f490faee5602"
      },
      "execution_count": 20,
      "outputs": [
        {
          "output_type": "stream",
          "name": "stdout",
          "text": [
            "Apple ORG\n",
            "Missing entity: iPhone X\n"
          ]
        }
      ]
    },
    {
      "cell_type": "code",
      "source": [
        "import spacy\n",
        "\n",
        "# Import the Matcher\n",
        "from spacy.matcher import Matcher\n",
        "\n",
        "# Load a pipeline and create the nlp object\n",
        "nlp = spacy.load(\"en_core_web_sm\")\n",
        "\n",
        "# Initialize the matcher with the shared vocab\n",
        "matcher = Matcher(nlp.vocab)\n",
        "\n",
        "# Add the pattern to the matcher\n",
        "pattern = [{\"TEXT\": \"iPhone\"}, {\"TEXT\": \"X\"}]\n",
        "matcher.add(\"IPHONE_PATTERN\", [pattern])\n",
        "\n",
        "# Process some text\n",
        "doc = nlp(\"Upcoming iPhone X release date leaked\")\n",
        "\n",
        "# Call the matcher on the doc\n",
        "matches = matcher(doc)"
      ],
      "metadata": {
        "id": "C_oCGdBV_zNS"
      },
      "execution_count": 21,
      "outputs": []
    },
    {
      "cell_type": "code",
      "source": [
        "# Call the matcher on the doc\n",
        "doc = nlp(\"Upcoming iPhone X release date leaked\")\n",
        "matches = matcher(doc)\n",
        "\n",
        "# Iterate over the matches\n",
        "for match_id, start, end in matches:\n",
        "    # Get the matched span\n",
        "    matched_span = doc[start:end]\n",
        "    print(matched_span.text)"
      ],
      "metadata": {
        "colab": {
          "base_uri": "https://localhost:8080/"
        },
        "id": "vAEGVvPPAJ1B",
        "outputId": "24f96dea-6908-4038-f8fc-dac1bf53eeaf"
      },
      "execution_count": 22,
      "outputs": [
        {
          "output_type": "stream",
          "name": "stdout",
          "text": [
            "iPhone X\n"
          ]
        }
      ]
    },
    {
      "cell_type": "code",
      "source": [
        "import spacy\n",
        "from spacy.matcher import PhraseMatcher\n",
        "nlp = spacy.blank(\"en\")\n",
        "text = \"Upcoming iPhone X release date leaked\"\n",
        "matcher = PhraseMatcher(nlp.vocab)\n",
        "phrase_patterns = [nlp(\"iPhone X\")]\n",
        "matcher.add(\"PHRASE\", phrase_patterns)\n",
        "doc = nlp(text)\n",
        "matches = matcher(doc)\n",
        "for match_id, start, end in matches:\n",
        "    matched_text = doc[start:end].text\n",
        "    print(\"Match found:\", matched_text)\n"
      ],
      "metadata": {
        "colab": {
          "base_uri": "https://localhost:8080/"
        },
        "id": "fGAWJ9ZeE-96",
        "outputId": "50046bad-81fc-4bdb-886b-c93fa599c4e7"
      },
      "execution_count": 23,
      "outputs": [
        {
          "output_type": "stream",
          "name": "stdout",
          "text": [
            "Match found: iPhone X\n"
          ]
        }
      ]
    },
    {
      "cell_type": "code",
      "source": [
        "import spacy\n",
        "from spacy.matcher import Matcher\n",
        "\n",
        "nlp = spacy.load(\"en_core_web_sm\")\n",
        "matcher = Matcher(nlp.vocab)\n",
        "pattern = [\n",
        "    {\"IS_DIGIT\": True},\n",
        "    {\"LOWER\": {\"IN\": [\"fifa\", \"world\", \"cup\"]}},\n",
        "    {\"LOWER\": {\"IN\": [\"fifa\", \"world\", \"cup\"]}},\n",
        "    {\"LOWER\": {\"IN\": [\"fifa\", \"world\", \"cup\"]}}\n",
        "    #{\"IS_PUNCT\": True}\n",
        "]\n",
        "matcher.add(\"FIFA_WORLD_CUP_PATTERN\", [pattern])\n",
        "doc = nlp(\"2018 FIFA World Cup: France won!\")\n",
        "matches = matcher(doc)\n",
        "for match_id, start, end in matches:\n",
        "    matched_span = doc[start:end]\n",
        "    print(\"Match found:\", matched_span.text)"
      ],
      "metadata": {
        "colab": {
          "base_uri": "https://localhost:8080/"
        },
        "id": "sUCFus5xF60f",
        "outputId": "054058f6-ccce-480a-9690-66e07a5c5df1"
      },
      "execution_count": 24,
      "outputs": [
        {
          "output_type": "stream",
          "name": "stdout",
          "text": [
            "Match found: 2018 FIFA World Cup\n"
          ]
        }
      ]
    },
    {
      "cell_type": "code",
      "source": [
        "import spacy\n",
        "from spacy.matcher import Matcher\n",
        "nlp = spacy.load(\"en_core_web_sm\")\n",
        "matcher = Matcher(nlp.vocab)\n",
        "pattern = [\n",
        "    {\"LEMMA\": \"love\", \"POS\": \"VERB\"},\n",
        "    {\"POS\": \"NOUN\"}\n",
        "]\n",
        "matcher.add(\"LOVE_PATTERN\", [pattern])\n",
        "doc = nlp(\"I loved dogs but now I love cats more.\")\n",
        "matches = matcher(doc)\n",
        "for match_id, start, end in matches:\n",
        "    matched_span = doc[start:end]\n",
        "    print(\"Match found:\", matched_span.text)\n"
      ],
      "metadata": {
        "colab": {
          "base_uri": "https://localhost:8080/"
        },
        "id": "m-1FOulTJ8V1",
        "outputId": "7e736509-5009-4963-ce9a-cce4b140136c"
      },
      "execution_count": 25,
      "outputs": [
        {
          "output_type": "stream",
          "name": "stdout",
          "text": [
            "Match found: loved dogs\n",
            "Match found: love cats\n"
          ]
        }
      ]
    },
    {
      "cell_type": "code",
      "source": [
        "import spacy\n",
        "from spacy.matcher import Matcher\n",
        "nlp = spacy.load(\"en_core_web_sm\")\n",
        "matcher = Matcher(nlp.vocab)\n",
        "pattern1 = [\n",
        "    {\"LEMMA\": \"buy\", \"POS\": \"VERB\"},\n",
        "    {\"POS\": \"DET\", \"OP\": \"?\"},  # optional: match 0 or 1 times\n",
        "    {\"LOWER\": \"smartphone\"}]\n",
        "pattern2 = [\n",
        "    {\"LEMMA\": \"buy\", \"POS\": \"VERB\"},\n",
        "    {\"LOWER\": \"apps\"}]\n",
        "matcher.add(\"BUY_SMARTPHONE_PATTERN\", [pattern1])\n",
        "matcher.add(\"BUYING_APPS_PATTERN\", [pattern2])\n",
        "doc = nlp(\"I bought a smartphone. Now I'm buying apps.\")\n",
        "matches = matcher(doc)\n",
        "for match_id, start, end in matches:\n",
        "    matched_span = doc[start:end]\n",
        "    print(\"Match found:\", matched_span.text)"
      ],
      "metadata": {
        "colab": {
          "base_uri": "https://localhost:8080/"
        },
        "id": "jE9LBbwAOZNq",
        "outputId": "fc23f111-97e1-46a3-8797-99a3c587720d"
      },
      "execution_count": 26,
      "outputs": [
        {
          "output_type": "stream",
          "name": "stdout",
          "text": [
            "Match found: bought a smartphone\n",
            "Match found: buying apps\n"
          ]
        }
      ]
    },
    {
      "cell_type": "code",
      "source": [
        "nlp = spacy.load(\"en_core_web_sm\")\n",
        "doc = nlp(\"Upcoming iPhone X release date leaked as Apple reveals pre-orders\")\n",
        "matcher = Matcher(nlp.vocab)\n",
        "pattern = [{\"TEXT\": \"iPhone\"}, {\"TEXT\": \"X\"}]\n",
        "matcher.add(\"IPHONE_X_PATTERN\", [pattern])\n",
        "matches = matcher(doc)\n",
        "print(\"Matches:\", [doc[start:end].text for match_id, start, end in matches])"
      ],
      "metadata": {
        "colab": {
          "base_uri": "https://localhost:8080/"
        },
        "id": "KruU_iiMPbzx",
        "outputId": "e6bf1747-caff-4366-f261-0423fc10b583"
      },
      "execution_count": 27,
      "outputs": [
        {
          "output_type": "stream",
          "name": "stdout",
          "text": [
            "Matches: ['iPhone X']\n"
          ]
        }
      ]
    },
    {
      "cell_type": "code",
      "source": [
        "from spacy.matcher import Matcher\n",
        "nlp = spacy.load(\"en_core_web_sm\")\n",
        "matcher = Matcher(nlp.vocab)\n",
        "doc = nlp(\n",
        "    \"After making the iOS update you won't notice a radical system-wide \"\n",
        "    \"redesign: nothing like the aesthetic upheaval we got with iOS 7. Most of \"\n",
        "    \"iOS 11's furniture remains the same as in iOS 10. But you will discover \"\n",
        "    \"some tweaks once you delve a little deeper.\"\n",
        ")\n",
        "pattern = [{\"TEXT\": \"iOS\"}, {\"IS_DIGIT\": True}]\n",
        "matcher.add(\"IOS_VERSION_PATTERN\", [pattern])\n",
        "matches = matcher(doc)\n",
        "print(\"Total matches found:\", len(matches))\n",
        "for match_id, start, end in matches:\n",
        "    print(\"Match found:\", doc[start:end].text)"
      ],
      "metadata": {
        "colab": {
          "base_uri": "https://localhost:8080/"
        },
        "id": "b3eUcALzP2eZ",
        "outputId": "f391cf28-d045-4e10-9d4b-ebe4c64af3c3"
      },
      "execution_count": 28,
      "outputs": [
        {
          "output_type": "stream",
          "name": "stdout",
          "text": [
            "Total matches found: 3\n",
            "Match found: iOS 7\n",
            "Match found: iOS 11\n",
            "Match found: iOS 10\n"
          ]
        }
      ]
    },
    {
      "cell_type": "code",
      "source": [
        "nlp = spacy.load(\"en_core_web_sm\")\n",
        "matcher = Matcher(nlp.vocab)\n",
        "doc = nlp(\n",
        "    \"i downloaded Fortnite on my laptop and can't open the game at all. Help? \"\n",
        "    \"so when I was downloading Minecraft, I got the Windows version where it \"\n",
        "    \"is the '.zip' folder and I used the default program to unpack it... do \"\n",
        "    \"I also need to download Winzip?\"\n",
        ")\n",
        "pattern = [{\"LEMMA\": \"download\"}, {\"POS\": \"PROPN\"}]\n",
        "matcher.add(\"DOWNLOAD_THINGS_PATTERN\", [pattern])\n",
        "matches = matcher(doc)\n",
        "print(\"Total matches found:\", len(matches))\n",
        "for match_id, start, end in matches:\n",
        "    print(\"Match found:\", doc[start:end].text)\n"
      ],
      "metadata": {
        "colab": {
          "base_uri": "https://localhost:8080/"
        },
        "id": "9bhkNStZQVfi",
        "outputId": "9f80cdb7-dfc4-4748-9097-cd31fb647213"
      },
      "execution_count": 29,
      "outputs": [
        {
          "output_type": "stream",
          "name": "stdout",
          "text": [
            "Total matches found: 3\n",
            "Match found: downloaded Fortnite\n",
            "Match found: downloading Minecraft\n",
            "Match found: download Winzip\n"
          ]
        }
      ]
    },
    {
      "cell_type": "code",
      "source": [
        "nlp = spacy.load(\"en_core_web_sm\")\n",
        "matcher = Matcher(nlp.vocab)\n",
        "doc = nlp(\n",
        "    \"Features of the app include a beautiful design, smart search, automatic \"\n",
        "    \"labels and optional voice responses.\"\n",
        ")\n",
        "pattern = [{\"POS\": \"ADJ\"}, {\"POS\": \"NOUN\"}, {\"POS\": \"NOUN\", \"OP\": \"?\"}]\n",
        "matcher.add(\"ADJ_NOUN_PATTERN\", [pattern])\n",
        "matches = matcher(doc)\n",
        "print(\"Total matches found:\", len(matches))\n",
        "for match_id, start, end in matches:\n",
        "    print(\"Match found:\", doc[start:end].text)"
      ],
      "metadata": {
        "colab": {
          "base_uri": "https://localhost:8080/"
        },
        "id": "KXrr11MCRdXG",
        "outputId": "461dd3c3-e30c-4ed5-a638-8005c8e2260a"
      },
      "execution_count": 30,
      "outputs": [
        {
          "output_type": "stream",
          "name": "stdout",
          "text": [
            "Total matches found: 5\n",
            "Match found: beautiful design\n",
            "Match found: smart search\n",
            "Match found: automatic labels\n",
            "Match found: optional voice\n",
            "Match found: optional voice responses\n"
          ]
        }
      ]
    },
    {
      "cell_type": "code",
      "source": [
        "nlp.vocab.strings.add(\"coffee\")\n",
        "coffee_hash = nlp.vocab.strings[\"coffee\"]\n",
        "coffee_string = nlp.vocab.strings[coffee_hash]\n",
        "coffee_string"
      ],
      "metadata": {
        "colab": {
          "base_uri": "https://localhost:8080/",
          "height": 35
        },
        "id": "hNhZ-AcOSdUh",
        "outputId": "4e6d27ef-50c5-4d3d-d58c-3c23377537f8"
      },
      "execution_count": 31,
      "outputs": [
        {
          "output_type": "execute_result",
          "data": {
            "text/plain": [
              "'coffee'"
            ],
            "application/vnd.google.colaboratory.intrinsic+json": {
              "type": "string"
            }
          },
          "metadata": {},
          "execution_count": 31
        }
      ]
    },
    {
      "cell_type": "code",
      "source": [
        "coffee_hash"
      ],
      "metadata": {
        "colab": {
          "base_uri": "https://localhost:8080/"
        },
        "id": "D9d9j5rKSjmd",
        "outputId": "29530f9f-0bf4-44d4-e2db-e8de858122fb"
      },
      "execution_count": 32,
      "outputs": [
        {
          "output_type": "execute_result",
          "data": {
            "text/plain": [
              "3197928453018144401"
            ]
          },
          "metadata": {},
          "execution_count": 32
        }
      ]
    },
    {
      "cell_type": "code",
      "source": [
        "string = nlp.vocab.strings[3197928453018144401]\n",
        "string"
      ],
      "metadata": {
        "colab": {
          "base_uri": "https://localhost:8080/",
          "height": 35
        },
        "id": "Ev4qk9B_SsdS",
        "outputId": "7f941071-f4a5-45ea-9977-f202d213373c"
      },
      "execution_count": 33,
      "outputs": [
        {
          "output_type": "execute_result",
          "data": {
            "text/plain": [
              "'coffee'"
            ],
            "application/vnd.google.colaboratory.intrinsic+json": {
              "type": "string"
            }
          },
          "metadata": {},
          "execution_count": 33
        }
      ]
    },
    {
      "cell_type": "code",
      "source": [
        "doc = nlp(\"I love coffee\")\n",
        "print(\"hash value:\", nlp.vocab.strings[\"coffee\"])\n",
        "print(\"string value:\", nlp.vocab.strings[3197928453018144401])"
      ],
      "metadata": {
        "colab": {
          "base_uri": "https://localhost:8080/"
        },
        "id": "g7zkFWljS_yc",
        "outputId": "482ff27f-a68d-41d1-db92-a1d5c74b76cb"
      },
      "execution_count": 34,
      "outputs": [
        {
          "output_type": "stream",
          "name": "stdout",
          "text": [
            "hash value: 3197928453018144401\n",
            "string value: coffee\n"
          ]
        }
      ]
    },
    {
      "cell_type": "code",
      "source": [
        "doc = nlp(\"I love coffee\")\n",
        "print(\"hash value:\", doc.vocab.strings[\"coffee\"])"
      ],
      "metadata": {
        "colab": {
          "base_uri": "https://localhost:8080/"
        },
        "id": "rt4vhLy2TIZr",
        "outputId": "d93436a1-2aad-4ea5-d3cc-9466e08ed36b"
      },
      "execution_count": 35,
      "outputs": [
        {
          "output_type": "stream",
          "name": "stdout",
          "text": [
            "hash value: 3197928453018144401\n"
          ]
        }
      ]
    },
    {
      "cell_type": "code",
      "source": [
        "doc = nlp(\"I love coffee\")\n",
        "lexeme = nlp.vocab[\"coffee\"]\n",
        "\n",
        "# Print the lexical attributes\n",
        "print(lexeme.text, lexeme.orth, lexeme.is_alpha)"
      ],
      "metadata": {
        "colab": {
          "base_uri": "https://localhost:8080/"
        },
        "id": "IhcyZBGwTNqo",
        "outputId": "a5eb95cb-fa63-425e-b982-1a437b2a851c"
      },
      "execution_count": 36,
      "outputs": [
        {
          "output_type": "stream",
          "name": "stdout",
          "text": [
            "coffee 3197928453018144401 True\n"
          ]
        }
      ]
    },
    {
      "cell_type": "code",
      "source": [
        "import spacy\n",
        "\n",
        "nlp = spacy.blank(\"en\")\n",
        "doc = nlp(\"I have a cat\")\n",
        "\n",
        "# Look up the hash for the word \"cat\"\n",
        "cat_hash = nlp.vocab.strings[\"cat\"]\n",
        "print(cat_hash)\n",
        "\n",
        "# Look up the cat_hash to get the string\n",
        "cat_string = nlp.vocab.strings[cat_hash]\n",
        "print(cat_string)"
      ],
      "metadata": {
        "colab": {
          "base_uri": "https://localhost:8080/"
        },
        "id": "-TAGEEdJTYQO",
        "outputId": "88df4320-3242-4be0-b0ee-bde51dd042e3"
      },
      "execution_count": 37,
      "outputs": [
        {
          "output_type": "stream",
          "name": "stdout",
          "text": [
            "5439657043933447811\n",
            "cat\n"
          ]
        }
      ]
    },
    {
      "cell_type": "code",
      "source": [
        "import spacy\n",
        "\n",
        "nlp = spacy.blank(\"en\")\n",
        "doc = nlp(\"David Bowie is a PERSON\")\n",
        "\n",
        "# Look up the hash for the string label \"PERSON\"\n",
        "person_hash = nlp.vocab.strings[\"PERSON\"]\n",
        "print(person_hash)\n",
        "\n",
        "# Look up the person_hash to get the string\n",
        "person_string = nlp.vocab.strings[person_hash]\n",
        "print(person_string)"
      ],
      "metadata": {
        "colab": {
          "base_uri": "https://localhost:8080/"
        },
        "id": "TD-IvsuQThzy",
        "outputId": "262c4167-c054-4f5a-80b8-48601518be59"
      },
      "execution_count": 38,
      "outputs": [
        {
          "output_type": "stream",
          "name": "stdout",
          "text": [
            "380\n",
            "PERSON\n"
          ]
        }
      ]
    },
    {
      "cell_type": "code",
      "source": [
        "import spacy\n",
        "nlp = spacy.blank(\"en\")\n",
        "\n",
        "# Import the Doc class\n",
        "from spacy.tokens import Doc\n",
        "\n",
        "# The words and spaces to create the doc from\n",
        "words = [\"Hello\", \"world\", \"!\"]\n",
        "spaces = [True,False,False]\n",
        "# Create a doc manually\n",
        "doc = Doc(nlp.vocab, words=words, spaces=spaces)\n",
        "doc"
      ],
      "metadata": {
        "colab": {
          "base_uri": "https://localhost:8080/"
        },
        "id": "yd4iEOg_Tu3P",
        "outputId": "67713d53-7a43-4cdf-a1f3-a0e445c2216c"
      },
      "execution_count": 39,
      "outputs": [
        {
          "output_type": "execute_result",
          "data": {
            "text/plain": [
              "Hello world!"
            ]
          },
          "metadata": {},
          "execution_count": 39
        }
      ]
    },
    {
      "cell_type": "code",
      "source": [
        "from spacy.tokens import Doc, Span\n",
        "\n",
        "# The words and spaces to create the doc from\n",
        "words = [\"Hello\", \"world\", \"!\"]\n",
        "spaces = [True, False, False]\n",
        "\n",
        "# Create a doc manually\n",
        "doc = Doc(nlp.vocab, words=words, spaces=spaces)\n",
        "\n",
        "# Create a span manually\n",
        "span = Span(doc, 0, 2)\n",
        "\n",
        "# Create a span with a label\n",
        "span_with_label = Span(doc, 0, 2, label=\"GREETING\")\n",
        "\n",
        "# Add span to the doc.ents\n",
        "doc.ents = [span_with_label]\n",
        "doc.ents"
      ],
      "metadata": {
        "colab": {
          "base_uri": "https://localhost:8080/"
        },
        "id": "x-hLF8oAVH4H",
        "outputId": "c39c71bc-ebfa-4840-a9a9-faf5f1f51cb8"
      },
      "execution_count": 40,
      "outputs": [
        {
          "output_type": "execute_result",
          "data": {
            "text/plain": [
              "(Hello world,)"
            ]
          },
          "metadata": {},
          "execution_count": 40
        }
      ]
    },
    {
      "cell_type": "code",
      "source": [
        "import spacy\n",
        "\n",
        "nlp = spacy.blank(\"en\")\n",
        "\n",
        "# Import the Doc class\n",
        "from spacy.tokens import Doc\n",
        "\n",
        "# Desired text: \"spaCy is cool!\"\n",
        "words = [\"spaCy\", \"is\", \"cool\", \"!\"]\n",
        "spaces = [True, True, False, False]\n",
        "\n",
        "# Create a Doc from the words and spaces\n",
        "doc = Doc(nlp.vocab, words=words, spaces=spaces)\n",
        "print(doc.text)"
      ],
      "metadata": {
        "colab": {
          "base_uri": "https://localhost:8080/"
        },
        "id": "dQwq6CrcXSIm",
        "outputId": "7f3fc332-40a8-4ce8-c106-b04aa75d0dab"
      },
      "execution_count": 41,
      "outputs": [
        {
          "output_type": "stream",
          "name": "stdout",
          "text": [
            "spaCy is cool!\n"
          ]
        }
      ]
    },
    {
      "cell_type": "code",
      "source": [
        "import spacy\n",
        "\n",
        "nlp = spacy.blank(\"en\")\n",
        "\n",
        "# Import the Doc class\n",
        "from spacy.tokens import Doc\n",
        "\n",
        "# Desired text: \"Go, get started!\"\n",
        "words = [\"Go\", \",\", \"get\", \"started\", \"!\"]\n",
        "spaces = [False, True, True, False, False]\n",
        "\n",
        "# Create a Doc from the words and spaces\n",
        "doc = Doc(nlp.vocab, words=words, spaces=spaces)\n",
        "print(doc.text)"
      ],
      "metadata": {
        "colab": {
          "base_uri": "https://localhost:8080/"
        },
        "id": "VJ2d6dA7YO_i",
        "outputId": "2dfdf5fb-4d25-497b-c683-98fbd869d34d"
      },
      "execution_count": 42,
      "outputs": [
        {
          "output_type": "stream",
          "name": "stdout",
          "text": [
            "Go, get started!\n"
          ]
        }
      ]
    },
    {
      "cell_type": "code",
      "source": [
        "import spacy\n",
        "\n",
        "nlp = spacy.blank(\"en\")\n",
        "\n",
        "# Import the Doc class\n",
        "from spacy.tokens import Doc\n",
        "\n",
        "# Desired text: \"Oh, really?!\"\n",
        "words = [\"Oh\", \",\", \"really\", \"?\", \"!\"]\n",
        "spaces = [False, True, False, False, False]\n",
        "\n",
        "# Create a Doc from the words and spaces\n",
        "doc = Doc(nlp.vocab, words=words, spaces=spaces)\n",
        "print(doc.text)"
      ],
      "metadata": {
        "colab": {
          "base_uri": "https://localhost:8080/"
        },
        "id": "NXKIa8GRYsu2",
        "outputId": "de92a98f-20a1-41d3-fc63-f67edd5ebfe4"
      },
      "execution_count": 43,
      "outputs": [
        {
          "output_type": "stream",
          "name": "stdout",
          "text": [
            "Oh, really?!\n"
          ]
        }
      ]
    },
    {
      "cell_type": "code",
      "source": [
        "import spacy\n",
        "nlp = spacy.blank(\"en\")\n",
        "from spacy.tokens import Doc, Span\n",
        "words = [\"I\", \"like\", \"David\", \"Bowie\"]\n",
        "spaces = [True, True, True, False]\n",
        "doc = Doc(nlp.vocab, words=words, spaces=spaces)\n",
        "print(doc.text)\n",
        "span = Span(doc, 2, 4, label=\"PERSON\")\n",
        "print(span.text, span.label_)\n",
        "doc.ents = [span]\n",
        "print([(ent.text, ent.label_) for ent in doc.ents])"
      ],
      "metadata": {
        "colab": {
          "base_uri": "https://localhost:8080/"
        },
        "id": "osLwRD9UZaDR",
        "outputId": "9f2947df-3cb4-40c2-fbca-e02a154b8d55"
      },
      "execution_count": 44,
      "outputs": [
        {
          "output_type": "stream",
          "name": "stdout",
          "text": [
            "I like David Bowie\n",
            "David Bowie PERSON\n",
            "[('David Bowie', 'PERSON')]\n"
          ]
        }
      ]
    },
    {
      "cell_type": "code",
      "source": [
        "import spacy\n",
        "nlp = spacy.load(\"en_core_web_sm\")\n",
        "doc = nlp(\"Berlin looks like a nice city\")\n",
        "token_texts = [token.text for token in doc]\n",
        "pos_tags = [token.pos_ for token in doc]\n",
        "for index, pos in enumerate(pos_tags):\n",
        "    if pos == \"PROPN\":\n",
        "        if pos_tags[index + 1] == \"VERB\":\n",
        "            result = token_texts[index]\n",
        "            print(\"Found proper noun before a verb:\", result)"
      ],
      "metadata": {
        "colab": {
          "base_uri": "https://localhost:8080/"
        },
        "id": "crC7M4wJaaHW",
        "outputId": "42c5128a-a644-48ce-a2c6-4d42da44e151"
      },
      "execution_count": 45,
      "outputs": [
        {
          "output_type": "stream",
          "name": "stdout",
          "text": [
            "Found proper noun before a verb: Berlin\n"
          ]
        }
      ]
    },
    {
      "cell_type": "code",
      "source": [
        "import spacy\n",
        "\n",
        "nlp = spacy.load(\"en_core_web_sm\")\n",
        "doc = nlp(\"Berlin looks like a nice city\")\n",
        "\n",
        "# Get all tokens and part-of-speech tags\n",
        "token_texts = [token.text for token in doc]\n",
        "pos_tags = [token.pos_ for token in doc]\n",
        "\n",
        "for index, pos in enumerate(pos_tags):\n",
        "    # Check if the current token is a proper noun\n",
        "    if pos == \"PROPN\":\n",
        "        # Check if the next token is a verb\n",
        "        if pos_tags[index + 1] == \"VERB\":\n",
        "            result = token_texts[index]\n",
        "            print(\"Found proper noun before a verb:\", result)"
      ],
      "metadata": {
        "colab": {
          "base_uri": "https://localhost:8080/"
        },
        "id": "Bu_710k1bY-k",
        "outputId": "946df2b5-8172-4020-a7db-b68953ca042c"
      },
      "execution_count": 46,
      "outputs": [
        {
          "output_type": "stream",
          "name": "stdout",
          "text": [
            "Found proper noun before a verb: Berlin\n"
          ]
        }
      ]
    },
    {
      "cell_type": "code",
      "source": [
        "!python -m spacy download en_core_web_md\n"
      ],
      "metadata": {
        "colab": {
          "base_uri": "https://localhost:8080/"
        },
        "id": "lqJbRuXHcRD0",
        "outputId": "bc3b0460-bd1a-4861-804a-0080dd31e50f"
      },
      "execution_count": 47,
      "outputs": [
        {
          "output_type": "stream",
          "name": "stdout",
          "text": [
            "Collecting en-core-web-md==3.7.1\n",
            "  Downloading https://github.com/explosion/spacy-models/releases/download/en_core_web_md-3.7.1/en_core_web_md-3.7.1-py3-none-any.whl (42.8 MB)\n",
            "\u001b[2K     \u001b[90m━━━━━━━━━━━━━━━━━━━━━━━━━━━━━━━━━━━━━━━━\u001b[0m \u001b[32m42.8/42.8 MB\u001b[0m \u001b[31m17.6 MB/s\u001b[0m eta \u001b[36m0:00:00\u001b[0m\n",
            "\u001b[?25hRequirement already satisfied: spacy<3.8.0,>=3.7.2 in /usr/local/lib/python3.10/dist-packages (from en-core-web-md==3.7.1) (3.7.2)\n",
            "Requirement already satisfied: spacy-legacy<3.1.0,>=3.0.11 in /usr/local/lib/python3.10/dist-packages (from spacy<3.8.0,>=3.7.2->en-core-web-md==3.7.1) (3.0.12)\n",
            "Requirement already satisfied: spacy-loggers<2.0.0,>=1.0.0 in /usr/local/lib/python3.10/dist-packages (from spacy<3.8.0,>=3.7.2->en-core-web-md==3.7.1) (1.0.5)\n",
            "Requirement already satisfied: murmurhash<1.1.0,>=0.28.0 in /usr/local/lib/python3.10/dist-packages (from spacy<3.8.0,>=3.7.2->en-core-web-md==3.7.1) (1.0.10)\n",
            "Requirement already satisfied: cymem<2.1.0,>=2.0.2 in /usr/local/lib/python3.10/dist-packages (from spacy<3.8.0,>=3.7.2->en-core-web-md==3.7.1) (2.0.8)\n",
            "Requirement already satisfied: preshed<3.1.0,>=3.0.2 in /usr/local/lib/python3.10/dist-packages (from spacy<3.8.0,>=3.7.2->en-core-web-md==3.7.1) (3.0.9)\n",
            "Requirement already satisfied: thinc<8.3.0,>=8.1.8 in /usr/local/lib/python3.10/dist-packages (from spacy<3.8.0,>=3.7.2->en-core-web-md==3.7.1) (8.2.3)\n",
            "Requirement already satisfied: wasabi<1.2.0,>=0.9.1 in /usr/local/lib/python3.10/dist-packages (from spacy<3.8.0,>=3.7.2->en-core-web-md==3.7.1) (1.1.2)\n",
            "Requirement already satisfied: srsly<3.0.0,>=2.4.3 in /usr/local/lib/python3.10/dist-packages (from spacy<3.8.0,>=3.7.2->en-core-web-md==3.7.1) (2.4.8)\n",
            "Requirement already satisfied: catalogue<2.1.0,>=2.0.6 in /usr/local/lib/python3.10/dist-packages (from spacy<3.8.0,>=3.7.2->en-core-web-md==3.7.1) (2.0.10)\n",
            "Requirement already satisfied: weasel<0.4.0,>=0.1.0 in /usr/local/lib/python3.10/dist-packages (from spacy<3.8.0,>=3.7.2->en-core-web-md==3.7.1) (0.3.4)\n",
            "Requirement already satisfied: typer<0.10.0,>=0.3.0 in /usr/local/lib/python3.10/dist-packages (from spacy<3.8.0,>=3.7.2->en-core-web-md==3.7.1) (0.9.0)\n",
            "Requirement already satisfied: smart-open<7.0.0,>=5.2.1 in /usr/local/lib/python3.10/dist-packages (from spacy<3.8.0,>=3.7.2->en-core-web-md==3.7.1) (6.4.0)\n",
            "Requirement already satisfied: tqdm<5.0.0,>=4.38.0 in /usr/local/lib/python3.10/dist-packages (from spacy<3.8.0,>=3.7.2->en-core-web-md==3.7.1) (4.66.2)\n",
            "Requirement already satisfied: requests<3.0.0,>=2.13.0 in /usr/local/lib/python3.10/dist-packages (from spacy<3.8.0,>=3.7.2->en-core-web-md==3.7.1) (2.31.0)\n",
            "Requirement already satisfied: pydantic!=1.8,!=1.8.1,<3.0.0,>=1.7.4 in /usr/local/lib/python3.10/dist-packages (from spacy<3.8.0,>=3.7.2->en-core-web-md==3.7.1) (2.6.1)\n",
            "Requirement already satisfied: jinja2 in /usr/local/lib/python3.10/dist-packages (from spacy<3.8.0,>=3.7.2->en-core-web-md==3.7.1) (3.1.3)\n",
            "Requirement already satisfied: setuptools in /usr/local/lib/python3.10/dist-packages (from spacy<3.8.0,>=3.7.2->en-core-web-md==3.7.1) (67.7.2)\n",
            "Requirement already satisfied: packaging>=20.0 in /usr/local/lib/python3.10/dist-packages (from spacy<3.8.0,>=3.7.2->en-core-web-md==3.7.1) (23.2)\n",
            "Requirement already satisfied: langcodes<4.0.0,>=3.2.0 in /usr/local/lib/python3.10/dist-packages (from spacy<3.8.0,>=3.7.2->en-core-web-md==3.7.1) (3.3.0)\n",
            "Requirement already satisfied: numpy>=1.19.0 in /usr/local/lib/python3.10/dist-packages (from spacy<3.8.0,>=3.7.2->en-core-web-md==3.7.1) (1.25.2)\n",
            "Requirement already satisfied: annotated-types>=0.4.0 in /usr/local/lib/python3.10/dist-packages (from pydantic!=1.8,!=1.8.1,<3.0.0,>=1.7.4->spacy<3.8.0,>=3.7.2->en-core-web-md==3.7.1) (0.6.0)\n",
            "Requirement already satisfied: pydantic-core==2.16.2 in /usr/local/lib/python3.10/dist-packages (from pydantic!=1.8,!=1.8.1,<3.0.0,>=1.7.4->spacy<3.8.0,>=3.7.2->en-core-web-md==3.7.1) (2.16.2)\n",
            "Requirement already satisfied: typing-extensions>=4.6.1 in /usr/local/lib/python3.10/dist-packages (from pydantic!=1.8,!=1.8.1,<3.0.0,>=1.7.4->spacy<3.8.0,>=3.7.2->en-core-web-md==3.7.1) (4.9.0)\n",
            "Requirement already satisfied: charset-normalizer<4,>=2 in /usr/local/lib/python3.10/dist-packages (from requests<3.0.0,>=2.13.0->spacy<3.8.0,>=3.7.2->en-core-web-md==3.7.1) (3.3.2)\n",
            "Requirement already satisfied: idna<4,>=2.5 in /usr/local/lib/python3.10/dist-packages (from requests<3.0.0,>=2.13.0->spacy<3.8.0,>=3.7.2->en-core-web-md==3.7.1) (3.6)\n",
            "Requirement already satisfied: urllib3<3,>=1.21.1 in /usr/local/lib/python3.10/dist-packages (from requests<3.0.0,>=2.13.0->spacy<3.8.0,>=3.7.2->en-core-web-md==3.7.1) (2.0.7)\n",
            "Requirement already satisfied: certifi>=2017.4.17 in /usr/local/lib/python3.10/dist-packages (from requests<3.0.0,>=2.13.0->spacy<3.8.0,>=3.7.2->en-core-web-md==3.7.1) (2024.2.2)\n",
            "Requirement already satisfied: blis<0.8.0,>=0.7.8 in /usr/local/lib/python3.10/dist-packages (from thinc<8.3.0,>=8.1.8->spacy<3.8.0,>=3.7.2->en-core-web-md==3.7.1) (0.7.11)\n",
            "Requirement already satisfied: confection<1.0.0,>=0.0.1 in /usr/local/lib/python3.10/dist-packages (from thinc<8.3.0,>=8.1.8->spacy<3.8.0,>=3.7.2->en-core-web-md==3.7.1) (0.1.4)\n",
            "Requirement already satisfied: click<9.0.0,>=7.1.1 in /usr/local/lib/python3.10/dist-packages (from typer<0.10.0,>=0.3.0->spacy<3.8.0,>=3.7.2->en-core-web-md==3.7.1) (8.1.7)\n",
            "Requirement already satisfied: cloudpathlib<0.17.0,>=0.7.0 in /usr/local/lib/python3.10/dist-packages (from weasel<0.4.0,>=0.1.0->spacy<3.8.0,>=3.7.2->en-core-web-md==3.7.1) (0.16.0)\n",
            "Requirement already satisfied: MarkupSafe>=2.0 in /usr/local/lib/python3.10/dist-packages (from jinja2->spacy<3.8.0,>=3.7.2->en-core-web-md==3.7.1) (2.1.5)\n",
            "Installing collected packages: en-core-web-md\n",
            "Successfully installed en-core-web-md-3.7.1\n",
            "\u001b[38;5;2m✔ Download and installation successful\u001b[0m\n",
            "You can now load the package via spacy.load('en_core_web_md')\n"
          ]
        }
      ]
    },
    {
      "cell_type": "code",
      "source": [
        "nlp = spacy.load(\"en_core_web_md\")\n",
        "\n",
        "# Compare two documents\n",
        "doc1 = nlp(\"I like fast food\")\n",
        "doc2 = nlp(\"I like pizza\")\n",
        "print(doc1.similarity(doc2))"
      ],
      "metadata": {
        "colab": {
          "base_uri": "https://localhost:8080/"
        },
        "id": "YLm_DpPKcGjj",
        "outputId": "3f5a3fb3-5407-41b7-f5ff-284b8a7c0893"
      },
      "execution_count": 48,
      "outputs": [
        {
          "output_type": "stream",
          "name": "stdout",
          "text": [
            "0.8698332283318978\n"
          ]
        }
      ]
    },
    {
      "cell_type": "code",
      "source": [
        "doc = nlp(\"I like pizza and pasta\")\n",
        "token1 = doc[2]\n",
        "token2 = doc[4]\n",
        "print(token1.similarity(token2))"
      ],
      "metadata": {
        "colab": {
          "base_uri": "https://localhost:8080/"
        },
        "id": "39mM3BQgc9Kf",
        "outputId": "6a4464b6-f138-4c8f-a815-d6f09ca9f123"
      },
      "execution_count": 49,
      "outputs": [
        {
          "output_type": "stream",
          "name": "stdout",
          "text": [
            "0.685019850730896\n"
          ]
        }
      ]
    },
    {
      "cell_type": "code",
      "source": [
        "doc = nlp(\"I like pizza\")\n",
        "token = nlp(\"soap\")[0]\n",
        "print(doc.similarity(token))"
      ],
      "metadata": {
        "colab": {
          "base_uri": "https://localhost:8080/"
        },
        "id": "mPUFGL64dMij",
        "outputId": "dc3da9d4-433b-49c2-8cd4-b709c8127ac6"
      },
      "execution_count": 50,
      "outputs": [
        {
          "output_type": "stream",
          "name": "stdout",
          "text": [
            "0.1821369691957915\n"
          ]
        }
      ]
    },
    {
      "cell_type": "code",
      "source": [
        "span = nlp(\"I like pizza and pasta\")[2:5]\n",
        "doc = nlp(\"McDonalds sells burgers\")\n",
        "\n",
        "print(span.similarity(doc))"
      ],
      "metadata": {
        "colab": {
          "base_uri": "https://localhost:8080/"
        },
        "id": "NJ9e74ogetx1",
        "outputId": "91ea1521-09e7-410e-b6c0-164109f37313"
      },
      "execution_count": 51,
      "outputs": [
        {
          "output_type": "stream",
          "name": "stdout",
          "text": [
            "0.47190033157126826\n"
          ]
        }
      ]
    },
    {
      "cell_type": "code",
      "source": [
        "doc1 = nlp(\"I like cats\")\n",
        "doc2 = nlp(\"I hate cats\")\n",
        "\n",
        "print(doc1.similarity(doc2))"
      ],
      "metadata": {
        "colab": {
          "base_uri": "https://localhost:8080/"
        },
        "id": "E1-U4E8DfUrs",
        "outputId": "da75fbee-a48b-4ebd-8afc-66b7cd2b8154"
      },
      "execution_count": 52,
      "outputs": [
        {
          "output_type": "stream",
          "name": "stdout",
          "text": [
            "0.9530094042245597\n"
          ]
        }
      ]
    },
    {
      "cell_type": "code",
      "source": [
        "import spacy\n",
        "\n",
        "# Load the en_core_web_md pipeline\n",
        "nlp = spacy.load(\"en_core_web_md\")\n",
        "\n",
        "# Process a text\n",
        "doc = nlp(\"Two bananas in pyjamas\")\n",
        "\n",
        "# Get the vector for the token \"bananas\"\n",
        "bananas_vector = doc[1].vector\n",
        "print(bananas_vector)"
      ],
      "metadata": {
        "colab": {
          "base_uri": "https://localhost:8080/"
        },
        "id": "PnC5SPjqgvpR",
        "outputId": "146c41a7-3cf2-4802-f1cd-45f6f212b581"
      },
      "execution_count": 53,
      "outputs": [
        {
          "output_type": "stream",
          "name": "stdout",
          "text": [
            "[-2.1689e-01 -2.5989e+00 -1.3144e+00  2.2500e+00 -4.6767e-01 -2.0695e+00\n",
            " -6.3379e-01 -4.0222e-01 -3.4022e+00 -3.6932e-01 -7.9938e-01 -1.0412e+00\n",
            "  9.3756e-01  1.6070e+00  8.8330e-01 -2.8483e+00  1.3349e-01 -3.1656e+00\n",
            "  8.1896e-01 -4.8113e+00  1.5655e+00  1.6665e+00 -4.7081e-01 -1.9475e+00\n",
            " -1.1779e+00 -1.3810e+00 -2.0071e+00 -2.1639e-01  9.0609e-01  1.5279e+00\n",
            "  1.2587e-04 -2.9000e+00  7.6069e-01 -2.2825e+00  1.2495e-02 -1.5653e+00\n",
            "  2.0052e+00 -1.7747e+00  5.9220e-01 -1.1428e+00 -1.3441e+00  3.4784e-01\n",
            "  1.7492e+00  1.9086e+00  1.0600e+00  1.2965e+00  4.1431e-01  7.9416e-01\n",
            " -1.1277e+00 -1.1403e+00  7.5891e-01 -9.4419e-01  1.4413e+00 -2.2554e+00\n",
            "  1.6226e-01  3.8901e-01  1.2299e-01  1.1577e+00  1.5524e+00  1.3853e+00\n",
            "  1.1112e+00  7.5767e-01  3.9431e+00 -2.8506e-01 -2.1645e+00 -1.0862e+00\n",
            " -1.4973e+00 -1.2781e+00  2.4643e+00 -1.5886e+00  2.5679e-01  6.4918e-01\n",
            "  1.6809e-01  5.7693e-01  3.1121e-01 -4.5278e-01 -2.7555e+00 -2.1846e+00\n",
            "  4.4865e+00  2.7107e-01 -5.3831e-01  8.3013e-01  6.7752e-02  1.4234e-01\n",
            "  1.2585e+00 -8.5423e-01  9.2971e-01 -3.9940e-01 -5.8663e-01  6.6604e-01\n",
            "  2.3871e+00  4.9333e-01  2.3922e+00 -3.7396e+00 -3.9524e-01 -6.3799e-01\n",
            "  3.3500e+00 -2.0430e+00 -1.5601e+00 -2.3594e+00 -1.4671e+00 -3.2848e+00\n",
            "  1.5197e+00 -1.1674e+00 -1.2885e+00  3.4890e+00 -4.0526e+00  1.6946e+00\n",
            " -1.5310e+00  2.6790e+00  1.2865e+00 -2.9286e-02  3.1037e+00  1.3635e-01\n",
            " -1.3327e-01  5.4603e-01  1.2937e+00 -2.3662e+00  2.8862e-01  1.6226e+00\n",
            "  6.3531e-01  1.5498e+00 -2.3349e+00  1.6150e+00 -2.0071e+00 -4.8784e-01\n",
            "  1.7768e+00 -2.6920e+00  1.6341e+00  4.0537e-01  3.7324e-01  7.8494e-01\n",
            "  1.3917e+00 -2.9035e-01  2.5224e+00  1.2485e+00 -1.5159e+00 -2.0832e+00\n",
            " -1.8766e-01 -1.3394e+00 -5.3597e-01 -2.4915e+00  1.6341e+00 -3.0336e+00\n",
            "  1.8791e-01 -2.4776e-01  1.6347e+00 -7.0009e-01  2.1221e+00 -2.3470e+00\n",
            " -2.1513e+00  1.2630e+00 -2.8195e-01 -5.6535e-01 -9.0373e-01  1.3455e+00\n",
            "  4.1099e+00  6.9325e-01  4.6835e-01  2.9949e-01 -3.2456e-01 -2.1713e+00\n",
            "  4.6691e-01 -1.3795e-01  6.0910e-01 -1.3374e+00 -8.3586e-01  1.8260e+00\n",
            " -4.5386e-01  1.2555e+00 -6.6705e-01 -3.0835e-01 -1.4692e-01  3.9952e+00\n",
            " -1.1289e+00  1.7926e-01 -5.8095e-01  6.2500e-01  2.6151e+00 -1.3212e+00\n",
            " -1.9355e+00  2.4898e+00 -1.7301e+00  8.6154e-01 -2.5272e+00 -3.0166e+00\n",
            "  5.8867e-01 -1.4207e-01  1.7611e+00 -1.0399e+00  5.7063e-01  7.2554e-01\n",
            "  8.7684e-01  1.6996e+00  1.1084e+00 -2.6877e-01 -2.2970e+00  1.8850e+00\n",
            "  1.2536e-01  1.1671e+00 -1.3038e+00  8.2640e-01  3.8002e-01 -1.0354e+00\n",
            "  2.2547e+00 -2.4526e-01  8.3622e-01 -7.9525e-01  1.4251e+00  4.5795e-02\n",
            "  2.5062e+00  7.2175e-01 -3.8197e-01  1.1387e+00  1.6779e+00 -1.6925e+00\n",
            "  8.2290e-02 -3.3117e-01 -6.1974e-01  8.0306e-01  2.1189e+00 -7.8231e-01\n",
            "  3.3266e-01 -7.1646e-01  1.7721e+00 -1.2573e+00  1.5601e-01  9.6129e-01\n",
            "  4.8986e-01  3.1657e+00 -3.0332e+00 -9.1339e-01 -2.8627e-01 -9.8174e-01\n",
            " -2.7599e+00  2.9160e+00 -1.1540e+00  2.9537e+00 -1.1502e+00 -2.2760e+00\n",
            "  1.1679e+00  2.0314e-01 -2.2882e+00  1.0485e+00 -4.9545e-01  2.4065e+00\n",
            "  9.1433e-01  1.3808e-01 -1.1361e+00 -1.2278e+00 -1.8958e+00 -2.4934e-01\n",
            " -4.1792e+00 -1.3781e+00 -8.9829e-01 -1.4802e+00 -1.2894e+00  2.2336e+00\n",
            " -2.4411e+00  3.0410e-01  2.1452e+00  1.8540e+00 -3.3640e-01  4.2768e-01\n",
            " -4.2577e-01  2.2337e-01  3.3650e+00 -2.1996e-01 -1.7426e+00  1.4554e+00\n",
            "  2.5087e+00 -1.1257e+00  1.4096e+00  1.3704e-01  7.6963e-01 -7.6688e-02\n",
            " -6.1875e-01 -2.0445e-01  4.9965e-01 -6.7246e-01 -4.0058e-01 -1.1536e+00\n",
            " -9.2837e-01 -2.5444e+00 -1.9880e-01 -2.1432e+00 -1.8218e+00 -5.7831e-01\n",
            " -1.6785e+00  2.6610e+00  1.0343e+00 -1.4297e+00  1.4563e+00 -2.0388e+00\n",
            " -1.4377e+00 -9.7985e-01  2.9488e+00 -2.7107e-01 -2.4010e-01 -1.3845e-01]\n"
          ]
        }
      ]
    },
    {
      "cell_type": "code",
      "source": [
        "import spacy\n",
        "\n",
        "nlp = spacy.load(\"en_core_web_md\")\n",
        "\n",
        "doc1 = nlp(\"It's a warm summer day\")\n",
        "doc2 = nlp(\"It's sunny outside\")\n",
        "\n",
        "# Get the similarity of doc1 and doc2\n",
        "similarity = doc1.similarity(doc2)\n",
        "print(similarity)"
      ],
      "metadata": {
        "colab": {
          "base_uri": "https://localhost:8080/"
        },
        "id": "pA8ardWZhSpN",
        "outputId": "00e413b8-3f90-4686-8e6b-2d3b67c6645a"
      },
      "execution_count": 54,
      "outputs": [
        {
          "output_type": "stream",
          "name": "stdout",
          "text": [
            "0.8220092482601077\n"
          ]
        }
      ]
    },
    {
      "cell_type": "code",
      "source": [
        "import spacy\n",
        "\n",
        "nlp = spacy.load(\"en_core_web_md\")\n",
        "\n",
        "doc = nlp(\"TV and books\")\n",
        "token1, token2 = doc[0], doc[2]\n",
        "\n",
        "# Get the similarity of the tokens \"TV\" and \"books\"\n",
        "similarity = token1.similarity(token2)\n",
        "print(similarity)"
      ],
      "metadata": {
        "colab": {
          "base_uri": "https://localhost:8080/"
        },
        "id": "V-m9jrKjhbkg",
        "outputId": "2025f6a2-f40c-4f6b-d373-fc68eb80df8f"
      },
      "execution_count": 55,
      "outputs": [
        {
          "output_type": "stream",
          "name": "stdout",
          "text": [
            "0.10219937562942505\n"
          ]
        }
      ]
    },
    {
      "cell_type": "code",
      "source": [
        "import spacy\n",
        "\n",
        "nlp = spacy.load(\"en_core_web_md\")\n",
        "\n",
        "doc = nlp(\"This was a great restaurant. Afterwards, we went to a really nice bar.\")\n",
        "\n",
        "# Create spans for \"great restaurant\" and \"really nice bar\"\n",
        "span1 = doc[3:5]\n",
        "span2 = doc[12:15]\n",
        "\n",
        "# Get the similarity of the spans\n",
        "similarity = span1.similarity(span2)\n",
        "print(similarity)"
      ],
      "metadata": {
        "colab": {
          "base_uri": "https://localhost:8080/"
        },
        "id": "BzLGNd2khksT",
        "outputId": "e5ba0008-0435-4b64-ce42-d8749730a7e1"
      },
      "execution_count": 56,
      "outputs": [
        {
          "output_type": "stream",
          "name": "stdout",
          "text": [
            "0.6348510384559631\n"
          ]
        }
      ]
    },
    {
      "cell_type": "code",
      "source": [
        "from spacy.matcher import Matcher\n",
        "matcher = Matcher(nlp.vocab)\n",
        "\n",
        "# Patterns are lists of dictionaries describing the tokens\n",
        "pattern = [{\"LEMMA\": \"love\", \"POS\": \"VERB\"}, {\"LOWER\": \"cats\"}]\n",
        "matcher.add(\"LOVE_CATS\", [pattern])\n",
        "\n",
        "# Operators can specify how often a token should be matched\n",
        "pattern = [{\"TEXT\": \"very\", \"OP\": \"+\"}, {\"TEXT\": \"happy\"}]\n",
        "matcher.add(\"VERY_HAPPY\", [pattern])\n",
        "\n",
        "# Calling matcher on doc returns list of (match_id, start, end) tuples\n",
        "doc = nlp(\"I love cats and I'm very very happy\")\n",
        "matches = matcher(doc)\n",
        "matches"
      ],
      "metadata": {
        "colab": {
          "base_uri": "https://localhost:8080/"
        },
        "id": "FfwQ8t9Ah0zx",
        "outputId": "5a2b1192-c1fd-4311-ab36-dccc5b49ba44"
      },
      "execution_count": 57,
      "outputs": [
        {
          "output_type": "execute_result",
          "data": {
            "text/plain": [
              "[(9137535031263442622, 1, 3),\n",
              " (2447047934687575526, 7, 9),\n",
              " (2447047934687575526, 6, 9)]"
            ]
          },
          "metadata": {},
          "execution_count": 57
        }
      ]
    },
    {
      "cell_type": "code",
      "source": [
        "matcher = Matcher(nlp.vocab)\n",
        "matcher.add(\"DOG\", [[{\"LOWER\": \"golden\"}, {\"LOWER\": \"retriever\"}]])\n",
        "doc = nlp(\"I have a Golden Retriever\")\n",
        "\n",
        "for match_id, start, end in matcher(doc):\n",
        "    span = doc[start:end]\n",
        "    print(\"Matched span:\", span.text)\n",
        "    # Get the span's root token and root head token\n",
        "    print(\"Root token:\", span.root.text)\n",
        "    print(\"Root head token:\", span.root.head.text)\n",
        "    # Get the previous token and its POS tag\n",
        "    print(\"Previous token:\", doc[start - 1].text, doc[start - 1].pos_)"
      ],
      "metadata": {
        "colab": {
          "base_uri": "https://localhost:8080/"
        },
        "id": "r8rc_5O7i-67",
        "outputId": "0a25a697-fadb-41e6-c6d7-94279c04eeed"
      },
      "execution_count": 58,
      "outputs": [
        {
          "output_type": "stream",
          "name": "stdout",
          "text": [
            "Matched span: Golden Retriever\n",
            "Root token: Retriever\n",
            "Root head token: have\n",
            "Previous token: a DET\n"
          ]
        }
      ]
    },
    {
      "cell_type": "code",
      "source": [
        "from spacy.matcher import PhraseMatcher\n",
        "matcher = PhraseMatcher(nlp.vocab)\n",
        "pattern = nlp(\"Golden Retriever\")\n",
        "matcher.add(\"DOG\", [pattern])\n",
        "doc = nlp(\"I have a Golden Retriever\")\n",
        "# Iterate over the matches\n",
        "for match_id, start, end in matcher(doc):\n",
        "    # Get the matched span\n",
        "    span = doc[start:end]\n",
        "    print(\"Matched span:\", span.text)"
      ],
      "metadata": {
        "colab": {
          "base_uri": "https://localhost:8080/"
        },
        "id": "GtErVabDj12W",
        "outputId": "baeeaefb-b5c4-41fc-8209-2180a8b48ce6"
      },
      "execution_count": 59,
      "outputs": [
        {
          "output_type": "stream",
          "name": "stdout",
          "text": [
            "Matched span: Golden Retriever\n"
          ]
        }
      ]
    },
    {
      "cell_type": "code",
      "source": [
        "nlp.pipe_names"
      ],
      "metadata": {
        "colab": {
          "base_uri": "https://localhost:8080/"
        },
        "id": "Y6WghtG2Tyda",
        "outputId": "a4e233b9-f9cb-4b6a-965d-b1e069214443"
      },
      "execution_count": 60,
      "outputs": [
        {
          "output_type": "execute_result",
          "data": {
            "text/plain": [
              "['tok2vec', 'tagger', 'parser', 'attribute_ruler', 'lemmatizer', 'ner']"
            ]
          },
          "metadata": {},
          "execution_count": 60
        }
      ]
    },
    {
      "cell_type": "code",
      "source": [
        "import spacy\n",
        "from spacy.matcher import Matcher\n",
        "nlp = spacy.load(\"en_core_web_sm\")\n",
        "doc = nlp(\n",
        "    \"Twitch Prime, the perks program for Amazon Prime members offering free \"\n",
        "    \"loot, games and other benefits, is ditching one of its best features: \"\n",
        "    \"ad-free viewing. According to an email sent out to Amazon Prime members \"\n",
        "    \"today, ad-free viewing will no longer be included as a part of Twitch \"\n",
        "    \"Prime for new members, beginning on September 14. However, members with \"\n",
        "    \"existing annual subscriptions will be able to continue to enjoy ad-free \"\n",
        "    \"viewing until their subscription comes up for renewal. Those with \"\n",
        "    \"monthly subscriptions will have access to ad-free viewing until October 15.\"\n",
        ")\n",
        "\n",
        "# Create the match patterns\n",
        "pattern1 = [{\"LOWER\": \"Amazon\"}, {\"IS_TITLE\": True, \"POS\": \"PROPN\"}]\n",
        "pattern2 = [{\"LOWER\": \"ad-free\"}, {\"POS\": \"NOUN\"}]\n",
        "\n",
        "# Initialize the Matcher and add the patterns\n",
        "matcher = Matcher(nlp.vocab)\n",
        "matcher.add(\"PATTERN1\", [pattern1])\n",
        "matcher.add(\"PATTERN2\", [pattern2])\n",
        "\n",
        "# Iterate over the matches\n",
        "for match_id, start, end in matcher(doc):\n",
        "    # Print pattern string name and text of matched span\n",
        "    print(doc.vocab.strings[match_id], doc[start:end].text)"
      ],
      "metadata": {
        "id": "gTJYGjJLo7KH"
      },
      "execution_count": 61,
      "outputs": []
    },
    {
      "cell_type": "code",
      "source": [
        "# Print out tokens in the document\n",
        "for token in doc:\n",
        "    print(token.text, token.pos_)\n"
      ],
      "metadata": {
        "colab": {
          "base_uri": "https://localhost:8080/"
        },
        "id": "0TyinVeMqPo-",
        "outputId": "8ebd7836-3ac0-4e3b-dedb-3ccd586ed13f"
      },
      "execution_count": 62,
      "outputs": [
        {
          "output_type": "stream",
          "name": "stdout",
          "text": [
            "Twitch PROPN\n",
            "Prime PROPN\n",
            ", PUNCT\n",
            "the DET\n",
            "perks NOUN\n",
            "program NOUN\n",
            "for ADP\n",
            "Amazon PROPN\n",
            "Prime PROPN\n",
            "members NOUN\n",
            "offering VERB\n",
            "free ADJ\n",
            "loot NOUN\n",
            ", PUNCT\n",
            "games NOUN\n",
            "and CCONJ\n",
            "other ADJ\n",
            "benefits NOUN\n",
            ", PUNCT\n",
            "is AUX\n",
            "ditching VERB\n",
            "one NUM\n",
            "of ADP\n",
            "its PRON\n",
            "best ADJ\n",
            "features NOUN\n",
            ": PUNCT\n",
            "ad NOUN\n",
            "- PUNCT\n",
            "free ADJ\n",
            "viewing NOUN\n",
            ". PUNCT\n",
            "According VERB\n",
            "to ADP\n",
            "an DET\n",
            "email NOUN\n",
            "sent VERB\n",
            "out ADP\n",
            "to ADP\n",
            "Amazon PROPN\n",
            "Prime PROPN\n",
            "members NOUN\n",
            "today NOUN\n",
            ", PUNCT\n",
            "ad NOUN\n",
            "- PUNCT\n",
            "free ADJ\n",
            "viewing NOUN\n",
            "will AUX\n",
            "no ADV\n",
            "longer ADV\n",
            "be AUX\n",
            "included VERB\n",
            "as ADP\n",
            "a DET\n",
            "part NOUN\n",
            "of ADP\n",
            "Twitch PROPN\n",
            "Prime PROPN\n",
            "for ADP\n",
            "new ADJ\n",
            "members NOUN\n",
            ", PUNCT\n",
            "beginning VERB\n",
            "on ADP\n",
            "September PROPN\n",
            "14 NUM\n",
            ". PUNCT\n",
            "However ADV\n",
            ", PUNCT\n",
            "members NOUN\n",
            "with ADP\n",
            "existing VERB\n",
            "annual ADJ\n",
            "subscriptions NOUN\n",
            "will AUX\n",
            "be AUX\n",
            "able ADJ\n",
            "to PART\n",
            "continue VERB\n",
            "to PART\n",
            "enjoy VERB\n",
            "ad NOUN\n",
            "- PUNCT\n",
            "free ADJ\n",
            "viewing NOUN\n",
            "until SCONJ\n",
            "their PRON\n",
            "subscription NOUN\n",
            "comes VERB\n",
            "up ADP\n",
            "for ADP\n",
            "renewal NOUN\n",
            ". PUNCT\n",
            "Those PRON\n",
            "with ADP\n",
            "monthly ADJ\n",
            "subscriptions NOUN\n",
            "will AUX\n",
            "have VERB\n",
            "access NOUN\n",
            "to ADP\n",
            "ad NOUN\n",
            "- PUNCT\n",
            "free ADJ\n",
            "viewing NOUN\n",
            "until ADP\n",
            "October PROPN\n",
            "15 NUM\n",
            ". PUNCT\n"
          ]
        }
      ]
    },
    {
      "cell_type": "code",
      "source": [
        "import json\n",
        "import spacy\n",
        "\n",
        "with open(\"/content/countries.json\", encoding=\"utf8\") as f:\n",
        "    COUNTRIES = json.loads(f.read())\n",
        "\n",
        "nlp = spacy.blank(\"en\")\n",
        "doc = nlp(\"Czech Republic may help Slovakia protect its airspace\")\n",
        "\n",
        "# Import the PhraseMatcher and initialize it\n",
        "from spacy.matcher import PhraseMatcher\n",
        "\n",
        "matcher = PhraseMatcher(nlp.vocab)\n",
        "\n",
        "# Create pattern Doc objects and add them to the matcher\n",
        "patterns = list(nlp.pipe(COUNTRIES))\n",
        "matcher.add(\"COUNTRY\", patterns)\n",
        "\n",
        "# Call the matcher on the test document and store the results\n",
        "matches = matcher(doc)\n",
        "\n",
        "# Extract the matched countries as a list of strings\n",
        "matched_countries = []\n",
        "for match_id, start, end in matches:\n",
        "    matched_countries.append(doc[start:end].text)\n",
        "\n",
        "# Print the extracted countries\n",
        "print(matched_countries)  # Output: ['Czech Republic', 'Slovakia']\n",
        "\n"
      ],
      "metadata": {
        "colab": {
          "base_uri": "https://localhost:8080/"
        },
        "id": "bzIwcVgeshEH",
        "outputId": "d8742937-645c-4c1f-adde-e0b03712816f"
      },
      "execution_count": 63,
      "outputs": [
        {
          "output_type": "stream",
          "name": "stdout",
          "text": [
            "['Czech Republic', 'Slovakia']\n"
          ]
        }
      ]
    },
    {
      "cell_type": "code",
      "source": [
        "import spacy\n",
        "from spacy.matcher import PhraseMatcher\n",
        "from spacy.tokens import Span\n",
        "import json\n",
        "\n",
        "with open(\"/content/countries.json\", encoding=\"utf8\") as f:\n",
        "    COUNTRIES = json.loads(f.read())\n",
        "with open(\"/content/countri.txt\", encoding=\"utf8\") as f:\n",
        "    TEXT = f.read()\n",
        "\n",
        "nlp = spacy.load(\"en_core_web_sm\")\n",
        "matcher = PhraseMatcher(nlp.vocab)\n",
        "patterns = list(nlp.pipe(COUNTRIES))\n",
        "matcher.add(\"COUNTRY\", patterns)\n",
        "\n",
        "# Create a doc and reset existing entities\n",
        "doc = nlp(TEXT)\n",
        "doc.ents = []\n",
        "\n",
        "# Iterate over the matches\n",
        "for match_id, start, end in matcher(doc):\n",
        "    # Create a Span with the label for \"GPE\"\n",
        "    span = Span(doc, start, end, label=\"GPE\")\n",
        "\n",
        "    # Overwrite the doc.ents and add the span\n",
        "    doc.ents = list(doc.ents) + [span]\n",
        "\n",
        "    # Get the span's root head token\n",
        "    span_root_head = span.root.head\n",
        "    # Print the text of the span root's head token and the span text\n",
        "    print(span_root_head.text, \"-->\", span.text)\n",
        "\n",
        "# Print the entities in the document\n",
        "print([(ent.text, ent.label_) for ent in doc.ents if ent.label_ == \"GPE\"])"
      ],
      "metadata": {
        "colab": {
          "base_uri": "https://localhost:8080/"
        },
        "id": "M0Ltcjnywez9",
        "outputId": "345d0a1b-809a-4f1b-8d0a-9663377190f3"
      },
      "execution_count": 64,
      "outputs": [
        {
          "output_type": "stream",
          "name": "stdout",
          "text": [
            "host --> France\n",
            "faces --> Brazil\n",
            "urging --> Brazil\n",
            "[('France', 'GPE'), ('Brazil', 'GPE'), ('Brazil', 'GPE')]\n"
          ]
        }
      ]
    },
    {
      "cell_type": "code",
      "source": [
        "import spacy\n",
        "\n",
        "# Load the en_core_web_sm pipeline\n",
        "nlp = spacy.load(\"en_core_web_sm\")\n",
        "\n",
        "# Print the names of the pipeline components\n",
        "print(nlp.pipe_names)\n",
        "\n",
        "# Print the full pipeline of (name, component) tuples\n",
        "print(nlp.pipeline)"
      ],
      "metadata": {
        "colab": {
          "base_uri": "https://localhost:8080/"
        },
        "id": "0hD4GJ-U0ApB",
        "outputId": "536335e8-9320-4632-ac9d-4524987c35aa"
      },
      "execution_count": 65,
      "outputs": [
        {
          "output_type": "stream",
          "name": "stdout",
          "text": [
            "['tok2vec', 'tagger', 'parser', 'attribute_ruler', 'lemmatizer', 'ner']\n",
            "[('tok2vec', <spacy.pipeline.tok2vec.Tok2Vec object at 0x7a91b48ffa00>), ('tagger', <spacy.pipeline.tagger.Tagger object at 0x7a91b48ffa60>), ('parser', <spacy.pipeline.dep_parser.DependencyParser object at 0x7a91b1958200>), ('attribute_ruler', <spacy.pipeline.attributeruler.AttributeRuler object at 0x7a91ae3ae640>), ('lemmatizer', <spacy.lang.en.lemmatizer.EnglishLemmatizer object at 0x7a91b2f62280>), ('ner', <spacy.pipeline.ner.EntityRecognizer object at 0x7a91b1958f20>)]\n"
          ]
        }
      ]
    },
    {
      "cell_type": "code",
      "source": [
        "from spacy.language import Language\n",
        "\n",
        "@Language.component(\"custom_component\")\n",
        "def custom_component_function(doc):\n",
        "    # Do something to the doc here\n",
        "    return doc\n",
        "\n",
        "nlp.add_pipe(\"custom_component\")"
      ],
      "metadata": {
        "colab": {
          "base_uri": "https://localhost:8080/",
          "height": 104
        },
        "id": "Ki7h7-Bk0JOr",
        "outputId": "b51768e4-ace9-4613-bd1e-ea97bf967a08"
      },
      "execution_count": 66,
      "outputs": [
        {
          "output_type": "execute_result",
          "data": {
            "text/plain": [
              "<function __main__.custom_component_function(doc)>"
            ],
            "text/html": [
              "<div style=\"max-width:800px; border: 1px solid var(--colab-border-color);\"><style>\n",
              "      pre.function-repr-contents {\n",
              "        overflow-x: auto;\n",
              "        padding: 8px 12px;\n",
              "        max-height: 500px;\n",
              "      }\n",
              "\n",
              "      pre.function-repr-contents.function-repr-contents-collapsed {\n",
              "        cursor: pointer;\n",
              "        max-height: 100px;\n",
              "      }\n",
              "    </style>\n",
              "    <pre style=\"white-space: initial; background:\n",
              "         var(--colab-secondary-surface-color); padding: 8px 12px;\n",
              "         border-bottom: 1px solid var(--colab-border-color);\"><b>custom_component_function</b><br/>def custom_component_function(doc)</pre><pre class=\"function-repr-contents function-repr-contents-collapsed\" style=\"\"><a class=\"filepath\" style=\"display:none\" href=\"#\">/content/&lt;ipython-input-66-bf1db5fd725b&gt;</a>&lt;no docstring&gt;</pre></div>"
            ]
          },
          "metadata": {},
          "execution_count": 66
        }
      ]
    },
    {
      "cell_type": "code",
      "source": [
        "# Create the nlp object\n",
        "nlp = spacy.load(\"en_core_web_sm\")\n",
        "\n",
        "# Define a custom component\n",
        "@Language.component(\"custom_component\")\n",
        "def custom_component_function(doc):\n",
        "    # Print the doc's length\n",
        "    print(\"Doc length:\", len(doc))\n",
        "    # Return the doc object\n",
        "    return doc\n",
        "\n",
        "# Add the component first in the pipeline\n",
        "nlp.add_pipe(\"custom_component\", first=True)\n",
        "\n",
        "# Print the pipeline component names\n",
        "print(\"Pipeline:\", nlp.pipe_names)"
      ],
      "metadata": {
        "colab": {
          "base_uri": "https://localhost:8080/"
        },
        "id": "5d1GBfH80QlL",
        "outputId": "3fb953b4-9f08-4a55-ba4b-4b56f1b3b9b3"
      },
      "execution_count": 67,
      "outputs": [
        {
          "output_type": "stream",
          "name": "stdout",
          "text": [
            "Pipeline: ['custom_component', 'tok2vec', 'tagger', 'parser', 'attribute_ruler', 'lemmatizer', 'ner']\n"
          ]
        }
      ]
    },
    {
      "cell_type": "code",
      "source": [
        "# Create the nlp object\n",
        "nlp = spacy.load(\"en_core_web_sm\")\n",
        "\n",
        "# Define a custom component\n",
        "@Language.component(\"custom_component\")\n",
        "def custom_component_function(doc):\n",
        "    # Print the doc's length\n",
        "    print(\"Doc length:\", len(doc))\n",
        "    # Return the doc object\n",
        "    return doc\n",
        "\n",
        "# Add the component first in the pipeline\n",
        "nlp.add_pipe(\"custom_component\", first=True)\n",
        "\n",
        "# Process a text\n",
        "doc = nlp(\"Hello world!\")"
      ],
      "metadata": {
        "colab": {
          "base_uri": "https://localhost:8080/"
        },
        "id": "-Ch3mFrO0l1z",
        "outputId": "e5e05942-5fd0-4fda-8238-aaa359fd8f66"
      },
      "execution_count": 68,
      "outputs": [
        {
          "output_type": "stream",
          "name": "stdout",
          "text": [
            "Doc length: 3\n"
          ]
        }
      ]
    },
    {
      "cell_type": "code",
      "source": [
        "import spacy\n",
        "from spacy.language import Language\n",
        "\n",
        "# Define the custom component\n",
        "@Language.component(\"length_component\")\n",
        "def length_component_function(doc):\n",
        "    # Get the doc's length\n",
        "    doc_length = len(doc)\n",
        "    print(f\"This document is {doc_length} tokens long.\")\n",
        "    # Return the doc\n",
        "    return doc\n",
        "\n",
        "\n",
        "# Load the small English pipeline\n",
        "nlp = spacy.load(\"en_core_web_sm\")\n",
        "\n",
        "# Add the component first in the pipeline and print the pipe names\n",
        "nlp.add_pipe(\"length_component\", first=True)\n",
        "print(nlp.pipe_names)\n",
        "\n",
        "# Process a text\n",
        "doc = nlp(\"This is a sentence.\")"
      ],
      "metadata": {
        "colab": {
          "base_uri": "https://localhost:8080/"
        },
        "id": "bM8C-O2V0znD",
        "outputId": "72f23cad-2ff3-486a-ad4a-6976aa63bd5d"
      },
      "execution_count": 69,
      "outputs": [
        {
          "output_type": "stream",
          "name": "stdout",
          "text": [
            "['length_component', 'tok2vec', 'tagger', 'parser', 'attribute_ruler', 'lemmatizer', 'ner']\n",
            "This document is 5 tokens long.\n"
          ]
        }
      ]
    },
    {
      "cell_type": "code",
      "source": [
        "import spacy\n",
        "from spacy.language import Language\n",
        "from spacy.matcher import PhraseMatcher\n",
        "from spacy.tokens import Span\n",
        "\n",
        "nlp = spacy.load(\"en_core_web_sm\")\n",
        "animals = [\"Golden Retriever\", \"cat\", \"turtle\", \"Rattus norvegicus\"]\n",
        "animal_patterns = list(nlp.pipe(animals))\n",
        "print(\"animal_patterns:\", animal_patterns)\n",
        "matcher = PhraseMatcher(nlp.vocab)\n",
        "matcher.add(\"ANIMAL\", animal_patterns)\n",
        "\n",
        "# Define the custom component\n",
        "@Language.component(\"animal_component\")\n",
        "def animal_component_function(doc):\n",
        "    # Apply the matcher to the doc\n",
        "    matches = matcher(doc)\n",
        "    # Create a Span for each match and assign the label \"ANIMAL\"\n",
        "    spans = [Span(doc, start, end, label=\"ANIMAL\") for match_id, start, end in matches]\n",
        "    # Overwrite the doc.ents with the matched spans\n",
        "    doc.ents = spans\n",
        "    return doc\n",
        "\n",
        "\n",
        "# Add the component to the pipeline after the \"ner\" component\n",
        "nlp.add_pipe(\"animal_component\", after=\"ner\")\n",
        "print(nlp.pipe_names)\n",
        "\n",
        "# Process the text and print the text and label for the doc.ents\n",
        "doc = nlp(\"I have a cat and a Golden Retriever\")\n",
        "print([(ent.text, ent.label_) for ent in doc.ents])"
      ],
      "metadata": {
        "colab": {
          "base_uri": "https://localhost:8080/"
        },
        "id": "5pEmYIuU1C9o",
        "outputId": "858d7335-a53e-4cd8-f4a3-3e2c349afbfe"
      },
      "execution_count": 70,
      "outputs": [
        {
          "output_type": "stream",
          "name": "stdout",
          "text": [
            "animal_patterns: [Golden Retriever, cat, turtle, Rattus norvegicus]\n",
            "['tok2vec', 'tagger', 'parser', 'attribute_ruler', 'lemmatizer', 'ner', 'animal_component']\n",
            "[('cat', 'ANIMAL'), ('Golden Retriever', 'ANIMAL')]\n"
          ]
        }
      ]
    },
    {
      "cell_type": "code",
      "source": [
        "from spacy.tokens import Doc, Token, Span\n",
        "\n",
        "# Set extensions on the Doc, Token and Span\n",
        "Doc.set_extension(\"title\", default=None)\n",
        "Token.set_extension(\"is_color\", default=False)\n",
        "Span.set_extension(\"has_color\", default=False)"
      ],
      "metadata": {
        "id": "qZbYd2ia1kjD"
      },
      "execution_count": 73,
      "outputs": []
    },
    {
      "cell_type": "code",
      "source": [
        "doc._.title = \"My document\"\n",
        "token._.is_color = True\n",
        "span._.has_color = False"
      ],
      "metadata": {
        "id": "DA90Uk2_2ltI"
      },
      "execution_count": 74,
      "outputs": []
    },
    {
      "cell_type": "code",
      "source": [
        "def get_has_color(token):\n",
        "    colors = [\"red\", \"yellow\", \"blue\"]\n",
        "    return token.text in colors\n",
        "\n",
        "Token.set_extension(\"has_color\", getter=get_has_color)\n",
        "\n",
        "doc = nlp(\"The sky is blue.\")\n",
        "print(doc[3]._.has_color, \"-\", doc[3].text)\n"
      ],
      "metadata": {
        "colab": {
          "base_uri": "https://localhost:8080/"
        },
        "id": "zlcIdPwR1qrq",
        "outputId": "79f02a93-ebb6-4d3e-eed7-7a3a101dac0f"
      },
      "execution_count": 75,
      "outputs": [
        {
          "output_type": "stream",
          "name": "stdout",
          "text": [
            "True - blue\n"
          ]
        }
      ]
    },
    {
      "cell_type": "code",
      "source": [
        "def get_contains_color(span):\n",
        "  colors = [\"red\", \"yellow\", \"blue\"]\n",
        "  return any(token.text in colors for token in span)\n",
        "\n",
        "Span.set_extension(\"contains_color\", getter=get_contains_color)\n",
        "\n",
        "doc = nlp(\"The sky is blue.\")\n",
        "print(doc[1:4]._.contains_color, \"-\", doc[1:4].text)\n",
        "print(doc[0:2]._.contains_color, \"-\", doc[0:2].text)\n"
      ],
      "metadata": {
        "colab": {
          "base_uri": "https://localhost:8080/"
        },
        "id": "gz2t_4413ja4",
        "outputId": "e4d2285c-733e-48b9-c976-bad78a653a21"
      },
      "execution_count": 76,
      "outputs": [
        {
          "output_type": "stream",
          "name": "stdout",
          "text": [
            "True - sky is blue\n",
            "False - The sky\n"
          ]
        }
      ]
    },
    {
      "cell_type": "code",
      "source": [
        "from spacy.tokens import Doc\n",
        "\n",
        "# Define method with arguments\n",
        "def has_token(doc, token_text):\n",
        "    in_doc = token_text in [token.text for token in doc]\n",
        "    return in_doc\n",
        "\n",
        "# Set extension on the Doc with method\n",
        "Doc.set_extension(\"has_token\", method=has_token)\n",
        "\n",
        "doc = nlp(\"The sky is blue.\")\n",
        "print(doc._.has_token(\"blue\"), \"- blue\")\n",
        "print(doc._.has_token(\"cloud\"), \"- cloud\")"
      ],
      "metadata": {
        "colab": {
          "base_uri": "https://localhost:8080/"
        },
        "id": "OPt2QlEO4MWh",
        "outputId": "cb2bd8d3-6c79-4ae1-dc7f-0d1f2c1ba751"
      },
      "execution_count": 77,
      "outputs": [
        {
          "output_type": "stream",
          "name": "stdout",
          "text": [
            "True - blue\n",
            "False - cloud\n"
          ]
        }
      ]
    },
    {
      "cell_type": "code",
      "source": [
        "import spacy\n",
        "from spacy.tokens import Token\n",
        "\n",
        "nlp = spacy.blank(\"en\")\n",
        "\n",
        "# Register the Token extension attribute \"is_country\" with the default value False\n",
        "Token.set_extension(\"is_country\", default=False)\n",
        "\n",
        "# Process the text and set the is_country attribute to True for the token \"Spain\"\n",
        "doc = nlp(\"I live in Spain.\")\n",
        "doc[3]._.is_country = True\n",
        "\n",
        "# Print the token text and the is_country attribute for all tokens\n",
        "print([(token.text, token._.is_country) for token in doc])"
      ],
      "metadata": {
        "colab": {
          "base_uri": "https://localhost:8080/"
        },
        "id": "8gb8attf4XKc",
        "outputId": "4b5d7d90-9529-401e-b311-26c5fb067959"
      },
      "execution_count": 78,
      "outputs": [
        {
          "output_type": "stream",
          "name": "stdout",
          "text": [
            "[('I', False), ('live', False), ('in', False), ('Spain', True), ('.', False)]\n"
          ]
        }
      ]
    },
    {
      "cell_type": "code",
      "source": [
        "import spacy\n",
        "from spacy.tokens import Token\n",
        "\n",
        "nlp = spacy.blank(\"en\")\n",
        "\n",
        "# Define the getter function that takes a token and returns its reversed text\n",
        "def get_reversed(token):\n",
        "    return token.text[::-1]\n",
        "\n",
        "\n",
        "# Register the Token property extension \"reversed\" with the getter get_reversed\n",
        "Token.set_extension(\"reversed\", getter=get_reversed)\n",
        "\n",
        "# Process the text and print the reversed attribute for each token\n",
        "doc = nlp(\"All generalizations are false, including this one.\")\n",
        "for token in doc:\n",
        "    print(\"reversed:\", token._.reversed)"
      ],
      "metadata": {
        "colab": {
          "base_uri": "https://localhost:8080/"
        },
        "id": "47fku-Qd4iN3",
        "outputId": "f02828a9-4f11-457a-a722-7eadacbef313"
      },
      "execution_count": 79,
      "outputs": [
        {
          "output_type": "stream",
          "name": "stdout",
          "text": [
            "reversed: llA\n",
            "reversed: snoitazilareneg\n",
            "reversed: era\n",
            "reversed: eslaf\n",
            "reversed: ,\n",
            "reversed: gnidulcni\n",
            "reversed: siht\n",
            "reversed: eno\n",
            "reversed: .\n"
          ]
        }
      ]
    },
    {
      "cell_type": "code",
      "source": [
        "import spacy\n",
        "from spacy.tokens import Doc\n",
        "\n",
        "nlp = spacy.blank(\"en\")\n",
        "\n",
        "# Define the getter function\n",
        "def get_has_number(doc):\n",
        "    # Return if any of the tokens in the doc return True for token.like_num\n",
        "    return any(token.like_num for token in doc)\n",
        "\n",
        "\n",
        "# Register the Doc property extension \"has_number\" with the getter get_has_number\n",
        "Doc.set_extension(\"has_number\", getter=get_has_number)\n",
        "\n",
        "# Process the text and check the custom has_number attribute\n",
        "doc = nlp(\"The museum closed for five years in 2012.\")\n",
        "print(\"has_number:\", doc._.has_number)"
      ],
      "metadata": {
        "colab": {
          "base_uri": "https://localhost:8080/"
        },
        "id": "da6W3r184vZm",
        "outputId": "a3553c28-4bbf-4303-f545-25a48c652d7e"
      },
      "execution_count": 80,
      "outputs": [
        {
          "output_type": "stream",
          "name": "stdout",
          "text": [
            "has_number: True\n"
          ]
        }
      ]
    },
    {
      "cell_type": "code",
      "source": [
        "import spacy\n",
        "from spacy.tokens import Span\n",
        "\n",
        "nlp = spacy.blank(\"en\")\n",
        "\n",
        "# Define the method\n",
        "def to_html(span, tag):\n",
        "    # Wrap the span text in a HTML tag and return it\n",
        "    return f\"<{tag}>{span.text}</{tag}>\"\n",
        "\n",
        "\n",
        "# Register the Span method extension \"to_html\" with the method to_html\n",
        "Span.set_extension(\"to_html\", method=to_html)\n",
        "\n",
        "# Process the text and call the to_html method on the span with the tag name \"strong\"\n",
        "doc = nlp(\"Hello world, this is a sentence.\")\n",
        "span = doc[0:2]\n",
        "print(span._.to_html(\"strong\"))"
      ],
      "metadata": {
        "colab": {
          "base_uri": "https://localhost:8080/"
        },
        "id": "DeGAS4IT43xI",
        "outputId": "7ec40daa-a091-4795-e12e-46787de72292"
      },
      "execution_count": 81,
      "outputs": [
        {
          "output_type": "stream",
          "name": "stdout",
          "text": [
            "<strong>Hello world</strong>\n"
          ]
        }
      ]
    },
    {
      "cell_type": "code",
      "source": [
        "import spacy\n",
        "from spacy.tokens import Span\n",
        "\n",
        "nlp = spacy.load(\"en_core_web_sm\")\n",
        "\n",
        "\n",
        "def get_wikipedia_url(span):\n",
        "    # Get a Wikipedia URL if the span has one of the labels\n",
        "    if span.label_ in (\"PERSON\", \"ORG\", \"GPE\", \"LOCATION\"):\n",
        "        entity_text = span.text.replace(\" \", \"_\")\n",
        "        return \"https://en.wikipedia.org/w/index.php?search=\" + entity_text\n",
        "\n",
        "\n",
        "# Set the Span extension wikipedia_url using the getter get_wikipedia_url\n",
        "Span.set_extension(\"wikipedia_url\", getter=get_wikipedia_url)\n",
        "\n",
        "doc = nlp(\n",
        "    \"In over fifty years from his very first recordings right through to his \"\n",
        "    \"last album, David Bowie was at the vanguard of contemporary culture.\"\n",
        ")\n",
        "for ent in doc.ents:\n",
        "    # Print the text and Wikipedia URL of the entity\n",
        "    print(ent.text, ent._.wikipedia_url)"
      ],
      "metadata": {
        "colab": {
          "base_uri": "https://localhost:8080/"
        },
        "id": "uxzQ1fUM5A4U",
        "outputId": "651aa026-031c-4575-8d6b-9b22d182fbbe"
      },
      "execution_count": 82,
      "outputs": [
        {
          "output_type": "stream",
          "name": "stdout",
          "text": [
            "fifty years None\n",
            "first None\n",
            "David Bowie https://en.wikipedia.org/w/index.php?search=David_Bowie\n"
          ]
        }
      ]
    },
    {
      "cell_type": "code",
      "source": [
        "import json\n",
        "import spacy\n",
        "import json\n",
        "import spacy\n",
        "from spacy.language import Language\n",
        "from spacy.tokens import Span\n",
        "from spacy.matcher import PhraseMatcher\n",
        "\n",
        "with open(\"/content/country.json\", encoding=\"utf8\") as f:\n",
        "    COUNTRIES = json.loads(f.read())\n",
        "\n",
        "with open(\"/content/capital.json\", encoding=\"utf8\") as f:\n",
        "    CAPITALS = json.loads(f.read())\n",
        "\n",
        "nlp = spacy.blank(\"en\")\n",
        "matcher = PhraseMatcher(nlp.vocab)\n",
        "matcher.add(\"COUNTRY\", list(nlp.pipe(COUNTRIES)))\n",
        "\n",
        "\n",
        "@Language.component(\"countries_component\")\n",
        "def countries_component_function(doc):\n",
        "    # Create an entity Span with the label \"GPE\" for all matches\n",
        "    matches = matcher(doc)\n",
        "    doc.ents = [Span(doc, start, end, label=\"GPE\") for match_id, start, end in matches]\n",
        "    return doc\n",
        "\n",
        "\n",
        "# Add the component to the pipeline\n",
        "nlp.add_pipe(\"countries_component\")\n",
        "print(nlp.pipe_names)\n",
        "\n",
        "# Getter that looks up the span text in the dictionary of country capitals\n",
        "get_capital = lambda span: CAPITALS.get(span.text)\n",
        "\n",
        "# Register the Span extension attribute \"capital\" with the getter get_capital\n",
        "Span.set_extension(\"capital\", getter=get_capital,force=True)\n",
        "\n",
        "# Process the text and print the entity text, label and capital attributes\n",
        "doc = nlp(\"Czech Republic may help Slovakia protect its airspace\")\n",
        "print([(ent.text, ent.label_, ent._.capital) for ent in doc.ents])"
      ],
      "metadata": {
        "colab": {
          "base_uri": "https://localhost:8080/"
        },
        "id": "MpC2I-Wn5mYd",
        "outputId": "00538485-d35c-44aa-a518-da296ce2ddc7"
      },
      "execution_count": 83,
      "outputs": [
        {
          "output_type": "stream",
          "name": "stdout",
          "text": [
            "['countries_component']\n",
            "[('Czech Republic', 'GPE', 'Prague'), ('Slovakia', 'GPE', 'Bratislava')]\n"
          ]
        }
      ]
    },
    {
      "cell_type": "code",
      "source": [
        "data = [\n",
        "    (\"This is a text\", {\"id\": 1, \"page_number\": 15}),\n",
        "    (\"And another text\", {\"id\": 2, \"page_number\": 16}),\n",
        "]\n",
        "\n",
        "for doc, context in nlp.pipe(data, as_tuples=True):\n",
        "    print(doc.text, context[\"page_number\"])"
      ],
      "metadata": {
        "colab": {
          "base_uri": "https://localhost:8080/"
        },
        "id": "QMktHN_cGjGB",
        "outputId": "81869f3d-9669-4999-b29e-8824cd5b5add"
      },
      "execution_count": 84,
      "outputs": [
        {
          "output_type": "stream",
          "name": "stdout",
          "text": [
            "This is a text 15\n",
            "And another text 16\n"
          ]
        }
      ]
    },
    {
      "cell_type": "code",
      "source": [
        "from spacy.tokens import Doc\n",
        "\n",
        "Doc.set_extension(\"id\", default=None)\n",
        "Doc.set_extension(\"page_number\", default=None)\n",
        "\n",
        "data = [\n",
        "    (\"This is a text\", {\"id\": 1, \"page_number\": 15}),\n",
        "    (\"And another text\", {\"id\": 2, \"page_number\": 16}),\n",
        "]\n",
        "\n",
        "for doc, context in nlp.pipe(data, as_tuples=True):\n",
        "    doc._.id = context[\"id\"]\n",
        "    doc._.page_number = context[\"page_number\"]\n"
      ],
      "metadata": {
        "id": "61pjMzAuGwkD"
      },
      "execution_count": 85,
      "outputs": []
    },
    {
      "cell_type": "code",
      "source": [
        "doc._.page_number"
      ],
      "metadata": {
        "colab": {
          "base_uri": "https://localhost:8080/"
        },
        "id": "2h6UPMInHL_a",
        "outputId": "5405755b-54c3-45d9-9bc5-f62c801a2dd7"
      },
      "execution_count": 86,
      "outputs": [
        {
          "output_type": "execute_result",
          "data": {
            "text/plain": [
              "16"
            ]
          },
          "metadata": {},
          "execution_count": 86
        }
      ]
    },
    {
      "cell_type": "code",
      "source": [
        "import json\n",
        "import spacy\n",
        "\n",
        "nlp = spacy.load(\"en_core_web_sm\")\n",
        "\n",
        "with open(\"/content/tweets.json\", encoding=\"utf8\") as f:\n",
        "    TEXTS = json.loads(f.read())\n",
        "\n",
        "# Process the texts and print the adjectives\n",
        "for text in TEXTS:\n",
        "    doc = nlp(text)\n",
        "    print([token.text for token in doc if token.pos_ == \"ADJ\"])\n"
      ],
      "metadata": {
        "colab": {
          "base_uri": "https://localhost:8080/"
        },
        "id": "-oqmgbfYHduK",
        "outputId": "9911d47a-0428-425f-8671-0867f6a22f55"
      },
      "execution_count": 93,
      "outputs": [
        {
          "output_type": "stream",
          "name": "stdout",
          "text": [
            "['favorite', 'amazing']\n",
            "['sick']\n",
            "['great']\n",
            "['delicious', 'fast']\n",
            "['open']\n",
            "['terrible']\n"
          ]
        }
      ]
    },
    {
      "cell_type": "code",
      "source": [
        "import json\n",
        "import spacy\n",
        "\n",
        "nlp = spacy.load(\"en_core_web_sm\")\n",
        "\n",
        "with open(\"/content/tweet.json\", encoding=\"utf8\") as f:\n",
        "    TEXTS = json.loads(f.read())\n",
        "\n",
        "# Process the texts and print the entities\n",
        "for tweet in TEXTS:\n",
        "    text = tweet[\"text\"]\n",
        "    doc = nlp(text)\n",
        "    entities = [ent.text for ent in doc.ents]\n",
        "    print(entities)\n"
      ],
      "metadata": {
        "colab": {
          "base_uri": "https://localhost:8080/"
        },
        "id": "tv2eMoe4JBvA",
        "outputId": "221efd7b-1052-42c7-abcf-9a22c57ddb33"
      },
      "execution_count": 88,
      "outputs": [
        {
          "output_type": "stream",
          "name": "stdout",
          "text": [
            "['McDonalds']\n",
            "['McDonalds']\n",
            "['McDonalds', 'Spain']\n",
            "['the Arch Deluxe']\n",
            "['this morning']\n"
          ]
        }
      ]
    },
    {
      "cell_type": "code",
      "source": [
        "import spacy\n",
        "\n",
        "nlp = spacy.blank(\"en\")\n",
        "\n",
        "people = [\"David Bowie\", \"Angela Merkel\", \"Lady Gaga\"]\n",
        "\n",
        "# Create a list of patterns for the PhraseMatcher\n",
        "patterns = [nlp(person) for person in people]"
      ],
      "metadata": {
        "id": "_Sb7vodzKF-C"
      },
      "execution_count": 94,
      "outputs": []
    },
    {
      "cell_type": "code",
      "source": [
        "patterns"
      ],
      "metadata": {
        "colab": {
          "base_uri": "https://localhost:8080/"
        },
        "id": "S_VxtLJuKH2z",
        "outputId": "1e029f80-2b76-44c8-b5c0-76a5075b302b"
      },
      "execution_count": 95,
      "outputs": [
        {
          "output_type": "execute_result",
          "data": {
            "text/plain": [
              "[David Bowie, Angela Merkel, Lady Gaga]"
            ]
          },
          "metadata": {},
          "execution_count": 95
        }
      ]
    },
    {
      "cell_type": "code",
      "source": [
        "import json\n",
        "import spacy\n",
        "from spacy.tokens import Doc\n",
        "\n",
        "with open(\"/content/bookquotes.json\", encoding=\"utf8\") as f:\n",
        "    DATA = json.loads(f.read())\n",
        "\n",
        "nlp = spacy.blank(\"en\")\n",
        "\n",
        "# Register the Doc extension \"author\" (default None)\n",
        "Doc.set_extension(\"author\", default=None,force=True)\n",
        "\n",
        "# Register the Doc extension \"book\" (default None)\n",
        "Doc.set_extension(\"book\", default=None,force=True)\n",
        "\n",
        "for item in DATA:\n",
        "    text = item[\"text\"]\n",
        "    author = item[\"author\"]\n",
        "    book = item[\"book\"]\n",
        "\n",
        "    doc = nlp(text)\n",
        "    # Set the custom attributes \"book\" and \"author\" on the Doc object\n",
        "    doc._.book = book\n",
        "    doc._.author = author\n",
        "\n",
        "    # Print the text and custom attribute data\n",
        "    print(f\"{doc.text}\\n — '{doc._.book}' by {doc._.author}\\n\")\n",
        "\n"
      ],
      "metadata": {
        "colab": {
          "base_uri": "https://localhost:8080/"
        },
        "id": "6MJcVdrpKVOl",
        "outputId": "b4323140-aad2-430f-adfa-81afe93a5307"
      },
      "execution_count": 98,
      "outputs": [
        {
          "output_type": "stream",
          "name": "stdout",
          "text": [
            "One morning, when Gregor Samsa woke from troubled dreams, he found himself transformed in his bed into a horrible vermin.\n",
            " — 'Metamorphosis' by Franz Kafka\n",
            "\n",
            "I know not all that may be coming, but be it what it will, I'll go to it laughing.\n",
            " — 'Moby-Dick or, The Whale' by Herman Melville\n",
            "\n",
            "It was the best of times, it was the worst of times.\n",
            " — 'A Tale of Two Cities' by Charles Dickens\n",
            "\n",
            "The only people for me are the mad ones, the ones who are mad to live, mad to talk, mad to be saved, desirous of everything at the same time, the ones who never yawn or say a commonplace thing, but burn, burn, burn like fabulous yellow roman candles exploding like spiders across the stars.\n",
            " — 'On the Road' by Jack Kerouac\n",
            "\n",
            "It was a bright cold day in April, and the clocks were striking thirteen.\n",
            " — '1984' by George Orwell\n",
            "\n",
            "Nowadays people know the price of everything and the value of nothing.\n",
            " — 'The Picture Of Dorian Gray' by Oscar Wilde\n",
            "\n"
          ]
        }
      ]
    },
    {
      "cell_type": "code",
      "source": [
        "import json\n",
        "\n",
        "# Define the data\n",
        "DATA = [\n",
        "    {\"text\": \"One morning, when Gregor Samsa woke from troubled dreams, he found himself transformed in his bed into a horrible vermin.\", \"author\": \"Franz Kafka\", \"book\": \"Metamorphosis\"},\n",
        "    {\"text\": \"I know not all that may be coming, but be it what it will, I'll go to it laughing.\", \"author\": \"Herman Melville\", \"book\": \"Moby-Dick or, The Whale\"},\n",
        "    {\"text\": \"It was the best of times, it was the worst of times.\", \"author\": \"Charles Dickens\", \"book\": \"A Tale of Two Cities\"},\n",
        "    {\"text\": \"The only people for me are the mad ones, the ones who are mad to live, mad to talk, mad to be saved, desirous of everything at the same time, the ones who never yawn or say a commonplace thing, but burn, burn, burn like fabulous yellow roman candles exploding like spiders across the stars.\", \"author\": \"Jack Kerouac\", \"book\": \"On the Road\"},\n",
        "    {\"text\": \"It was a bright cold day in April, and the clocks were striking thirteen.\", \"author\": \"George Orwell\", \"book\": \"1984\"},\n",
        "    {\"text\": \"Nowadays people know the price of everything and the value of nothing.\", \"author\": \"Oscar Wilde\", \"book\": \"The Picture Of Dorian Gray\"}\n",
        "]\n",
        "\n",
        "# Save the data to a JSON file\n",
        "with open(\"bookquotes.json\", \"w\") as f:\n",
        "    json.dump(DATA, f, indent=4)\n"
      ],
      "metadata": {
        "id": "RK--TTZ1LTWb"
      },
      "execution_count": 97,
      "outputs": []
    },
    {
      "cell_type": "code",
      "source": [
        "import spacy\n",
        "\n",
        "nlp = spacy.load(\"en_core_web_sm\")\n",
        "text = (\n",
        "    \"Chick-fil-A is an American fast food restaurant chain headquartered in \"\n",
        "    \"the city of College Park, Georgia, specializing in chicken sandwiches.\"\n",
        ")\n",
        "\n",
        "# Only tokenize the text\n",
        "doc = nlp(text)\n",
        "print([token.text for token in doc])"
      ],
      "metadata": {
        "colab": {
          "base_uri": "https://localhost:8080/"
        },
        "id": "VHN5QNCcMh98",
        "outputId": "9f25f1b0-49b5-4804-bddd-81f787a60031"
      },
      "execution_count": 99,
      "outputs": [
        {
          "output_type": "stream",
          "name": "stdout",
          "text": [
            "['Chick', '-', 'fil', '-', 'A', 'is', 'an', 'American', 'fast', 'food', 'restaurant', 'chain', 'headquartered', 'in', 'the', 'city', 'of', 'College', 'Park', ',', 'Georgia', ',', 'specializing', 'in', 'chicken', 'sandwiches', '.']\n"
          ]
        }
      ]
    },
    {
      "cell_type": "code",
      "source": [
        "import spacy\n",
        "\n",
        "nlp = spacy.load(\"en_core_web_sm\")\n",
        "text = (\n",
        "    \"Chick-fil-A is an American fast food restaurant chain headquartered in \"\n",
        "    \"the city of College Park, Georgia, specializing in chicken sandwiches.\"\n",
        ")\n",
        "\n",
        "# Disable the tagger and lemmatizer\n",
        "with nlp.select_pipes(disable=[\"tagger\", \"lemmatizer\"]):\n",
        "    # Process the text\n",
        "    doc = nlp(text)\n",
        "    # Print the entities in the doc\n",
        "    print(doc.ents)"
      ],
      "metadata": {
        "colab": {
          "base_uri": "https://localhost:8080/"
        },
        "id": "tYyDBP3RMkr1",
        "outputId": "12d621b9-db90-44b3-c47f-37eaacaf9d22"
      },
      "execution_count": 100,
      "outputs": [
        {
          "output_type": "stream",
          "name": "stdout",
          "text": [
            "(Chick, American, College Park, Georgia)\n"
          ]
        }
      ]
    },
    {
      "cell_type": "code",
      "source": [
        "#will start ch-4"
      ],
      "metadata": {
        "id": "R55hHgcDM68-"
      },
      "execution_count": null,
      "outputs": []
    },
    {
      "cell_type": "code",
      "source": [
        "doc = nlp(\"iPhone X is coming\")\n",
        "doc.ents = [Span(doc, 0, 2, label=\"GADGET\")]"
      ],
      "metadata": {
        "id": "FFwmuf4TkxUN"
      },
      "execution_count": 101,
      "outputs": []
    },
    {
      "cell_type": "code",
      "source": [
        "doc.ents"
      ],
      "metadata": {
        "colab": {
          "base_uri": "https://localhost:8080/"
        },
        "id": "jGucZe6LlQey",
        "outputId": "4aa99f9a-a8cc-4248-a557-47c1666b912c"
      },
      "execution_count": 103,
      "outputs": [
        {
          "output_type": "execute_result",
          "data": {
            "text/plain": [
              "()"
            ]
          },
          "metadata": {},
          "execution_count": 103
        }
      ]
    },
    {
      "cell_type": "code",
      "source": [
        "doc = nlp(\"I need a new phone! Any tips?\")\n",
        "doc.ents = []"
      ],
      "metadata": {
        "id": "wESmwzVNlJ_r"
      },
      "execution_count": 104,
      "outputs": []
    },
    {
      "cell_type": "code",
      "source": [
        "import spacy\n",
        "\n",
        "nlp = spacy.blank(\"en\")\n",
        "\n",
        "# Create a Doc with entity spans\n",
        "doc1 = nlp(\"iPhone X is coming\")\n",
        "doc1.ents = [Span(doc1, 0, 2, label=\"GADGET\")]\n",
        "# Create another doc without entity spans\n",
        "doc2 = nlp(\"I need a new phone! Any tips?\")\n",
        "\n",
        "docs = [doc1, doc2]  # and so on..."
      ],
      "metadata": {
        "id": "rRqyCB0mleO9"
      },
      "execution_count": 105,
      "outputs": []
    },
    {
      "cell_type": "code",
      "source": [
        "docs"
      ],
      "metadata": {
        "colab": {
          "base_uri": "https://localhost:8080/"
        },
        "id": "ybRNweOtleHf",
        "outputId": "e87ba34c-0d9b-4b1e-c97c-2aa71f779ea8"
      },
      "execution_count": 106,
      "outputs": [
        {
          "output_type": "execute_result",
          "data": {
            "text/plain": [
              "[iPhone X is coming, I need a new phone! Any tips?]"
            ]
          },
          "metadata": {},
          "execution_count": 106
        }
      ]
    },
    {
      "cell_type": "code",
      "source": [
        "import json\n",
        "import spacy\n",
        "import random\n",
        "\n",
        "nlp = spacy.load(\"en_core_web_sm\")\n",
        "\n",
        "with open(\"/content/tweets.json\", encoding=\"utf8\") as f:\n",
        "    TEXTS = json.loads(f.read())\n",
        "\n",
        "# Process the texts and print the adjectives\n",
        "docs = [nlp(text) for text in TEXTS]\n",
        "random.shuffle(docs)  # Import random module and shuffle the list of docs\n",
        "train_docs = docs[:len(docs) // 2]\n",
        "dev_docs = docs[len(docs) // 2:]\n"
      ],
      "metadata": {
        "id": "OFDdV6RLl7ob"
      },
      "execution_count": 108,
      "outputs": []
    },
    {
      "cell_type": "code",
      "source": [
        "train_docs"
      ],
      "metadata": {
        "colab": {
          "base_uri": "https://localhost:8080/"
        },
        "id": "E4Wr8-NjmBTv",
        "outputId": "b9782dd9-2504-4941-e9ce-7775de0a0191"
      },
      "execution_count": 109,
      "outputs": [
        {
          "output_type": "execute_result",
          "data": {
            "text/plain": [
              "[Feeling sick today, need some rest.,\n",
              " My favorite restaurant is amazing!,\n",
              " The service was terrible, never going back.]"
            ]
          },
          "metadata": {},
          "execution_count": 109
        }
      ]
    },
    {
      "cell_type": "code",
      "source": [
        "dev_docs"
      ],
      "metadata": {
        "colab": {
          "base_uri": "https://localhost:8080/"
        },
        "id": "QRrd_p5CmD6i",
        "outputId": "08d19b02-dcf0-427d-c23c-452deb9f3c10"
      },
      "execution_count": 110,
      "outputs": [
        {
          "output_type": "execute_result",
          "data": {
            "text/plain": [
              "[Had a delicious and fast lunch today.,\n",
              " The restaurant is open now.,\n",
              " Just finished my workout, feeling great!]"
            ]
          },
          "metadata": {},
          "execution_count": 110
        }
      ]
    },
    {
      "cell_type": "code",
      "source": [
        "import spacy\n",
        "from spacy.tokens import DocBin  # Import DocBin\n",
        "\n",
        "nlp = spacy.load(\"en_core_web_sm\")\n",
        "\n",
        "# Assume train_docs and dev_docs are already defined\n",
        "train_docbin = DocBin(docs=train_docs)\n",
        "train_docbin.to_disk(\"./train.spacy\")\n",
        "# Create and save a collection of evaluation docs\n",
        "dev_docbin = DocBin(docs=dev_docs)\n",
        "dev_docbin.to_disk(\"./dev.spacy\")\n"
      ],
      "metadata": {
        "id": "ayDEcp9nmbYE"
      },
      "execution_count": 112,
      "outputs": []
    },
    {
      "cell_type": "code",
      "source": [
        "import json\n",
        "import spacy\n",
        "from spacy.tokens import Doc\n",
        "\n",
        "with open(\"/content/iphone.json\", encoding=\"utf8\") as f:\n",
        "    TEXTS = json.loads(f.read())\n",
        "\n",
        "nlp = spacy.blank(\"en\")\n",
        "matcher = Matcher(nlp.vocab)\n",
        "\n",
        "pattern1 = [{\"LOWER\": \"iphone\"}, {\"LOWER\": \"x\"}]\n",
        "pattern2 = [{\"LOWER\": \"iphone\"}, {\"IS_DIGIT\": True}]\n",
        "matcher.add(\"GADGET\", [pattern1, pattern2])\n",
        "\n",
        "matched_docs = []\n",
        "for text in TEXTS:\n",
        "    doc = nlp(text)\n",
        "    matches = matcher(doc)\n",
        "    spans = [Span(doc, start, end, label=match_id) for match_id, start, end in matches]\n",
        "    if spans:\n",
        "        matched_doc = Doc(doc.vocab, words=[t.text for t in doc])\n",
        "        matched_doc.ents = spans\n",
        "        matched_docs.append(matched_doc)\n",
        "\n",
        "# Now 'matched_docs' contains Doc objects with matched entities\n",
        "for doc in matched_docs:\n",
        "    print(doc.ents)\n"
      ],
      "metadata": {
        "colab": {
          "base_uri": "https://localhost:8080/"
        },
        "id": "4N7Ucu2nnWuy",
        "outputId": "2157ecda-0ea0-43a1-d087-5dde381bfa6b"
      },
      "execution_count": 120,
      "outputs": [
        {
          "output_type": "stream",
          "name": "stdout",
          "text": [
            "(iPhone X,)\n",
            "(iPhone X,)\n",
            "(iPhone X,)\n",
            "(iPhone 8,)\n",
            "(iPhone 11,)\n",
            "(iPhone 8,)\n"
          ]
        }
      ]
    },
    {
      "cell_type": "code",
      "source": [
        "import json\n",
        "import spacy\n",
        "from spacy.matcher import Matcher\n",
        "from spacy.tokens import Span, DocBin\n",
        "\n",
        "with open(\"/content/iphone.json\", encoding=\"utf8\") as f:\n",
        "    TEXTS = json.loads(f.read())\n",
        "\n",
        "nlp = spacy.blank(\"en\")\n",
        "matcher = Matcher(nlp.vocab)\n",
        "# Add patterns to the matcher\n",
        "pattern1 = ([{\"LOWER\": \"iphone\"}, {\"LOWER\": \"x\"}])\n",
        "pattern2 = [{\"LOWER\": \"iphone\"}, {\"IS_DIGIT\": True}]\n",
        "matcher.add(\"GADGET\", [pattern1, pattern2])\n",
        "docs = []\n",
        "for doc in nlp.pipe(TEXTS):\n",
        "    matches = matcher(doc)\n",
        "    spans = [Span(doc, start, end, label=match_id) for match_id, start, end in matches]\n",
        "    doc.ents = spans\n",
        "    docs.append(doc)\n",
        "\n",
        "doc_bin = DocBin(docs=docs)\n",
        "doc_bin.to_disk(\"./trains.spacy\")"
      ],
      "metadata": {
        "id": "HCoV89QcpYfv"
      },
      "execution_count": 122,
      "outputs": []
    },
    {
      "cell_type": "code",
      "source": [],
      "metadata": {
        "id": "CLaVH7xTp68H"
      },
      "execution_count": 125,
      "outputs": []
    }
  ]
}